{
  "nbformat": 4,
  "nbformat_minor": 0,
  "metadata": {
    "colab": {
      "name": "lab01.ipynb",
      "provenance": [],
      "toc_visible": true,
      "authorship_tag": "ABX9TyMEITzA66Z9lcni3OI4Za6b",
      "include_colab_link": true
    },
    "kernelspec": {
      "name": "python3",
      "display_name": "Python 3"
    }
  },
  "cells": [
    {
      "cell_type": "markdown",
      "metadata": {
        "id": "view-in-github",
        "colab_type": "text"
      },
      "source": [
        "<a href=\"https://colab.research.google.com/github/alagarde-bit/Data-Mining-and-Machine-Learning/blob/main/lab01.ipynb\" target=\"_parent\"><img src=\"https://colab.research.google.com/assets/colab-badge.svg\" alt=\"Open In Colab\"/></a>"
      ]
    },
    {
      "cell_type": "markdown",
      "metadata": {
        "id": "vsvKofHiuRTV"
      },
      "source": [
        "# Lab 1 Python Basics\n",
        "## Alex Lagarde\n",
        "### 2/8/21\n"
      ]
    },
    {
      "cell_type": "code",
      "metadata": {
        "colab": {
          "base_uri": "https://localhost:8080/",
          "height": 718
        },
        "id": "rED_z1QPu7fD",
        "outputId": "4cb477ae-13cc-413c-c09a-b4c2a491bf76"
      },
      "source": [
        "import operator\n",
        "import matplotlib.pyplot as plt\n",
        "\n",
        "counts = {}\n",
        "with open('lab01_testFile.txt', 'r') as f:\n",
        "  for line in f:\n",
        "    line = line.replace(\".\", \"\")\n",
        "    words = line.split(sep = \" \") \n",
        "    print(words)\n",
        "\n",
        "    for word in words: \n",
        "      word = word.rstrip(\"\\n\")\n",
        "      if word in counts:\n",
        "        counts[word]+= 1\n",
        "      else:\n",
        "        counts[word] = 1\n",
        "\n",
        "sort_words = sorted(counts.items(), key = operator.itemgetter(1), reverse=True)\n",
        "for i in sort_words:\n",
        "  print(i)\n",
        "\n",
        "all_words = list(counts.keys())\n",
        "all_counts = list(counts.values())\n",
        "plt.barh(all_words, all_counts)\n",
        "plt.show()\n",
        "\n"
      ],
      "execution_count": null,
      "outputs": [
        {
          "output_type": "stream",
          "text": [
            "['Words', 'words', 'words\\n']\n",
            "['So', 'many', 'words', 'and', 'so', 'little', 'time\\n']\n",
            "[\"Let's\", 'use', 'Python', 'to', 'read', 'the', 'words', 'and', 'summarize', 'them', 'for', 'us\\n']\n",
            "['A', 'little', 'Python', 'is', 'a', 'powerful', 'thing']\n",
            "('words', 4)\n",
            "('and', 2)\n",
            "('little', 2)\n",
            "('Python', 2)\n",
            "('Words', 1)\n",
            "('So', 1)\n",
            "('many', 1)\n",
            "('so', 1)\n",
            "('time', 1)\n",
            "(\"Let's\", 1)\n",
            "('use', 1)\n",
            "('to', 1)\n",
            "('read', 1)\n",
            "('the', 1)\n",
            "('summarize', 1)\n",
            "('them', 1)\n",
            "('for', 1)\n",
            "('us', 1)\n",
            "('A', 1)\n",
            "('is', 1)\n",
            "('a', 1)\n",
            "('powerful', 1)\n",
            "('thing', 1)\n"
          ],
          "name": "stdout"
        },
        {
          "output_type": "display_data",
          "data": {
            "image/png": "[encoded data removed]",
            "text/plain": [
              "<Figure size 432x288 with 1 Axes>"
            ]
          },
          "metadata": {
            "tags": [],
            "needs_background": "light"
          }
        }
      ]
    }
  ]
}