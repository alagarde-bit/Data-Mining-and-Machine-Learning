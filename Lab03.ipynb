{
  "nbformat": 4,
  "nbformat_minor": 0,
  "metadata": {
    "colab": {
      "name": "Lab03.ipynb",
      "provenance": [],
      "toc_visible": true,
      "authorship_tag": "ABX9TyMVYJR/VGklDyjlX+eRD4V1",
      "include_colab_link": true
    },
    "kernelspec": {
      "name": "python3",
      "display_name": "Python 3"
    }
  },
  "cells": [
    {
      "cell_type": "markdown",
      "metadata": {
        "id": "view-in-github",
        "colab_type": "text"
      },
      "source": [
        "<a href=\"https://colab.research.google.com/github/alagarde-bit/Data-Mining-and-Machine-Learning/blob/main/Lab03.ipynb\" target=\"_parent\"><img src=\"https://colab.research.google.com/assets/colab-badge.svg\" alt=\"Open In Colab\"/></a>"
      ]
    },
    {
      "cell_type": "markdown",
      "metadata": {
        "id": "vCX5IgMfpKF0"
      },
      "source": [
        "# Lab 03 Pandas\n",
        "## CSC 401\n",
        "## Alex Lagarde\n",
        "### 2/15/21"
      ]
    },
    {
      "cell_type": "code",
      "metadata": {
        "id": "lsB2jEo0puxe"
      },
      "source": [
        "import numpy as np\n",
        "import matplotlib.pyplot as plt\n",
        "import pandas as pd\n"
      ],
      "execution_count": null,
      "outputs": []
    },
    {
      "cell_type": "code",
      "metadata": {
        "colab": {
          "base_uri": "https://localhost:8080/"
        },
        "id": "wgYH5HLwqqf4",
        "outputId": "9412d96f-38b6-4072-b825-98d3c06a54c8"
      },
      "source": [
        "co_df = pd.read_csv('fortune500.csv', sep = ',')\n",
        "print(co_df.head(6))"
      ],
      "execution_count": null,
      "outputs": [
        {
          "output_type": "stream",
          "text": [
            "   Year  Rank           Company  Revenue (in millions) Profit (in millions)\n",
            "0  1955     1    General Motors                 9823.5                  806\n",
            "1  1955     2       Exxon Mobil                 5661.4                584.8\n",
            "2  1955     3        U.S. Steel                 3250.4                195.4\n",
            "3  1955     4  General Electric                 2959.1                212.6\n",
            "4  1955     5            Esmark                 2510.8                 19.1\n",
            "5  1955     6          Chrysler                 2071.6                 18.5\n"
          ],
          "name": "stdout"
        }
      ]
    },
    {
      "cell_type": "code",
      "metadata": {
        "colab": {
          "base_uri": "https://localhost:8080/"
        },
        "id": "gVTJNCRsq5SE",
        "outputId": "ba35b00c-0f53-4886-cd56-e17ba14cd6dd"
      },
      "source": [
        "print(co_df.describe().round(2))"
      ],
      "execution_count": null,
      "outputs": [
        {
          "output_type": "stream",
          "text": [
            "           Year      Rank  Revenue (in millions)\n",
            "count  25500.00  25500.00               25500.00\n",
            "mean    1980.00    250.50                4273.33\n",
            "std       14.72    144.34               11351.88\n",
            "min     1955.00      1.00                  49.70\n",
            "25%     1967.00    125.75                 362.30\n",
            "50%     1980.00    250.50                1019.00\n",
            "75%     1993.00    375.25                3871.00\n",
            "max     2005.00    500.00              288189.00\n"
          ],
          "name": "stdout"
        }
      ]
    },
    {
      "cell_type": "code",
      "metadata": {
        "colab": {
          "base_uri": "https://localhost:8080/"
        },
        "id": "hDh682ParfuT",
        "outputId": "78e7ddf2-00ec-4be6-a074-b080284024a7"
      },
      "source": [
        "print(co_df.dtypes)"
      ],
      "execution_count": null,
      "outputs": [
        {
          "output_type": "stream",
          "text": [
            "Year                       int64\n",
            "Rank                       int64\n",
            "Company                   object\n",
            "Revenue (in millions)    float64\n",
            "Profit (in millions)      object\n",
            "dtype: object\n"
          ],
          "name": "stdout"
        }
      ]
    },
    {
      "cell_type": "code",
      "metadata": {
        "colab": {
          "base_uri": "https://localhost:8080/"
        },
        "id": "h87ehYObr4Qz",
        "outputId": "f47e246a-0660-49eb-9bea-e482555aaf09"
      },
      "source": [
        "profit = co_df['Profit (in millions)']\n",
        "bad = profit.str.contains('[^0-9.-]')\n",
        "print(profit[bad][:10])\n",
        "print('Number of bad values:', profit[bad].count())"
      ],
      "execution_count": null,
      "outputs": [
        {
          "output_type": "stream",
          "text": [
            "228     N.A.\n",
            "290     N.A.\n",
            "294     N.A.\n",
            "296     N.A.\n",
            "352     N.A.\n",
            "464     N.A.\n",
            "712     N.A.\n",
            "857     N.A.\n",
            "1225    N.A.\n",
            "1372    N.A.\n",
            "Name: Profit (in millions), dtype: object\n",
            "Number of bad values: 369\n"
          ],
          "name": "stdout"
        }
      ]
    },
    {
      "cell_type": "code",
      "metadata": {
        "id": "SinoOTFisr4G"
      },
      "source": [
        "min_year = co_df.min()['Year']\n",
        "max_year = co_df.max()['Year']\n",
        "bins = np.arange(min_year, max_year + 1)\n"
      ],
      "execution_count": null,
      "outputs": []
    },
    {
      "cell_type": "code",
      "metadata": {
        "id": "UkD8bt0cu6-P"
      },
      "source": [
        "bad_years = co_df['Year'][bad]\n"
      ],
      "execution_count": null,
      "outputs": []
    },
    {
      "cell_type": "code",
      "metadata": {
        "colab": {
          "base_uri": "https://localhost:8080/",
          "height": 295
        },
        "id": "IVvx2Zirw2nx",
        "outputId": "ddfbd211-a5e6-4e4e-f736-61f5a3107ba4"
      },
      "source": [
        "plt.hist(bad_years, bins)\n",
        "plt.xlabel('Year')\n",
        "plt.ylabel('Count')\n",
        "plt.title('Number of Non-Numeric Profit Values per Year')\n",
        "plt.show()"
      ],
      "execution_count": null,
      "outputs": [
        {
          "output_type": "display_data",
          "data": {
            "image/png": "[encoded data removed]",
            "text/plain": [
              "<Figure size 432x288 with 1 Axes>"
            ]
          },
          "metadata": {
            "tags": [],
            "needs_background": "light"
          }
        }
      ]
    },
    {
      "cell_type": "code",
      "metadata": {
        "id": "fLHxMVaRyhww"
      },
      "source": [
        "co_df_clean = co_df[~bad]"
      ],
      "execution_count": null,
      "outputs": []
    },
    {
      "cell_type": "code",
      "metadata": {
        "colab": {
          "base_uri": "https://localhost:8080/"
        },
        "id": "rys4oefj1Ewf",
        "outputId": "6f5ea98a-03e0-42e4-ecb0-feb4d075e5d9"
      },
      "source": [
        "co_df_clean['Profit (in millions)'] = co_df_clean['Profit (in millions)'].astype(float)\n",
        "print(co_df_clean.describe().round(2))"
      ],
      "execution_count": null,
      "outputs": [
        {
          "output_type": "stream",
          "text": [
            "           Year      Rank  Revenue (in millions)  Profit (in millions)\n",
            "count  25131.00  25131.00               25131.00               25131.0\n",
            "mean    1979.93    249.74                4304.96                 207.9\n",
            "std       14.76    144.44               11396.72                1173.7\n",
            "min     1955.00      1.00                  49.70              -98696.0\n",
            "25%     1967.00    124.00                 357.90                   8.9\n",
            "50%     1980.00    250.00                1017.60                  35.5\n",
            "75%     1993.00    375.00                3916.10                 150.5\n",
            "max     2005.00    500.00              288189.00               25330.0\n"
          ],
          "name": "stdout"
        },
        {
          "output_type": "stream",
          "text": [
            "/usr/local/lib/python3.6/dist-packages/ipykernel_launcher.py:1: SettingWithCopyWarning: \n",
            "A value is trying to be set on a copy of a slice from a DataFrame.\n",
            "Try using .loc[row_indexer,col_indexer] = value instead\n",
            "\n",
            "See the caveats in the documentation: https://pandas.pydata.org/pandas-docs/stable/user_guide/indexing.html#returning-a-view-versus-a-copy\n",
            "  \"\"\"Entry point for launching an IPython kernel.\n"
          ],
          "name": "stderr"
        }
      ]
    },
    {
      "cell_type": "code",
      "metadata": {
        "colab": {
          "base_uri": "https://localhost:8080/",
          "height": 295
        },
        "id": "XAjU1ivd1G1P",
        "outputId": "6e1cac67-bc88-4deb-ee68-6dc57ba145b0"
      },
      "source": [
        "fig = plt.figure(figsize=(10,4))\n",
        "ax = fig.add_subplot(111)\n",
        "co_df_clean.plot(kind = 'scatter', x = 'Year', y = 'Revenue (in millions)', label = 'Revenue', color ='black', alpha = 0.1, ax = ax)\n",
        "co_df_clean.plot(kind = 'scatter', x = 'Year', y = 'Profit (in millions)', label = 'Profit', color = 'red', alpha = 0.2, ax = ax)\n",
        "plt.ylabel('$ (in millions)')\n",
        "plt.xlabel('Year')\n",
        "plt.title('Fortune 500 Company Revenue and Profit from 1955 to 2005')\n",
        "plt.legend()\n",
        "plt.show()\n"
      ],
      "execution_count": null,
      "outputs": [
        {
          "output_type": "display_data",
          "data": {
            "image/png": "[encoded data removed]",
            "text/plain": [
              "<Figure size 720x288 with 1 Axes>"
            ]
          },
          "metadata": {
            "tags": [],
            "needs_background": "light"
          }
        }
      ]
    },
    {
      "cell_type": "markdown",
      "metadata": {
        "id": "_aRM_mE2KQb1"
      },
      "source": [
        "Yearly total profits, in millions of dollars, for Fortune 500 companies from 1955 to 2005 tended to remain fairly steady for 50 years. However, starting a little after 1970, there tended to be a considerable yearly rise in revenue. "
      ]
    }
  ]
}