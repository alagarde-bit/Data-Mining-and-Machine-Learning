{
  "nbformat": 4,
  "nbformat_minor": 0,
  "metadata": {
    "colab": {
      "name": "lab06.ipynb",
      "provenance": [],
      "collapsed_sections": [],
      "authorship_tag": "ABX9TyOjmg81ytRIp9WFweYZwg1r",
      "include_colab_link": true
    },
    "kernelspec": {
      "name": "python3",
      "display_name": "Python 3"
    }
  },
  "cells": [
    {
      "cell_type": "markdown",
      "metadata": {
        "id": "view-in-github",
        "colab_type": "text"
      },
      "source": [
        "<a href=\"https://colab.research.google.com/github/alagarde-bit/Data-Mining-and-Machine-Learning/blob/main/lab06.ipynb\" target=\"_parent\"><img src=\"https://colab.research.google.com/assets/colab-badge.svg\" alt=\"Open In Colab\"/></a>"
      ]
    },
    {
      "cell_type": "markdown",
      "metadata": {
        "id": "rw69HXHaxFqJ"
      },
      "source": [
        "# Lab 06 Text Mining TFIDF\n",
        "## CSC 401 Lab\n",
        "## Alex Lagarde\n",
        "### 3/1/21"
      ]
    },
    {
      "cell_type": "markdown",
      "metadata": {
        "id": "TPV8oarwxyP0"
      },
      "source": [
        "### 3. What are your impressions of data mining and machine learning (the concepts, not the course)?"
      ]
    },
    {
      "cell_type": "markdown",
      "metadata": {
        "id": "HA1znU_JxVB3"
      },
      "source": [
        "I think it is about finding patterns to help make accurate predictions when given new data to make decisions more efficient."
      ]
    },
    {
      "cell_type": "markdown",
      "metadata": {
        "id": "gPwvX6XQa0h3"
      },
      "source": [
        "### 4. Writing Code"
      ]
    },
    {
      "cell_type": "code",
      "metadata": {
        "id": "KC757TMuxwKn"
      },
      "source": [
        "# a. importing libraries \n",
        "import numpy as np\n",
        "import pandas as pd\n",
        "import matplotlib.pyplot as plt\n",
        "import seaborn as sns\n",
        "from scipy.spatial import distance\n",
        "from sklearn.feature_extraction.text import CountVectorizer\n",
        "from sklearn.feature_extraction.text import TfidfTransformer\n",
        "from sklearn.neighbors import NearestNeighbors"
      ],
      "execution_count": null,
      "outputs": []
    },
    {
      "cell_type": "code",
      "metadata": {
        "colab": {
          "base_uri": "https://localhost:8080/",
          "height": 1000
        },
        "id": "YCT4wXwgj-d7",
        "outputId": "d46b87be-675f-4e4c-97de-007f132745e9"
      },
      "source": [
        "# b. reading csv link into pandas dataframe \n",
        "df = pd.read_csv('https://drive.google.com/uc?export=download&id=1u_8wAeimcuUtZSgcDhvhd0SK8KE5fHS5')\n",
        "df.head(5)"
      ],
      "execution_count": null,
      "outputs": [
        {
          "output_type": "execute_result",
          "data": {
            "text/html": [
              "<div>\n",
              "<style scoped>\n",
              "    .dataframe tbody tr th:only-of-type {\n",
              "        vertical-align: middle;\n",
              "    }\n",
              "\n",
              "    .dataframe tbody tr th {\n",
              "        vertical-align: top;\n",
              "    }\n",
              "\n",
              "    .dataframe thead th {\n",
              "        text-align: right;\n",
              "    }\n",
              "</style>\n",
              "<table border=\"1\" class=\"dataframe\">\n",
              "  <thead>\n",
              "    <tr style=\"text-align: right;\">\n",
              "      <th></th>\n",
              "      <th>Impressions</th>\n",
              "      <th>Courses</th>\n",
              "      <th>Motivation_grade</th>\n",
              "      <th>Motivation_future_career</th>\n",
              "      <th>Motivation_intellectual_challenge</th>\n",
              "      <th>Motivation_code_cool_stuff</th>\n",
              "      <th>Motivation_social_interaction</th>\n",
              "      <th>Motivation_ahead_of_time</th>\n",
              "      <th>Confidence_java</th>\n",
              "      <th>Confidence_python</th>\n",
              "      <th>Confidence_nested_loops</th>\n",
              "      <th>Confidence_pseudocode</th>\n",
              "      <th>Confidence_summations</th>\n",
              "      <th>Confidence_partial_derivatives</th>\n",
              "      <th>Confidence_vector_dot_product</th>\n",
              "      <th>Confidence_linear_regression</th>\n",
              "      <th>Confidence_conditional_probability</th>\n",
              "    </tr>\n",
              "  </thead>\n",
              "  <tbody>\n",
              "    <tr>\n",
              "      <th>0</th>\n",
              "      <td>buzzwordy, but needed. I'm excited to learn deeper methods of data mining and machine learning. Usually when I see machine learning, I assume that people are just applying models, so I'm curious about what we'll learn.</td>\n",
              "      <td>CSC 111 Data Science and Visualization, CSC 230 Computer Science II, CSC 301 Database Systems</td>\n",
              "      <td>6.0</td>\n",
              "      <td>7.0</td>\n",
              "      <td>7.0</td>\n",
              "      <td>7.0</td>\n",
              "      <td>4.0</td>\n",
              "      <td>4.0</td>\n",
              "      <td>7.0</td>\n",
              "      <td>5.0</td>\n",
              "      <td>7.0</td>\n",
              "      <td>6.0</td>\n",
              "      <td>1.0</td>\n",
              "      <td>1.0</td>\n",
              "      <td>1.0</td>\n",
              "      <td>3.0</td>\n",
              "      <td>5.0</td>\n",
              "    </tr>\n",
              "    <tr>\n",
              "      <th>1</th>\n",
              "      <td>I don’t know much about them</td>\n",
              "      <td>CSC 230 Computer Science II, CSC 301 Database Systems, CSC 335 Programming Languages, CSC 340 Mobile App Development</td>\n",
              "      <td>6.0</td>\n",
              "      <td>4.0</td>\n",
              "      <td>4.0</td>\n",
              "      <td>6.0</td>\n",
              "      <td>2.0</td>\n",
              "      <td>4.0</td>\n",
              "      <td>5.0</td>\n",
              "      <td>5.0</td>\n",
              "      <td>6.0</td>\n",
              "      <td>6.0</td>\n",
              "      <td>3.0</td>\n",
              "      <td>3.0</td>\n",
              "      <td>2.0</td>\n",
              "      <td>2.0</td>\n",
              "      <td>6.0</td>\n",
              "    </tr>\n",
              "    <tr>\n",
              "      <th>2</th>\n",
              "      <td>These two concepts seem intimately intertwined. The DM part of the course seems to be centered around web crawling? And the ML part is more math based with less coding and more \"tying togetherness.\" Very excited for the course.</td>\n",
              "      <td>CSC 111 Data Science and Visualization, CSC 230 Computer Science II, CSC 301 Database Systems, CSC 320 Web Development</td>\n",
              "      <td>6.0</td>\n",
              "      <td>7.0</td>\n",
              "      <td>5.0</td>\n",
              "      <td>6.0</td>\n",
              "      <td>6.0</td>\n",
              "      <td>6.0</td>\n",
              "      <td>5.0</td>\n",
              "      <td>7.0</td>\n",
              "      <td>7.0</td>\n",
              "      <td>7.0</td>\n",
              "      <td>4.0</td>\n",
              "      <td>6.0</td>\n",
              "      <td>2.0</td>\n",
              "      <td>7.0</td>\n",
              "      <td>4.0</td>\n",
              "    </tr>\n",
              "    <tr>\n",
              "      <th>3</th>\n",
              "      <td>To me, data mining is being able to harvest data of interest to inform and make decisions. And machine learning is teaching machines tasks to increase efficiency and accuracy.</td>\n",
              "      <td>CSC 230 Computer Science II, CSC 242 Organization and Architecture, CSC 301 Database Systems, CSC 320 Web Development, CSC 331 Algorithm Analysis, CSC 335 Programming Languages, CSC 340 Mobile App Development</td>\n",
              "      <td>7.0</td>\n",
              "      <td>7.0</td>\n",
              "      <td>6.0</td>\n",
              "      <td>6.0</td>\n",
              "      <td>3.0</td>\n",
              "      <td>7.0</td>\n",
              "      <td>7.0</td>\n",
              "      <td>2.0</td>\n",
              "      <td>7.0</td>\n",
              "      <td>6.0</td>\n",
              "      <td>7.0</td>\n",
              "      <td>3.0</td>\n",
              "      <td>1.0</td>\n",
              "      <td>2.0</td>\n",
              "      <td>4.0</td>\n",
              "    </tr>\n",
              "    <tr>\n",
              "      <th>4</th>\n",
              "      <td>I believe data mining is looking through code and data to try to find answers to potential questions. Machine learning is programing a machine to be able to learn and improve on its own to become more efficient.</td>\n",
              "      <td>CSC 230 Computer Science II, CSC 242 Organization and Architecture, CSC 301 Database Systems, CSC 320 Web Development, CSC 321 Robotics, CSC 331 Algorithm Analysis, CSC 335 Programming Languages, CSC 340 Mobile App Development</td>\n",
              "      <td>7.0</td>\n",
              "      <td>6.0</td>\n",
              "      <td>5.0</td>\n",
              "      <td>7.0</td>\n",
              "      <td>4.0</td>\n",
              "      <td>5.0</td>\n",
              "      <td>4.0</td>\n",
              "      <td>3.0</td>\n",
              "      <td>4.0</td>\n",
              "      <td>3.0</td>\n",
              "      <td>4.0</td>\n",
              "      <td>4.0</td>\n",
              "      <td>1.0</td>\n",
              "      <td>2.0</td>\n",
              "      <td>2.0</td>\n",
              "    </tr>\n",
              "  </tbody>\n",
              "</table>\n",
              "</div>"
            ],
            "text/plain": [
              "                                                                                                                                                                                                                           Impressions  ... Confidence_conditional_probability\n",
              "0           buzzwordy, but needed. I'm excited to learn deeper methods of data mining and machine learning. Usually when I see machine learning, I assume that people are just applying models, so I'm curious about what we'll learn.  ...                                5.0\n",
              "1                                                                                                                                                                                                         I don’t know much about them  ...                                6.0\n",
              "2  These two concepts seem intimately intertwined. The DM part of the course seems to be centered around web crawling? And the ML part is more math based with less coding and more \"tying togetherness.\" Very excited for the course.  ...                                4.0\n",
              "3                                                      To me, data mining is being able to harvest data of interest to inform and make decisions. And machine learning is teaching machines tasks to increase efficiency and accuracy.  ...                                4.0\n",
              "4                  I believe data mining is looking through code and data to try to find answers to potential questions. Machine learning is programing a machine to be able to learn and improve on its own to become more efficient.  ...                                2.0\n",
              "\n",
              "[5 rows x 17 columns]"
            ]
          },
          "metadata": {
            "tags": []
          },
          "execution_count": 119
        }
      ]
    },
    {
      "cell_type": "code",
      "metadata": {
        "colab": {
          "base_uri": "https://localhost:8080/"
        },
        "id": "NyqfLn3D1BON",
        "outputId": "e5568fe8-e1fe-47fd-9e87-f9c5872035b8"
      },
      "source": [
        "# c. display the last few rows and remove bad rows\n",
        "print(df.tail(5))\n",
        "df.dropna(inplace=True)\n",
        "print(df.tail(5))"
      ],
      "execution_count": null,
      "outputs": [
        {
          "output_type": "stream",
          "text": [
            "   Impressions  ... Confidence_conditional_probability\n",
            "29         NaN  ...                                NaN\n",
            "30         NaN  ...                                NaN\n",
            "31         NaN  ...                                NaN\n",
            "32         NaN  ...                                NaN\n",
            "33         NaN  ...                                NaN\n",
            "\n",
            "[5 rows x 17 columns]\n",
            "                                                                                                                                                                                                      Impressions  ... Confidence_conditional_probability\n",
            "19                                 Having taken \"data mining\" in the business school, I believe the topic is mostly how to manipulate data to fit an algorithm/model that helps to solve or understand a problem.  ...                                2.0\n",
            "20  I've had a bit of exposure to machine learning (business uses) in some prior internships, but not much hands-on. I'm assuming big data will be an important topic in the course when it comes to data mining.  ...                                7.0\n",
            "21                                                                                                                              Cleaning, transforming, mining data with the ability to do analysis with the data  ...                                6.0\n",
            "22                                                                                                                                                                                                    Sounds cool  ...                                6.0\n",
            "23                                                                                                                            I think data mining is very powerful, and can be used in a good and meaningful way.  ...                                5.0\n",
            "\n",
            "[5 rows x 17 columns]\n"
          ],
          "name": "stdout"
        }
      ]
    },
    {
      "cell_type": "code",
      "metadata": {
        "colab": {
          "base_uri": "https://localhost:8080/"
        },
        "id": "JAMaeQeH11vs",
        "outputId": "8b2c05c1-ce94-49d1-fa5a-6b48d6e3d817"
      },
      "source": [
        "# d. Pulling out impressions column into variable impressions and displaying first few rows\n",
        "pd.set_option('display.max_colwidth', None)\n",
        "impressions = df['Impressions']\n",
        "impressions.head(5)"
      ],
      "execution_count": null,
      "outputs": [
        {
          "output_type": "execute_result",
          "data": {
            "text/plain": [
              "0             buzzwordy, but needed. I'm excited to learn deeper methods of data mining and machine learning. Usually when I see machine learning, I assume that people are just applying models, so I'm curious about what we'll learn.\n",
              "1                                                                                                                                                                                                           I don’t know much about them\n",
              "2    These two concepts seem intimately intertwined. The DM part of the course seems to be centered around web crawling? And the ML part is more math based with less coding and more \"tying togetherness.\" Very excited for the course.\n",
              "3                                                        To me, data mining is being able to harvest data of interest to inform and make decisions. And machine learning is teaching machines tasks to increase efficiency and accuracy.\n",
              "4                    I believe data mining is looking through code and data to try to find answers to potential questions. Machine learning is programing a machine to be able to learn and improve on its own to become more efficient.\n",
              "Name: Impressions, dtype: object"
            ]
          },
          "metadata": {
            "tags": []
          },
          "execution_count": 121
        }
      ]
    },
    {
      "cell_type": "code",
      "metadata": {
        "colab": {
          "base_uri": "https://localhost:8080/"
        },
        "id": "ScQc0h0F5wHz",
        "outputId": "71ae365b-4792-4332-bb89-8a286735069b"
      },
      "source": [
        "# e. Making a list of unhelpful words named stop_words\n",
        "stop_words = ['I', 'it', 'so', 'what', 'in', 'and', 'the', 'is', 'of', 'on', 'its','am', \"I'm\", \"we'll\", 'have', 'an', 'be', 've']\n",
        "# f. Extract terms and Count Occurences\n",
        "count_vec = CountVectorizer(lowercase=True, stop_words=stop_words)\n",
        "sparse = count_vec.fit_transform(impressions)\n",
        "# g. Print out the first 10 features (terms) and the counts for the first 5 examples\n",
        "terms = count_vec.get_feature_names()\n",
        "counts = sparse.todense()\n",
        "for x in np.arange(0,10):\n",
        "  print('Feature:', terms[x], '\\n Counts: \\n', counts[:5, x])"
      ],
      "execution_count": null,
      "outputs": [
        {
          "output_type": "stream",
          "text": [
            "Feature: ability \n",
            " Counts: \n",
            " [[0]\n",
            " [0]\n",
            " [0]\n",
            " [0]\n",
            " [0]]\n",
            "Feature: able \n",
            " Counts: \n",
            " [[0]\n",
            " [0]\n",
            " [0]\n",
            " [1]\n",
            " [1]]\n",
            "Feature: about \n",
            " Counts: \n",
            " [[1]\n",
            " [1]\n",
            " [0]\n",
            " [0]\n",
            " [0]]\n",
            "Feature: accuracy \n",
            " Counts: \n",
            " [[0]\n",
            " [0]\n",
            " [0]\n",
            " [1]\n",
            " [0]]\n",
            "Feature: aid \n",
            " Counts: \n",
            " [[0]\n",
            " [0]\n",
            " [0]\n",
            " [0]\n",
            " [0]]\n",
            "Feature: algorithm \n",
            " Counts: \n",
            " [[0]\n",
            " [0]\n",
            " [0]\n",
            " [0]\n",
            " [0]]\n",
            "Feature: amazon \n",
            " Counts: \n",
            " [[0]\n",
            " [0]\n",
            " [0]\n",
            " [0]\n",
            " [0]]\n",
            "Feature: analysis \n",
            " Counts: \n",
            " [[0]\n",
            " [0]\n",
            " [0]\n",
            " [0]\n",
            " [0]]\n",
            "Feature: analytics \n",
            " Counts: \n",
            " [[0]\n",
            " [0]\n",
            " [0]\n",
            " [0]\n",
            " [0]]\n",
            "Feature: analyze \n",
            " Counts: \n",
            " [[0]\n",
            " [0]\n",
            " [0]\n",
            " [0]\n",
            " [0]]\n"
          ],
          "name": "stdout"
        },
        {
          "output_type": "stream",
          "text": [
            "/usr/local/lib/python3.7/dist-packages/sklearn/feature_extraction/text.py:385: UserWarning: Your stop_words may be inconsistent with your preprocessing. Tokenizing the stop words generated tokens ['ll', 'we'] not in stop_words.\n",
            "  'stop_words.' % sorted(inconsistent))\n"
          ],
          "name": "stderr"
        }
      ]
    },
    {
      "cell_type": "code",
      "metadata": {
        "colab": {
          "base_uri": "https://localhost:8080/"
        },
        "id": "eQwv6G6GN3TO",
        "outputId": "10076848-b44c-4620-fa7d-55305d59707b"
      },
      "source": [
        "# h. Creating a matrix of TF-IDF scores\n",
        "tfidf_t = TfidfTransformer()\n",
        "sparse_tfidf = tfidf_t.fit_transform(counts)\n",
        "tfidf = sparse_tfidf.todense()\n",
        "tfidf\n"
      ],
      "execution_count": null,
      "outputs": [
        {
          "output_type": "execute_result",
          "data": {
            "text/plain": [
              "matrix([[0.        , 0.        , 0.14555774, ..., 0.        , 0.        ,\n",
              "         0.        ],\n",
              "        [0.        , 0.        , 0.35205268, ..., 0.        , 0.        ,\n",
              "         0.        ],\n",
              "        [0.        , 0.        , 0.        , ..., 0.13341156, 0.        ,\n",
              "         0.        ],\n",
              "        ...,\n",
              "        [0.35632878, 0.        , 0.        , ..., 0.52744719, 0.        ,\n",
              "         0.        ],\n",
              "        [0.        , 0.        , 0.        , ..., 0.        , 0.        ,\n",
              "         0.        ],\n",
              "        [0.        , 0.        , 0.        , ..., 0.        , 0.        ,\n",
              "         0.        ]])"
            ]
          },
          "metadata": {
            "tags": []
          },
          "execution_count": 123
        }
      ]
    },
    {
      "cell_type": "code",
      "metadata": {
        "colab": {
          "base_uri": "https://localhost:8080/",
          "height": 397
        },
        "id": "WMQWKSEWV-Iu",
        "outputId": "982c43cc-3021-4cfc-a648-0b00b1518f30"
      },
      "source": [
        "# i. Displaying heatmap all rows but just 40 columns\n",
        "plt.figure(figsize=(20, 5))\n",
        "sns.heatmap(tfidf[:, :40], square=False, annot=False, cbar=True, cmap=\"BuPu\",\n",
        "            xticklabels=terms[:40])\n",
        "\n",
        "plt.xticks(rotation=90) \n",
        "plt.xlabel('Features')\n",
        "plt.ylabel('Examples')\n",
        "plt.title('TF-IDF Feature Vectors')\n",
        "plt.show()"
      ],
      "execution_count": null,
      "outputs": [
        {
          "output_type": "display_data",
          "data": {
            "image/png": "[encoded data removed]",
            "text/plain": [
              "<Figure size 1440x360 with 2 Axes>"
            ]
          },
          "metadata": {
            "tags": [],
            "needs_background": "light"
          }
        }
      ]
    },
    {
      "cell_type": "code",
      "metadata": {
        "id": "NQzM5xG4Z1J4"
      },
      "source": [
        "# j. Using the text you wrote in above as a new example. Find the 5 most similar impressions from the data.\n",
        "alex = ['I think it is about finding patterns to help make accurate predictions when given new data to make decisions more efficient.']\n",
        "alex_counts = count_vec.transform(alex)\n",
        "alex_tfidf = tfidf_t.transform(alex_counts)\n",
        "alex_tfidf = alex_tfidf.todense()\n",
        "knn = NearestNeighbors(n_neighbors=5, algorithm='brute', metric=distance.cosine)\n",
        "model = knn.fit(tfidf)"
      ],
      "execution_count": null,
      "outputs": []
    },
    {
      "cell_type": "code",
      "metadata": {
        "colab": {
          "base_uri": "https://localhost:8080/"
        },
        "id": "9Q8ZIHN0jB7d",
        "outputId": "6176763f-03a3-4f13-e389-c3cceeed81a9"
      },
      "source": [
        "# k.  Print out text and cosine distance\n",
        "distance, neighbor_idx = model.kneighbors(alex_tfidf)\n",
        "print('5 Most Similar Impressions:')\n",
        "for i in np.arange(0,5):\n",
        "  print(i+1,'Impression:', impressions.iloc[i], '\\n Cosine Distance:', distance[0][i], '\\n')\n"
      ],
      "execution_count": null,
      "outputs": [
        {
          "output_type": "stream",
          "text": [
            "5 Most Similar Impressions:\n",
            "1 Impression: buzzwordy, but needed. I'm excited to learn deeper methods of data mining and machine learning. Usually when I see machine learning, I assume that people are just applying models, so I'm curious about what we'll learn. \n",
            " Cosine Distance: 0.6794957223373953 \n",
            "\n",
            "2 Impression: I don’t know much about them \n",
            " Cosine Distance: 0.7382307989782708 \n",
            "\n",
            "3 Impression: These two concepts seem intimately intertwined. The DM part of the course seems to be centered around web crawling? And the ML part is more math based with less coding and more \"tying togetherness.\" Very excited for the course. \n",
            " Cosine Distance: 0.7763195333194398 \n",
            "\n",
            "4 Impression: To me, data mining is being able to harvest data of interest to inform and make decisions. And machine learning is teaching machines tasks to increase efficiency and accuracy. \n",
            " Cosine Distance: 0.8183665154343642 \n",
            "\n",
            "5 Impression: I believe data mining is looking through code and data to try to find answers to potential questions. Machine learning is programing a machine to be able to learn and improve on its own to become more efficient. \n",
            " Cosine Distance: 0.837069667138499 \n",
            "\n"
          ],
          "name": "stdout"
        }
      ]
    },
    {
      "cell_type": "code",
      "metadata": {
        "id": "RnK4KQrekiyq"
      },
      "source": [
        ""
      ],
      "execution_count": null,
      "outputs": []
    }
  ]
}