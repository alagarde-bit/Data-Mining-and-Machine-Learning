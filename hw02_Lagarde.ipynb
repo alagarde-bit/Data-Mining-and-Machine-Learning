{
  "nbformat": 4,
  "nbformat_minor": 0,
  "metadata": {
    "colab": {
      "name": "hw02_Lagarde.ipynb",
      "provenance": [],
      "toc_visible": true,
      "authorship_tag": "ABX9TyPEr6G24rkjjK3NScAlaeJY",
      "include_colab_link": true
    },
    "kernelspec": {
      "name": "python3",
      "display_name": "Python 3"
    },
    "language_info": {
      "name": "python"
    }
  },
  "cells": [
    {
      "cell_type": "markdown",
      "metadata": {
        "id": "view-in-github",
        "colab_type": "text"
      },
      "source": [
        "<a href=\"https://colab.research.google.com/github/alagarde-bit/Data-Mining-and-Machine-Learning/blob/main/hw02_Lagarde.ipynb\" target=\"_parent\"><img src=\"https://colab.research.google.com/assets/colab-badge.svg\" alt=\"Open In Colab\"/></a>"
      ]
    },
    {
      "cell_type": "markdown",
      "metadata": {
        "id": "ZP5FNYa1mvdr"
      },
      "source": [
        "# Homework 2 Classification\n",
        "## Alex Lagarde\n",
        "### 3/28/2021"
      ]
    },
    {
      "cell_type": "markdown",
      "metadata": {
        "id": "L-_Zd8KwoDzI"
      },
      "source": [
        "## Imported Libraries"
      ]
    },
    {
      "cell_type": "code",
      "metadata": {
        "id": "ltoXWRlcnHER"
      },
      "source": [
        "import numpy as np\n",
        "import pandas as pd\n",
        "import matplotlib.pyplot as plt\n",
        "import seaborn as sns\n",
        "from sklearn.model_selection import train_test_split, GridSearchCV\n",
        "from sklearn.neighbors import KNeighborsClassifier\n",
        "from sklearn.metrics import classification_report, confusion_matrix, accuracy_score\n",
        "from sklearn.naive_bayes import GaussianNB\n",
        "from sklearn.ensemble import RandomForestClassifier"
      ],
      "execution_count": null,
      "outputs": []
    },
    {
      "cell_type": "markdown",
      "metadata": {
        "id": "trH6Kqh4oI9o"
      },
      "source": [
        "## PEP Classification \n",
        "\n",
        "### a. Loading in dataset and preprocessing"
      ]
    },
    {
      "cell_type": "code",
      "metadata": {
        "colab": {
          "base_uri": "https://localhost:8080/",
          "height": 195
        },
        "id": "3fxJ_sQIoMfB",
        "outputId": "d0bd17c1-cf44-43a3-8eef-d485c73fc504"
      },
      "source": [
        "df = pd.read_csv('bank_data.csv')\n",
        "df.head(5)"
      ],
      "execution_count": null,
      "outputs": [
        {
          "output_type": "execute_result",
          "data": {
            "text/html": [
              "<div>\n",
              "<style scoped>\n",
              "    .dataframe tbody tr th:only-of-type {\n",
              "        vertical-align: middle;\n",
              "    }\n",
              "\n",
              "    .dataframe tbody tr th {\n",
              "        vertical-align: top;\n",
              "    }\n",
              "\n",
              "    .dataframe thead th {\n",
              "        text-align: right;\n",
              "    }\n",
              "</style>\n",
              "<table border=\"1\" class=\"dataframe\">\n",
              "  <thead>\n",
              "    <tr style=\"text-align: right;\">\n",
              "      <th></th>\n",
              "      <th>id</th>\n",
              "      <th>age</th>\n",
              "      <th>income</th>\n",
              "      <th>children</th>\n",
              "      <th>gender</th>\n",
              "      <th>region</th>\n",
              "      <th>married</th>\n",
              "      <th>car</th>\n",
              "      <th>savings_acct</th>\n",
              "      <th>current_acct</th>\n",
              "      <th>mortgage</th>\n",
              "      <th>pep</th>\n",
              "    </tr>\n",
              "  </thead>\n",
              "  <tbody>\n",
              "    <tr>\n",
              "      <th>0</th>\n",
              "      <td>ID12101</td>\n",
              "      <td>48</td>\n",
              "      <td>17546.0</td>\n",
              "      <td>1</td>\n",
              "      <td>FEMALE</td>\n",
              "      <td>INNER_CITY</td>\n",
              "      <td>NO</td>\n",
              "      <td>NO</td>\n",
              "      <td>NO</td>\n",
              "      <td>NO</td>\n",
              "      <td>NO</td>\n",
              "      <td>YES</td>\n",
              "    </tr>\n",
              "    <tr>\n",
              "      <th>1</th>\n",
              "      <td>ID12102</td>\n",
              "      <td>40</td>\n",
              "      <td>30085.1</td>\n",
              "      <td>3</td>\n",
              "      <td>MALE</td>\n",
              "      <td>TOWN</td>\n",
              "      <td>YES</td>\n",
              "      <td>YES</td>\n",
              "      <td>NO</td>\n",
              "      <td>YES</td>\n",
              "      <td>YES</td>\n",
              "      <td>NO</td>\n",
              "    </tr>\n",
              "    <tr>\n",
              "      <th>2</th>\n",
              "      <td>ID12103</td>\n",
              "      <td>51</td>\n",
              "      <td>16575.4</td>\n",
              "      <td>0</td>\n",
              "      <td>FEMALE</td>\n",
              "      <td>INNER_CITY</td>\n",
              "      <td>YES</td>\n",
              "      <td>YES</td>\n",
              "      <td>YES</td>\n",
              "      <td>YES</td>\n",
              "      <td>NO</td>\n",
              "      <td>NO</td>\n",
              "    </tr>\n",
              "    <tr>\n",
              "      <th>3</th>\n",
              "      <td>ID12104</td>\n",
              "      <td>23</td>\n",
              "      <td>20375.4</td>\n",
              "      <td>3</td>\n",
              "      <td>FEMALE</td>\n",
              "      <td>TOWN</td>\n",
              "      <td>YES</td>\n",
              "      <td>NO</td>\n",
              "      <td>NO</td>\n",
              "      <td>YES</td>\n",
              "      <td>NO</td>\n",
              "      <td>NO</td>\n",
              "    </tr>\n",
              "    <tr>\n",
              "      <th>4</th>\n",
              "      <td>ID12105</td>\n",
              "      <td>57</td>\n",
              "      <td>50576.3</td>\n",
              "      <td>0</td>\n",
              "      <td>FEMALE</td>\n",
              "      <td>RURAL</td>\n",
              "      <td>YES</td>\n",
              "      <td>NO</td>\n",
              "      <td>YES</td>\n",
              "      <td>NO</td>\n",
              "      <td>NO</td>\n",
              "      <td>NO</td>\n",
              "    </tr>\n",
              "  </tbody>\n",
              "</table>\n",
              "</div>"
            ],
            "text/plain": [
              "        id  age   income  children  ... savings_acct current_acct mortgage  pep\n",
              "0  ID12101   48  17546.0         1  ...           NO           NO       NO  YES\n",
              "1  ID12102   40  30085.1         3  ...           NO          YES      YES   NO\n",
              "2  ID12103   51  16575.4         0  ...          YES          YES       NO   NO\n",
              "3  ID12104   23  20375.4         3  ...           NO          YES       NO   NO\n",
              "4  ID12105   57  50576.3         0  ...          YES           NO       NO   NO\n",
              "\n",
              "[5 rows x 12 columns]"
            ]
          },
          "metadata": {
            "tags": []
          },
          "execution_count": 49
        }
      ]
    },
    {
      "cell_type": "code",
      "metadata": {
        "id": "wYcNoeSTqD7b"
      },
      "source": [
        "y = df['pep']\n",
        "X = df.drop(['id', 'pep'], axis = 1)\n",
        "X = pd.get_dummies(X)\n",
        "Xtrain, Xtest, ytrain, ytest = train_test_split(X,\n",
        "                                                y, \n",
        "                                                test_size = 0.2,\n",
        "                                                random_state = 2)"
      ],
      "execution_count": null,
      "outputs": []
    },
    {
      "cell_type": "markdown",
      "metadata": {
        "id": "Syc001AgshQr"
      },
      "source": [
        "### b. K Nearest Neighbors Personal Equity Plan Classifier\n",
        "\n",
        "\n"
      ]
    },
    {
      "cell_type": "code",
      "metadata": {
        "id": "9zo8XlobsoyY"
      },
      "source": [
        "def min_max(x):\n",
        "  return (x-Xtrain.min()) / (Xtrain.max() - Xtrain.min())\n",
        "Xtrain.apply(min_max)\n",
        "Xtest.apply(min_max)\n",
        "model = KNeighborsClassifier(n_neighbors='1', \n",
        "                             metric='euclidean', \n",
        "                             weights='uniform')"
      ],
      "execution_count": null,
      "outputs": []
    },
    {
      "cell_type": "code",
      "metadata": {
        "colab": {
          "base_uri": "https://localhost:8080/"
        },
        "id": "d1KNhMv_fORT",
        "outputId": "4e2c1da5-43ce-41fa-85ba-cdfbadc7b36e"
      },
      "source": [
        "parameters = {'n_neighbors' : np.arange(1,51),\n",
        "              'metric' : ['euclidean', 'manhattan'],\n",
        "              'weights' : ['uniform', 'distance']}\n",
        "grid = GridSearchCV(model,  parameters, cv=5)\n",
        "grid.fit(Xtrain, ytrain)"
      ],
      "execution_count": null,
      "outputs": [
        {
          "output_type": "execute_result",
          "data": {
            "text/plain": [
              "GridSearchCV(cv=5, error_score=nan,\n",
              "             estimator=KNeighborsClassifier(algorithm='auto', leaf_size=30,\n",
              "                                            metric='euclidean',\n",
              "                                            metric_params=None, n_jobs=None,\n",
              "                                            n_neighbors='1', p=2,\n",
              "                                            weights='uniform'),\n",
              "             iid='deprecated', n_jobs=None,\n",
              "             param_grid={'metric': ['euclidean', 'manhattan'],\n",
              "                         'n_neighbors': array([ 1,  2,  3,  4,  5,  6,  7,  8,  9, 10, 11, 12, 13, 14, 15, 16, 17,\n",
              "       18, 19, 20, 21, 22, 23, 24, 25, 26, 27, 28, 29, 30, 31, 32, 33, 34,\n",
              "       35, 36, 37, 38, 39, 40, 41, 42, 43, 44, 45, 46, 47, 48, 49]),\n",
              "                         'weights': ['uniform', 'distance']},\n",
              "             pre_dispatch='2*n_jobs', refit=True, return_train_score=False,\n",
              "             scoring=None, verbose=0)"
            ]
          },
          "metadata": {
            "tags": []
          },
          "execution_count": 12
        }
      ]
    },
    {
      "cell_type": "code",
      "metadata": {
        "colab": {
          "base_uri": "https://localhost:8080/",
          "height": 446
        },
        "id": "7PSfe5b_P7PL",
        "outputId": "44377116-35a4-4653-a34d-50383ec7ad59"
      },
      "source": [
        "model = grid.best_estimator_\n",
        "model.fit(Xtrain, ytrain)\n",
        "ypred = model.predict(Xtest)\n",
        "print(classification_report(ytest, ypred))\n",
        "cm = confusion_matrix(ytest, ypred)\n",
        "sns.heatmap(cm, \n",
        "            annot=True,\n",
        "            square =True,\n",
        "            cmap = 'PuBu',\n",
        "            xticklabels = model.classes_,\n",
        "            yticklabels = model.classes_)\n",
        "plt.title('PEP KNN Classifier Confusion Matrix')\n",
        "plt.xlabel('Predicted Label')\n",
        "plt.ylabel('True Label')\n",
        "plt.show()"
      ],
      "execution_count": null,
      "outputs": [
        {
          "output_type": "stream",
          "text": [
            "              precision    recall  f1-score   support\n",
            "\n",
            "          NO       0.55      0.75      0.63        61\n",
            "         YES       0.58      0.36      0.44        59\n",
            "\n",
            "    accuracy                           0.56       120\n",
            "   macro avg       0.57      0.56      0.54       120\n",
            "weighted avg       0.57      0.56      0.54       120\n",
            "\n"
          ],
          "name": "stdout"
        },
        {
          "output_type": "display_data",
          "data": {
            "image/png": "[encoded data removed]",
            "text/plain": [
              "<Figure size 432x288 with 2 Axes>"
            ]
          },
          "metadata": {
            "tags": [],
            "needs_background": "light"
          }
        }
      ]
    },
    {
      "cell_type": "code",
      "metadata": {
        "colab": {
          "base_uri": "https://localhost:8080/"
        },
        "id": "VcV59XVqiRIl",
        "outputId": "8bc6f6b0-cbdc-4b40-c2ac-7aecdcb0aa66"
      },
      "source": [
        "grid.best_params_"
      ],
      "execution_count": null,
      "outputs": [
        {
          "output_type": "execute_result",
          "data": {
            "text/plain": [
              "{'metric': 'euclidean', 'n_neighbors': 46, 'weights': 'uniform'}"
            ]
          },
          "metadata": {
            "tags": []
          },
          "execution_count": 14
        }
      ]
    },
    {
      "cell_type": "markdown",
      "metadata": {
        "id": "8UybsbjGiWx3"
      },
      "source": [
        "After using a cross validation grid search on three hyperparameters within a K nearest neighbors classifier model, the algorithms found a 46 nearest neighbors classifier model with an euclidean distance metric and uniform weights yielded the optimal accuracy performance. This means the predicted class of whether a customer bought a personal equity plan, for unseen data, will depend on a majority vote of the 46 closest previously seen customers, which is determined by euclidean distance in the feature space. "
      ]
    },
    {
      "cell_type": "markdown",
      "metadata": {
        "id": "JgEyQvd-8QVg"
      },
      "source": [
        "### c. Random Forest Personal Equity Plan Classifier"
      ]
    },
    {
      "cell_type": "code",
      "metadata": {
        "colab": {
          "base_uri": "https://localhost:8080/"
        },
        "id": "1VFkAK0urPYc",
        "outputId": "30814996-25de-454b-deca-cb679e893f37"
      },
      "source": [
        "nvals = np.arange(1,201)\n",
        "best_n_estimators = []\n",
        "for n in nvals:\n",
        "    ensemble = RandomForestClassifier(n_estimators=n,\n",
        "                                    criterion='entropy',\n",
        "                                    random_state = 2)\n",
        "    ensemble.fit(Xtrain, ytrain)\n",
        "    preds = ensemble.predict(Xtest)\n",
        "    acc = accuracy_score(ytest, preds)\n",
        "    best_n_estimators.append(acc)\n",
        "    \n",
        "best_nidx = np.argmax(best_n_estimators)\n",
        "best_n = nvals[best_nidx]\n",
        "print('Best n_estimators =', best_n)"
      ],
      "execution_count": null,
      "outputs": [
        {
          "output_type": "stream",
          "text": [
            "Best n_estimators = 134\n"
          ],
          "name": "stdout"
        }
      ]
    },
    {
      "cell_type": "code",
      "metadata": {
        "colab": {
          "base_uri": "https://localhost:8080/"
        },
        "id": "rzM8hH2VCV7L",
        "outputId": "eacc7140-705a-4ec7-eeb7-ca9521fcabfd"
      },
      "source": [
        "ensemble = RandomForestClassifier(n_estimators=134, \n",
        "                                criterion='entropy', \n",
        "                                random_state=2)\n",
        "ensemble.fit(Xtrain, ytrain)\n",
        "train_preds = ensemble.predict(Xtrain)\n",
        "test_preds = ensemble.predict(Xtest)\n",
        "cm2 = confusion_matrix(ytest, preds)\n",
        "print('Training Data: \\n', classification_report(ytrain, train_preds))\n",
        "print('Testing Data: \\n', classification_report(ytest, test_preds))"
      ],
      "execution_count": null,
      "outputs": [
        {
          "output_type": "stream",
          "text": [
            "Training Data: \n",
            "               precision    recall  f1-score   support\n",
            "\n",
            "          NO       1.00      1.00      1.00       265\n",
            "         YES       1.00      1.00      1.00       215\n",
            "\n",
            "    accuracy                           1.00       480\n",
            "   macro avg       1.00      1.00      1.00       480\n",
            "weighted avg       1.00      1.00      1.00       480\n",
            "\n",
            "Testing Data: \n",
            "               precision    recall  f1-score   support\n",
            "\n",
            "          NO       0.76      0.93      0.84        61\n",
            "         YES       0.91      0.69      0.79        59\n",
            "\n",
            "    accuracy                           0.82       120\n",
            "   macro avg       0.84      0.81      0.81       120\n",
            "weighted avg       0.83      0.82      0.81       120\n",
            "\n"
          ],
          "name": "stdout"
        }
      ]
    },
    {
      "cell_type": "code",
      "metadata": {
        "colab": {
          "base_uri": "https://localhost:8080/",
          "height": 295
        },
        "id": "NFskXHicLJBl",
        "outputId": "70e28b56-4ed5-45dc-926b-726797051077"
      },
      "source": [
        "sns.heatmap(cm2, \n",
        "            cmap = 'Greens_r',\n",
        "            annot = True,\n",
        "            square = True,\n",
        "            xticklabels = ensemble.classes_,\n",
        "            yticklabels = ensemble.classes_)\n",
        "plt.title('PEP Random Forest Classifier Confusion Matrix')\n",
        "plt.xlabel('Predicted Label')\n",
        "plt.ylabel('True Label')\n",
        "plt.show()"
      ],
      "execution_count": null,
      "outputs": [
        {
          "output_type": "display_data",
          "data": {
            "image/png": "[encoded data removed]",
            "text/plain": [
              "<Figure size 432x288 with 2 Axes>"
            ]
          },
          "metadata": {
            "tags": [],
            "needs_background": "light"
          }
        }
      ]
    },
    {
      "cell_type": "markdown",
      "metadata": {
        "id": "wsI0-A9ij-js"
      },
      "source": [
        "Accuracy score is a metric that tracks the proportion of times the model predicted correctly over the total entries in the training or testing data. The accuracy score of the training set is 100%, while the the accuracy score of the testing data is 82%. This discrepancy in the random forest shows a clear overfit. This could be due to the maximum depth parameter. If I chose a smaller maximum depth, the model could be more generalizable. The overfit is clear because the model is perfect at predicting classes using the data it trained on, and the model accuracy drops 18% when using unseen testing data. This drop off indicates the model follows every detail rather than the big picture."
      ]
    },
    {
      "cell_type": "markdown",
      "metadata": {
        "id": "rMSPG70ELQHS"
      },
      "source": [
        "### c. Naive Bayes Personal Equity Plan Classifier"
      ]
    },
    {
      "cell_type": "code",
      "metadata": {
        "colab": {
          "base_uri": "https://localhost:8080/"
        },
        "id": "NWydCebGL75b",
        "outputId": "c369ce26-abf7-4acd-dbb1-83774916d7ce"
      },
      "source": [
        "clf = GaussianNB()\n",
        "clf.fit(Xtrain, ytrain)\n",
        "NBTrain_Preds = clf.predict(Xtrain)\n",
        "NBTest_Preds = clf.predict(Xtest)\n",
        "cm3 = confusion_matrix(ytest, NBTest_Preds)\n",
        "print('Training Data: \\n', classification_report(ytrain, NBTrain_Preds))\n",
        "print('Testing Data: \\n', classification_report(ytest, NBTest_Preds))"
      ],
      "execution_count": null,
      "outputs": [
        {
          "output_type": "stream",
          "text": [
            "Training Data: \n",
            "               precision    recall  f1-score   support\n",
            "\n",
            "          NO       0.66      0.75      0.70       265\n",
            "         YES       0.63      0.52      0.57       215\n",
            "\n",
            "    accuracy                           0.65       480\n",
            "   macro avg       0.64      0.64      0.64       480\n",
            "weighted avg       0.65      0.65      0.64       480\n",
            "\n",
            "Testing Data: \n",
            "               precision    recall  f1-score   support\n",
            "\n",
            "          NO       0.60      0.84      0.70        61\n",
            "         YES       0.71      0.42      0.53        59\n",
            "\n",
            "    accuracy                           0.63       120\n",
            "   macro avg       0.66      0.63      0.62       120\n",
            "weighted avg       0.66      0.63      0.62       120\n",
            "\n"
          ],
          "name": "stdout"
        }
      ]
    },
    {
      "cell_type": "code",
      "metadata": {
        "colab": {
          "base_uri": "https://localhost:8080/",
          "height": 295
        },
        "id": "gigM_qAmOMRQ",
        "outputId": "883ca708-4683-4626-d16d-748a829f9210"
      },
      "source": [
        "sns.heatmap(cm3, \n",
        "            cmap = 'OrRd',\n",
        "            annot = True,\n",
        "            square = True,\n",
        "            xticklabels = clf.classes_,\n",
        "            yticklabels = clf.classes_)\n",
        "plt.title('PEP Naive Bayes Classfier Confusion Matrix')\n",
        "plt.xlabel('Predicted Label')\n",
        "plt.ylabel('True Label')\n",
        "plt.show()"
      ],
      "execution_count": null,
      "outputs": [
        {
          "output_type": "display_data",
          "data": {
            "image/png": "[encoded data removed]",
            "text/plain": [
              "<Figure size 432x288 with 2 Axes>"
            ]
          },
          "metadata": {
            "tags": [],
            "needs_background": "light"
          }
        }
      ]
    },
    {
      "cell_type": "markdown",
      "metadata": {
        "id": "I5s-RpEnkGx9"
      },
      "source": [
        "The naive bayes classifier has similar accuracy score results when predicting with training data and when predicting with testing data. The training data is 65% accurate on predictions, while the testing data is 63% accurate. This may indicate a slight overfit. However, I expect the training data to outperform the testing data slightly as it is the data the algorithm learned on. "
      ]
    },
    {
      "cell_type": "markdown",
      "metadata": {
        "id": "0UdBu-cjPDO5"
      },
      "source": [
        "#### d. PEP Classifer Observations\n",
        "The random forest classifer definitely outperforms when predicting the testing data. Precisely, the random forest is 82% accurate compared to the naive bayes' 65% accuracy and to the K nearest neighbors 56% accuracy. Although the random forest is overfit, it still appears to be a more reliable model. One area of concern might be the yes recall. Since recall is the proportion of times when the label is the true label and is the predicted label, the random forest might need to be monitored on that front. This could be a further effect from maximum depth. In comparison, both the K nearest neighbors and naive bayes classifiers also performed worse with yes recall. "
      ]
    },
    {
      "cell_type": "markdown",
      "metadata": {
        "id": "eAd0nm8CQQLs"
      },
      "source": [
        "## Census Data \n",
        "\n",
        "#### a. Preprocessing and Data Analysis"
      ]
    },
    {
      "cell_type": "code",
      "metadata": {
        "colab": {
          "base_uri": "https://localhost:8080/"
        },
        "id": "ZpoJfs2WPIrz",
        "outputId": "dcc0ecba-d156-44a2-aef1-31f92fd72364"
      },
      "source": [
        "# handling categorical missing values\n",
        "df2 = pd.read_csv('adult-modified.csv')\n",
        "print(df2.dtypes)\n",
        "print(df2.isnull().sum())\n",
        "print(df2['workclass'].unique())\n",
        "print(df2['marital-status'].unique())\n",
        "print(df2['race'].unique())\n",
        "print(df2['sex'].unique())\n",
        "print(df2['income'].unique())\n",
        "df2 = df2[df2['workclass'] != '?']"
      ],
      "execution_count": null,
      "outputs": [
        {
          "output_type": "stream",
          "text": [
            "age               object\n",
            "workclass         object\n",
            "education          int64\n",
            "marital-status    object\n",
            "race              object\n",
            "sex               object\n",
            "hours-per-week     int64\n",
            "income            object\n",
            "dtype: object\n",
            "age               0\n",
            "workclass         0\n",
            "education         0\n",
            "marital-status    0\n",
            "race              0\n",
            "sex               0\n",
            "hours-per-week    0\n",
            "income            0\n",
            "dtype: int64\n",
            "['Public' 'Self-emp' 'Private' '?']\n",
            "['Single' 'Married']\n",
            "['White' 'Black' 'Asian' 'Amer-Indian' 'Hispanic']\n",
            "['Male' 'Female']\n",
            "['<=50K' '>50K']\n"
          ],
          "name": "stdout"
        }
      ]
    },
    {
      "cell_type": "code",
      "metadata": {
        "colab": {
          "base_uri": "https://localhost:8080/"
        },
        "id": "0vCo8qrtPrb6",
        "outputId": "836cf226-d3a2-46be-a3e3-f3393b7c2f5d"
      },
      "source": [
        "# handling numeric missing values\n",
        "print(df2.describe())\n",
        "age = df2['age']\n",
        "bad = age.str.contains('[^0-9.-]')\n",
        "good = ~bad\n",
        "df_clean = df2[good]\n",
        "df_clean = df_clean.copy()\n",
        "df_clean['age'] = df_clean['age'].astype(int)\n",
        "age_average = df_clean['age'].mean()"
      ],
      "execution_count": null,
      "outputs": [
        {
          "output_type": "stream",
          "text": [
            "         education  hours-per-week\n",
            "count  9412.000000     9412.000000\n",
            "mean     10.125266       41.080217\n",
            "std       2.542118       11.884590\n",
            "min       1.000000        1.000000\n",
            "25%       9.000000       40.000000\n",
            "50%      10.000000       40.000000\n",
            "75%      13.000000       45.000000\n",
            "max      16.000000       99.000000\n"
          ],
          "name": "stdout"
        }
      ]
    },
    {
      "cell_type": "code",
      "metadata": {
        "id": "B8BEOJkO1ojD"
      },
      "source": [
        "# using average as replacement for missing values \n",
        "df2['age'][bad] = age_average\n",
        "df2 = df2.copy()\n",
        "df2['age'] = df2['age'].astype(int)"
      ],
      "execution_count": null,
      "outputs": []
    },
    {
      "cell_type": "markdown",
      "metadata": {
        "id": "ZJQg0hjyqWeB"
      },
      "source": [
        "### Attribute Characteristics"
      ]
    },
    {
      "cell_type": "code",
      "metadata": {
        "colab": {
          "base_uri": "https://localhost:8080/",
          "height": 373
        },
        "id": "9J58-35Ap4nR",
        "outputId": "57d4818e-e98a-4361-fc21-b8e73de934d5"
      },
      "source": [
        "df2.describe(include='all')"
      ],
      "execution_count": null,
      "outputs": [
        {
          "output_type": "execute_result",
          "data": {
            "text/html": [
              "<div>\n",
              "<style scoped>\n",
              "    .dataframe tbody tr th:only-of-type {\n",
              "        vertical-align: middle;\n",
              "    }\n",
              "\n",
              "    .dataframe tbody tr th {\n",
              "        vertical-align: top;\n",
              "    }\n",
              "\n",
              "    .dataframe thead th {\n",
              "        text-align: right;\n",
              "    }\n",
              "</style>\n",
              "<table border=\"1\" class=\"dataframe\">\n",
              "  <thead>\n",
              "    <tr style=\"text-align: right;\">\n",
              "      <th></th>\n",
              "      <th>age</th>\n",
              "      <th>workclass</th>\n",
              "      <th>education</th>\n",
              "      <th>marital-status</th>\n",
              "      <th>race</th>\n",
              "      <th>sex</th>\n",
              "      <th>hours-per-week</th>\n",
              "      <th>income</th>\n",
              "    </tr>\n",
              "  </thead>\n",
              "  <tbody>\n",
              "    <tr>\n",
              "      <th>count</th>\n",
              "      <td>9412.000000</td>\n",
              "      <td>9412</td>\n",
              "      <td>9412.000000</td>\n",
              "      <td>9412</td>\n",
              "      <td>9412</td>\n",
              "      <td>9412</td>\n",
              "      <td>9412.000000</td>\n",
              "      <td>9412</td>\n",
              "    </tr>\n",
              "    <tr>\n",
              "      <th>unique</th>\n",
              "      <td>NaN</td>\n",
              "      <td>3</td>\n",
              "      <td>NaN</td>\n",
              "      <td>2</td>\n",
              "      <td>5</td>\n",
              "      <td>2</td>\n",
              "      <td>NaN</td>\n",
              "      <td>2</td>\n",
              "    </tr>\n",
              "    <tr>\n",
              "      <th>top</th>\n",
              "      <td>NaN</td>\n",
              "      <td>Private</td>\n",
              "      <td>NaN</td>\n",
              "      <td>Married</td>\n",
              "      <td>White</td>\n",
              "      <td>Male</td>\n",
              "      <td>NaN</td>\n",
              "      <td>&lt;=50K</td>\n",
              "    </tr>\n",
              "    <tr>\n",
              "      <th>freq</th>\n",
              "      <td>NaN</td>\n",
              "      <td>6947</td>\n",
              "      <td>NaN</td>\n",
              "      <td>4737</td>\n",
              "      <td>8062</td>\n",
              "      <td>6383</td>\n",
              "      <td>NaN</td>\n",
              "      <td>7093</td>\n",
              "    </tr>\n",
              "    <tr>\n",
              "      <th>mean</th>\n",
              "      <td>38.357310</td>\n",
              "      <td>NaN</td>\n",
              "      <td>10.125266</td>\n",
              "      <td>NaN</td>\n",
              "      <td>NaN</td>\n",
              "      <td>NaN</td>\n",
              "      <td>41.080217</td>\n",
              "      <td>NaN</td>\n",
              "    </tr>\n",
              "    <tr>\n",
              "      <th>std</th>\n",
              "      <td>12.962135</td>\n",
              "      <td>NaN</td>\n",
              "      <td>2.542118</td>\n",
              "      <td>NaN</td>\n",
              "      <td>NaN</td>\n",
              "      <td>NaN</td>\n",
              "      <td>11.884590</td>\n",
              "      <td>NaN</td>\n",
              "    </tr>\n",
              "    <tr>\n",
              "      <th>min</th>\n",
              "      <td>17.000000</td>\n",
              "      <td>NaN</td>\n",
              "      <td>1.000000</td>\n",
              "      <td>NaN</td>\n",
              "      <td>NaN</td>\n",
              "      <td>NaN</td>\n",
              "      <td>1.000000</td>\n",
              "      <td>NaN</td>\n",
              "    </tr>\n",
              "    <tr>\n",
              "      <th>25%</th>\n",
              "      <td>28.000000</td>\n",
              "      <td>NaN</td>\n",
              "      <td>9.000000</td>\n",
              "      <td>NaN</td>\n",
              "      <td>NaN</td>\n",
              "      <td>NaN</td>\n",
              "      <td>40.000000</td>\n",
              "      <td>NaN</td>\n",
              "    </tr>\n",
              "    <tr>\n",
              "      <th>50%</th>\n",
              "      <td>37.000000</td>\n",
              "      <td>NaN</td>\n",
              "      <td>10.000000</td>\n",
              "      <td>NaN</td>\n",
              "      <td>NaN</td>\n",
              "      <td>NaN</td>\n",
              "      <td>40.000000</td>\n",
              "      <td>NaN</td>\n",
              "    </tr>\n",
              "    <tr>\n",
              "      <th>75%</th>\n",
              "      <td>47.000000</td>\n",
              "      <td>NaN</td>\n",
              "      <td>13.000000</td>\n",
              "      <td>NaN</td>\n",
              "      <td>NaN</td>\n",
              "      <td>NaN</td>\n",
              "      <td>45.000000</td>\n",
              "      <td>NaN</td>\n",
              "    </tr>\n",
              "    <tr>\n",
              "      <th>max</th>\n",
              "      <td>90.000000</td>\n",
              "      <td>NaN</td>\n",
              "      <td>16.000000</td>\n",
              "      <td>NaN</td>\n",
              "      <td>NaN</td>\n",
              "      <td>NaN</td>\n",
              "      <td>99.000000</td>\n",
              "      <td>NaN</td>\n",
              "    </tr>\n",
              "  </tbody>\n",
              "</table>\n",
              "</div>"
            ],
            "text/plain": [
              "                age workclass    education  ...   sex hours-per-week income\n",
              "count   9412.000000      9412  9412.000000  ...  9412    9412.000000   9412\n",
              "unique          NaN         3          NaN  ...     2            NaN      2\n",
              "top             NaN   Private          NaN  ...  Male            NaN  <=50K\n",
              "freq            NaN      6947          NaN  ...  6383            NaN   7093\n",
              "mean      38.357310       NaN    10.125266  ...   NaN      41.080217    NaN\n",
              "std       12.962135       NaN     2.542118  ...   NaN      11.884590    NaN\n",
              "min       17.000000       NaN     1.000000  ...   NaN       1.000000    NaN\n",
              "25%       28.000000       NaN     9.000000  ...   NaN      40.000000    NaN\n",
              "50%       37.000000       NaN    10.000000  ...   NaN      40.000000    NaN\n",
              "75%       47.000000       NaN    13.000000  ...   NaN      45.000000    NaN\n",
              "max       90.000000       NaN    16.000000  ...   NaN      99.000000    NaN\n",
              "\n",
              "[11 rows x 8 columns]"
            ]
          },
          "metadata": {
            "tags": []
          },
          "execution_count": 89
        }
      ]
    },
    {
      "cell_type": "code",
      "metadata": {
        "colab": {
          "base_uri": "https://localhost:8080/",
          "height": 295
        },
        "id": "PNggrsD49fce",
        "outputId": "e9059f98-8e9e-44b5-f924-41fe9b14e8f6"
      },
      "source": [
        "df2.hist(column=['age'], bins=10, alpha=0.5)\n",
        "plt.xlabel('Age')\n",
        "plt.ylabel('Count')\n",
        "plt.title('Histogram of Age in Census Data')\n",
        "plt.show()"
      ],
      "execution_count": null,
      "outputs": [
        {
          "output_type": "display_data",
          "data": {
            "image/png": "[encoded data removed]",
            "text/plain": [
              "<Figure size 432x288 with 1 Axes>"
            ]
          },
          "metadata": {
            "tags": [],
            "needs_background": "light"
          }
        }
      ]
    },
    {
      "cell_type": "code",
      "metadata": {
        "colab": {
          "base_uri": "https://localhost:8080/",
          "height": 295
        },
        "id": "eMEj_bD3-_IQ",
        "outputId": "9f33bac7-6443-48b6-a9b2-67c930ec41bd"
      },
      "source": [
        "df2.hist(column=['education'], bins=5, alpha=0.5)\n",
        "plt.xlabel('Education Level')\n",
        "plt.ylabel('Count')\n",
        "plt.title('Histogram of Education Level in Census Data')\n",
        "plt.show()"
      ],
      "execution_count": null,
      "outputs": [
        {
          "output_type": "display_data",
          "data": {
            "image/png": "[encoded data removed]",
            "text/plain": [
              "<Figure size 432x288 with 1 Axes>"
            ]
          },
          "metadata": {
            "tags": [],
            "needs_background": "light"
          }
        }
      ]
    },
    {
      "cell_type": "code",
      "metadata": {
        "colab": {
          "base_uri": "https://localhost:8080/",
          "height": 295
        },
        "id": "3V_TeD-__I9b",
        "outputId": "a713ae9d-0ffb-41b8-b97f-1f45965234b7"
      },
      "source": [
        "df2.hist(column=['hours-per-week'], bins=10, alpha=0.5)\n",
        "plt.xlabel('Hours per Week')\n",
        "plt.ylabel('Count')\n",
        "plt.title('Histogram of Hours per Week in Census Data')\n",
        "plt.show()"
      ],
      "execution_count": null,
      "outputs": [
        {
          "output_type": "display_data",
          "data": {
            "image/png": "[encoded data removed]",
            "text/plain": [
              "<Figure size 432x288 with 1 Axes>"
            ]
          },
          "metadata": {
            "tags": [],
            "needs_background": "light"
          }
        }
      ]
    },
    {
      "cell_type": "code",
      "metadata": {
        "colab": {
          "base_uri": "https://localhost:8080/",
          "height": 295
        },
        "id": "7bahE1ZQA2xA",
        "outputId": "44a21a23-a88b-4cda-ca4c-146a8a719e86"
      },
      "source": [
        "df2[\"workclass\"].value_counts().plot(kind='bar', color = 'orange', rot = 0)\n",
        "plt.title('Bar Graph of Workclass Type')\n",
        "plt.xlabel('Workclass ')\n",
        "plt.ylabel('Count')\n",
        "plt.show()"
      ],
      "execution_count": null,
      "outputs": [
        {
          "output_type": "display_data",
          "data": {
            "image/png": "[encoded data removed]",
            "text/plain": [
              "<Figure size 432x288 with 1 Axes>"
            ]
          },
          "metadata": {
            "tags": [],
            "needs_background": "light"
          }
        }
      ]
    },
    {
      "cell_type": "code",
      "metadata": {
        "colab": {
          "base_uri": "https://localhost:8080/",
          "height": 295
        },
        "id": "z8nVwmH4BvcC",
        "outputId": "71306205-fec4-4714-df97-87e09d0a3430"
      },
      "source": [
        "df2[\"marital-status\"].value_counts().plot(kind='bar', color = 'green', rot = 0)\n",
        "plt.title('Bar Graph of Marital Status')\n",
        "plt.xlabel('Marital Status')\n",
        "plt.ylabel('Count')\n",
        "plt.show()"
      ],
      "execution_count": null,
      "outputs": [
        {
          "output_type": "display_data",
          "data": {
            "image/png": "[encoded data removed]",
            "text/plain": [
              "<Figure size 432x288 with 1 Axes>"
            ]
          },
          "metadata": {
            "tags": [],
            "needs_background": "light"
          }
        }
      ]
    },
    {
      "cell_type": "code",
      "metadata": {
        "colab": {
          "base_uri": "https://localhost:8080/",
          "height": 295
        },
        "id": "Ic2fyGSbCHQP",
        "outputId": "610d85e7-9022-4d15-e68a-e4a7aed46462"
      },
      "source": [
        "df2[\"race\"].value_counts().plot(kind='bar', color = 'red', rot = 0)\n",
        "plt.title('Bar Graph of Race Type')\n",
        "plt.xlabel('Race')\n",
        "plt.ylabel('Count')\n",
        "plt.show()"
      ],
      "execution_count": null,
      "outputs": [
        {
          "output_type": "display_data",
          "data": {
            "image/png": "[encoded data removed]",
            "text/plain": [
              "<Figure size 432x288 with 1 Axes>"
            ]
          },
          "metadata": {
            "tags": [],
            "needs_background": "light"
          }
        }
      ]
    },
    {
      "cell_type": "code",
      "metadata": {
        "colab": {
          "base_uri": "https://localhost:8080/",
          "height": 295
        },
        "id": "X-9sLNRCCTFe",
        "outputId": "8367877c-c0f0-4423-a523-4d46ad0c284d"
      },
      "source": [
        "df2[\"sex\"].value_counts().plot(kind='bar', color = 'blue', rot = 0)\n",
        "plt.title('Bar Graph of Sex Type')\n",
        "plt.xlabel('Sex')\n",
        "plt.ylabel('Count')\n",
        "plt.show()"
      ],
      "execution_count": null,
      "outputs": [
        {
          "output_type": "display_data",
          "data": {
            "image/png": "[encoded data removed]",
            "text/plain": [
              "<Figure size 432x288 with 1 Axes>"
            ]
          },
          "metadata": {
            "tags": [],
            "needs_background": "light"
          }
        }
      ]
    },
    {
      "cell_type": "code",
      "metadata": {
        "colab": {
          "base_uri": "https://localhost:8080/",
          "height": 295
        },
        "id": "CyF7V1UGDVIy",
        "outputId": "1a8b1702-aded-485f-f224-620d650d92f8"
      },
      "source": [
        "df2[\"income\"].value_counts().plot(kind='bar', color = 'purple', rot = 0)\n",
        "plt.title('Bar Graph of Income Status')\n",
        "plt.xlabel('Income Status')\n",
        "plt.ylabel('Count')\n",
        "plt.show()"
      ],
      "execution_count": null,
      "outputs": [
        {
          "output_type": "display_data",
          "data": {
            "image/png": "[encoded data removed]",
            "text/plain": [
              "<Figure size 432x288 with 1 Axes>"
            ]
          },
          "metadata": {
            "tags": [],
            "needs_background": "light"
          }
        }
      ]
    },
    {
      "cell_type": "markdown",
      "metadata": {
        "id": "3tErj8i4KEN0"
      },
      "source": [
        ""
      ]
    },
    {
      "cell_type": "markdown",
      "metadata": {
        "id": "iS7oXYwqrGuz"
      },
      "source": [
        "### Cross Tabulations"
      ]
    },
    {
      "cell_type": "code",
      "metadata": {
        "colab": {
          "base_uri": "https://localhost:8080/",
          "height": 550
        },
        "id": "NwbTVkX4EZGI",
        "outputId": "0e245726-0154-4917-e06d-070c77d7f5c9"
      },
      "source": [
        "edu_race = pd.crosstab(df2[\"education\"], df2[\"race\"])\n",
        "edu_race"
      ],
      "execution_count": null,
      "outputs": [
        {
          "output_type": "execute_result",
          "data": {
            "text/html": [
              "<div>\n",
              "<style scoped>\n",
              "    .dataframe tbody tr th:only-of-type {\n",
              "        vertical-align: middle;\n",
              "    }\n",
              "\n",
              "    .dataframe tbody tr th {\n",
              "        vertical-align: top;\n",
              "    }\n",
              "\n",
              "    .dataframe thead th {\n",
              "        text-align: right;\n",
              "    }\n",
              "</style>\n",
              "<table border=\"1\" class=\"dataframe\">\n",
              "  <thead>\n",
              "    <tr style=\"text-align: right;\">\n",
              "      <th>race</th>\n",
              "      <th>Amer-Indian</th>\n",
              "      <th>Asian</th>\n",
              "      <th>Black</th>\n",
              "      <th>Hispanic</th>\n",
              "      <th>White</th>\n",
              "    </tr>\n",
              "    <tr>\n",
              "      <th>education</th>\n",
              "      <th></th>\n",
              "      <th></th>\n",
              "      <th></th>\n",
              "      <th></th>\n",
              "      <th></th>\n",
              "    </tr>\n",
              "  </thead>\n",
              "  <tbody>\n",
              "    <tr>\n",
              "      <th>1</th>\n",
              "      <td>0</td>\n",
              "      <td>0</td>\n",
              "      <td>1</td>\n",
              "      <td>0</td>\n",
              "      <td>11</td>\n",
              "    </tr>\n",
              "    <tr>\n",
              "      <th>2</th>\n",
              "      <td>0</td>\n",
              "      <td>1</td>\n",
              "      <td>4</td>\n",
              "      <td>3</td>\n",
              "      <td>38</td>\n",
              "    </tr>\n",
              "    <tr>\n",
              "      <th>3</th>\n",
              "      <td>0</td>\n",
              "      <td>4</td>\n",
              "      <td>5</td>\n",
              "      <td>1</td>\n",
              "      <td>71</td>\n",
              "    </tr>\n",
              "    <tr>\n",
              "      <th>4</th>\n",
              "      <td>5</td>\n",
              "      <td>5</td>\n",
              "      <td>14</td>\n",
              "      <td>6</td>\n",
              "      <td>150</td>\n",
              "    </tr>\n",
              "    <tr>\n",
              "      <th>5</th>\n",
              "      <td>0</td>\n",
              "      <td>3</td>\n",
              "      <td>19</td>\n",
              "      <td>2</td>\n",
              "      <td>118</td>\n",
              "    </tr>\n",
              "    <tr>\n",
              "      <th>6</th>\n",
              "      <td>8</td>\n",
              "      <td>3</td>\n",
              "      <td>30</td>\n",
              "      <td>4</td>\n",
              "      <td>223</td>\n",
              "    </tr>\n",
              "    <tr>\n",
              "      <th>7</th>\n",
              "      <td>4</td>\n",
              "      <td>6</td>\n",
              "      <td>49</td>\n",
              "      <td>4</td>\n",
              "      <td>261</td>\n",
              "    </tr>\n",
              "    <tr>\n",
              "      <th>8</th>\n",
              "      <td>0</td>\n",
              "      <td>2</td>\n",
              "      <td>17</td>\n",
              "      <td>3</td>\n",
              "      <td>78</td>\n",
              "    </tr>\n",
              "    <tr>\n",
              "      <th>9</th>\n",
              "      <td>35</td>\n",
              "      <td>67</td>\n",
              "      <td>350</td>\n",
              "      <td>23</td>\n",
              "      <td>2590</td>\n",
              "    </tr>\n",
              "    <tr>\n",
              "      <th>10</th>\n",
              "      <td>26</td>\n",
              "      <td>64</td>\n",
              "      <td>206</td>\n",
              "      <td>11</td>\n",
              "      <td>1818</td>\n",
              "    </tr>\n",
              "    <tr>\n",
              "      <th>11</th>\n",
              "      <td>5</td>\n",
              "      <td>10</td>\n",
              "      <td>33</td>\n",
              "      <td>4</td>\n",
              "      <td>337</td>\n",
              "    </tr>\n",
              "    <tr>\n",
              "      <th>12</th>\n",
              "      <td>4</td>\n",
              "      <td>5</td>\n",
              "      <td>33</td>\n",
              "      <td>3</td>\n",
              "      <td>259</td>\n",
              "    </tr>\n",
              "    <tr>\n",
              "      <th>13</th>\n",
              "      <td>5</td>\n",
              "      <td>75</td>\n",
              "      <td>102</td>\n",
              "      <td>8</td>\n",
              "      <td>1387</td>\n",
              "    </tr>\n",
              "    <tr>\n",
              "      <th>14</th>\n",
              "      <td>0</td>\n",
              "      <td>27</td>\n",
              "      <td>20</td>\n",
              "      <td>1</td>\n",
              "      <td>467</td>\n",
              "    </tr>\n",
              "    <tr>\n",
              "      <th>15</th>\n",
              "      <td>0</td>\n",
              "      <td>11</td>\n",
              "      <td>5</td>\n",
              "      <td>2</td>\n",
              "      <td>153</td>\n",
              "    </tr>\n",
              "    <tr>\n",
              "      <th>16</th>\n",
              "      <td>0</td>\n",
              "      <td>8</td>\n",
              "      <td>4</td>\n",
              "      <td>0</td>\n",
              "      <td>101</td>\n",
              "    </tr>\n",
              "  </tbody>\n",
              "</table>\n",
              "</div>"
            ],
            "text/plain": [
              "race       Amer-Indian  Asian  Black  Hispanic  White\n",
              "education                                            \n",
              "1                    0      0      1         0     11\n",
              "2                    0      1      4         3     38\n",
              "3                    0      4      5         1     71\n",
              "4                    5      5     14         6    150\n",
              "5                    0      3     19         2    118\n",
              "6                    8      3     30         4    223\n",
              "7                    4      6     49         4    261\n",
              "8                    0      2     17         3     78\n",
              "9                   35     67    350        23   2590\n",
              "10                  26     64    206        11   1818\n",
              "11                   5     10     33         4    337\n",
              "12                   4      5     33         3    259\n",
              "13                   5     75    102         8   1387\n",
              "14                   0     27     20         1    467\n",
              "15                   0     11      5         2    153\n",
              "16                   0      8      4         0    101"
            ]
          },
          "metadata": {
            "tags": []
          },
          "execution_count": 33
        }
      ]
    },
    {
      "cell_type": "code",
      "metadata": {
        "colab": {
          "base_uri": "https://localhost:8080/",
          "height": 295
        },
        "id": "AyXAyQzIEmRo",
        "outputId": "40f347dc-074d-4d38-c6ec-d761a373c474"
      },
      "source": [
        "edu_race.plot(kind='bar', rot = 0)\n",
        "plt.title('Bar Graph of Education Level by Race')\n",
        "plt.xlabel('Education Level')\n",
        "plt.ylabel('Count')\n",
        "plt.show()"
      ],
      "execution_count": null,
      "outputs": [
        {
          "output_type": "display_data",
          "data": {
            "image/png": "[encoded data removed]",
            "text/plain": [
              "<Figure size 432x288 with 1 Axes>"
            ]
          },
          "metadata": {
            "tags": [],
            "needs_background": "light"
          }
        }
      ]
    },
    {
      "cell_type": "code",
      "metadata": {
        "colab": {
          "base_uri": "https://localhost:8080/",
          "height": 166
        },
        "id": "W5OQRAJ2FRp_",
        "outputId": "326486d7-adff-45c3-a44c-36893bb819e9"
      },
      "source": [
        "workclass_income = pd.crosstab(df2[\"workclass\"], df2[\"income\"])\n",
        "workclass_income"
      ],
      "execution_count": null,
      "outputs": [
        {
          "output_type": "execute_result",
          "data": {
            "text/html": [
              "<div>\n",
              "<style scoped>\n",
              "    .dataframe tbody tr th:only-of-type {\n",
              "        vertical-align: middle;\n",
              "    }\n",
              "\n",
              "    .dataframe tbody tr th {\n",
              "        vertical-align: top;\n",
              "    }\n",
              "\n",
              "    .dataframe thead th {\n",
              "        text-align: right;\n",
              "    }\n",
              "</style>\n",
              "<table border=\"1\" class=\"dataframe\">\n",
              "  <thead>\n",
              "    <tr style=\"text-align: right;\">\n",
              "      <th>income</th>\n",
              "      <th>&lt;=50K</th>\n",
              "      <th>&gt;50K</th>\n",
              "    </tr>\n",
              "    <tr>\n",
              "      <th>workclass</th>\n",
              "      <th></th>\n",
              "      <th></th>\n",
              "    </tr>\n",
              "  </thead>\n",
              "  <tbody>\n",
              "    <tr>\n",
              "      <th>Private</th>\n",
              "      <td>5443</td>\n",
              "      <td>1504</td>\n",
              "    </tr>\n",
              "    <tr>\n",
              "      <th>Public</th>\n",
              "      <td>925</td>\n",
              "      <td>392</td>\n",
              "    </tr>\n",
              "    <tr>\n",
              "      <th>Self-emp</th>\n",
              "      <td>725</td>\n",
              "      <td>423</td>\n",
              "    </tr>\n",
              "  </tbody>\n",
              "</table>\n",
              "</div>"
            ],
            "text/plain": [
              "income     <=50K  >50K\n",
              "workclass             \n",
              "Private     5443  1504\n",
              "Public       925   392\n",
              "Self-emp     725   423"
            ]
          },
          "metadata": {
            "tags": []
          },
          "execution_count": 35
        }
      ]
    },
    {
      "cell_type": "code",
      "metadata": {
        "colab": {
          "base_uri": "https://localhost:8080/",
          "height": 295
        },
        "id": "kOeRHUlNFaS0",
        "outputId": "f30a14ee-14e3-446e-8a70-87c8cd9ca751"
      },
      "source": [
        "workclass_income.plot(kind='bar', rot = 0)\n",
        "plt.title('Bar Graph of Workclass Type by Income Bracket')\n",
        "plt.xlabel('Workclass')\n",
        "plt.ylabel('Count')\n",
        "plt.show()"
      ],
      "execution_count": null,
      "outputs": [
        {
          "output_type": "display_data",
          "data": {
            "image/png": "[encoded data removed]",
            "text/plain": [
              "<Figure size 432x288 with 1 Axes>"
            ]
          },
          "metadata": {
            "tags": [],
            "needs_background": "light"
          }
        }
      ]
    },
    {
      "cell_type": "code",
      "metadata": {
        "colab": {
          "base_uri": "https://localhost:8080/",
          "height": 166
        },
        "id": "mt8muFWIFwhZ",
        "outputId": "9e50f366-33ba-4fbd-8fd2-915f299aa354"
      },
      "source": [
        "workclass_race = pd.crosstab(df2[\"workclass\"], df2[\"race\"])\n",
        "workclass_race"
      ],
      "execution_count": null,
      "outputs": [
        {
          "output_type": "execute_result",
          "data": {
            "text/html": [
              "<div>\n",
              "<style scoped>\n",
              "    .dataframe tbody tr th:only-of-type {\n",
              "        vertical-align: middle;\n",
              "    }\n",
              "\n",
              "    .dataframe tbody tr th {\n",
              "        vertical-align: top;\n",
              "    }\n",
              "\n",
              "    .dataframe thead th {\n",
              "        text-align: right;\n",
              "    }\n",
              "</style>\n",
              "<table border=\"1\" class=\"dataframe\">\n",
              "  <thead>\n",
              "    <tr style=\"text-align: right;\">\n",
              "      <th>race</th>\n",
              "      <th>Amer-Indian</th>\n",
              "      <th>Asian</th>\n",
              "      <th>Black</th>\n",
              "      <th>Hispanic</th>\n",
              "      <th>White</th>\n",
              "    </tr>\n",
              "    <tr>\n",
              "      <th>workclass</th>\n",
              "      <th></th>\n",
              "      <th></th>\n",
              "      <th></th>\n",
              "      <th></th>\n",
              "      <th></th>\n",
              "    </tr>\n",
              "  </thead>\n",
              "  <tbody>\n",
              "    <tr>\n",
              "      <th>Private</th>\n",
              "      <td>65</td>\n",
              "      <td>204</td>\n",
              "      <td>664</td>\n",
              "      <td>64</td>\n",
              "      <td>5950</td>\n",
              "    </tr>\n",
              "    <tr>\n",
              "      <th>Public</th>\n",
              "      <td>20</td>\n",
              "      <td>48</td>\n",
              "      <td>192</td>\n",
              "      <td>5</td>\n",
              "      <td>1052</td>\n",
              "    </tr>\n",
              "    <tr>\n",
              "      <th>Self-emp</th>\n",
              "      <td>7</td>\n",
              "      <td>39</td>\n",
              "      <td>36</td>\n",
              "      <td>6</td>\n",
              "      <td>1060</td>\n",
              "    </tr>\n",
              "  </tbody>\n",
              "</table>\n",
              "</div>"
            ],
            "text/plain": [
              "race       Amer-Indian  Asian  Black  Hispanic  White\n",
              "workclass                                            \n",
              "Private             65    204    664        64   5950\n",
              "Public              20     48    192         5   1052\n",
              "Self-emp             7     39     36         6   1060"
            ]
          },
          "metadata": {
            "tags": []
          },
          "execution_count": 37
        }
      ]
    },
    {
      "cell_type": "code",
      "metadata": {
        "colab": {
          "base_uri": "https://localhost:8080/",
          "height": 295
        },
        "id": "Yh6-FPCBF4Kq",
        "outputId": "d87b1c00-4f3a-4637-fce2-481e4fe254a5"
      },
      "source": [
        "workclass_race.plot(kind='bar', rot = 0)\n",
        "plt.title('Bar Graph of Workclass Type by Race')\n",
        "plt.xlabel('Workclass')\n",
        "plt.ylabel('Count')\n",
        "plt.show()"
      ],
      "execution_count": null,
      "outputs": [
        {
          "output_type": "display_data",
          "data": {
            "image/png": "[encoded data removed]",
            "text/plain": [
              "<Figure size 432x288 with 1 Axes>"
            ]
          },
          "metadata": {
            "tags": [],
            "needs_background": "light"
          }
        }
      ]
    },
    {
      "cell_type": "code",
      "metadata": {
        "colab": {
          "base_uri": "https://localhost:8080/",
          "height": 225
        },
        "id": "TjaFMxRTGyDe",
        "outputId": "eb9e8e92-f30f-424d-b80c-734fa35216df"
      },
      "source": [
        "race_income = pd.crosstab(df2[\"race\"], df2[\"income\"])\n",
        "race_income"
      ],
      "execution_count": null,
      "outputs": [
        {
          "output_type": "execute_result",
          "data": {
            "text/html": [
              "<div>\n",
              "<style scoped>\n",
              "    .dataframe tbody tr th:only-of-type {\n",
              "        vertical-align: middle;\n",
              "    }\n",
              "\n",
              "    .dataframe tbody tr th {\n",
              "        vertical-align: top;\n",
              "    }\n",
              "\n",
              "    .dataframe thead th {\n",
              "        text-align: right;\n",
              "    }\n",
              "</style>\n",
              "<table border=\"1\" class=\"dataframe\">\n",
              "  <thead>\n",
              "    <tr style=\"text-align: right;\">\n",
              "      <th>income</th>\n",
              "      <th>&lt;=50K</th>\n",
              "      <th>&gt;50K</th>\n",
              "    </tr>\n",
              "    <tr>\n",
              "      <th>race</th>\n",
              "      <th></th>\n",
              "      <th></th>\n",
              "    </tr>\n",
              "  </thead>\n",
              "  <tbody>\n",
              "    <tr>\n",
              "      <th>Amer-Indian</th>\n",
              "      <td>83</td>\n",
              "      <td>9</td>\n",
              "    </tr>\n",
              "    <tr>\n",
              "      <th>Asian</th>\n",
              "      <td>224</td>\n",
              "      <td>67</td>\n",
              "    </tr>\n",
              "    <tr>\n",
              "      <th>Black</th>\n",
              "      <td>773</td>\n",
              "      <td>119</td>\n",
              "    </tr>\n",
              "    <tr>\n",
              "      <th>Hispanic</th>\n",
              "      <td>69</td>\n",
              "      <td>6</td>\n",
              "    </tr>\n",
              "    <tr>\n",
              "      <th>White</th>\n",
              "      <td>5944</td>\n",
              "      <td>2118</td>\n",
              "    </tr>\n",
              "  </tbody>\n",
              "</table>\n",
              "</div>"
            ],
            "text/plain": [
              "income       <=50K  >50K\n",
              "race                    \n",
              "Amer-Indian     83     9\n",
              "Asian          224    67\n",
              "Black          773   119\n",
              "Hispanic        69     6\n",
              "White         5944  2118"
            ]
          },
          "metadata": {
            "tags": []
          },
          "execution_count": 39
        }
      ]
    },
    {
      "cell_type": "code",
      "metadata": {
        "colab": {
          "base_uri": "https://localhost:8080/",
          "height": 295
        },
        "id": "VkK8mHJbG4-Z",
        "outputId": "7c88f8eb-c32f-429e-dd86-9ccc732cd293"
      },
      "source": [
        "race_income.plot(kind='bar', rot = 0)\n",
        "plt.title('Bar Graph of Race Counts by Income Bracket')\n",
        "plt.xlabel('Race')\n",
        "plt.ylabel('Count')\n",
        "plt.show()"
      ],
      "execution_count": null,
      "outputs": [
        {
          "output_type": "display_data",
          "data": {
            "image/png": "[encoded data removed]",
            "text/plain": [
              "<Figure size 432x288 with 1 Axes>"
            ]
          },
          "metadata": {
            "tags": [],
            "needs_background": "light"
          }
        }
      ]
    },
    {
      "cell_type": "code",
      "metadata": {
        "colab": {
          "base_uri": "https://localhost:8080/",
          "height": 225
        },
        "id": "6vk5DJ6kK4Bs",
        "outputId": "963d8bef-bd23-407f-dfcb-b274a6085f8e"
      },
      "source": [
        "race_income['percent_low_income'] = race_income['<=50K'] / (race_income['<=50K'] + race_income['>50K'])\n",
        "race_income"
      ],
      "execution_count": null,
      "outputs": [
        {
          "output_type": "execute_result",
          "data": {
            "text/html": [
              "<div>\n",
              "<style scoped>\n",
              "    .dataframe tbody tr th:only-of-type {\n",
              "        vertical-align: middle;\n",
              "    }\n",
              "\n",
              "    .dataframe tbody tr th {\n",
              "        vertical-align: top;\n",
              "    }\n",
              "\n",
              "    .dataframe thead th {\n",
              "        text-align: right;\n",
              "    }\n",
              "</style>\n",
              "<table border=\"1\" class=\"dataframe\">\n",
              "  <thead>\n",
              "    <tr style=\"text-align: right;\">\n",
              "      <th>income</th>\n",
              "      <th>&lt;=50K</th>\n",
              "      <th>&gt;50K</th>\n",
              "      <th>percent_low_income</th>\n",
              "    </tr>\n",
              "    <tr>\n",
              "      <th>race</th>\n",
              "      <th></th>\n",
              "      <th></th>\n",
              "      <th></th>\n",
              "    </tr>\n",
              "  </thead>\n",
              "  <tbody>\n",
              "    <tr>\n",
              "      <th>Amer-Indian</th>\n",
              "      <td>83</td>\n",
              "      <td>9</td>\n",
              "      <td>0.902174</td>\n",
              "    </tr>\n",
              "    <tr>\n",
              "      <th>Asian</th>\n",
              "      <td>224</td>\n",
              "      <td>67</td>\n",
              "      <td>0.769759</td>\n",
              "    </tr>\n",
              "    <tr>\n",
              "      <th>Black</th>\n",
              "      <td>773</td>\n",
              "      <td>119</td>\n",
              "      <td>0.866592</td>\n",
              "    </tr>\n",
              "    <tr>\n",
              "      <th>Hispanic</th>\n",
              "      <td>69</td>\n",
              "      <td>6</td>\n",
              "      <td>0.920000</td>\n",
              "    </tr>\n",
              "    <tr>\n",
              "      <th>White</th>\n",
              "      <td>5944</td>\n",
              "      <td>2118</td>\n",
              "      <td>0.737286</td>\n",
              "    </tr>\n",
              "  </tbody>\n",
              "</table>\n",
              "</div>"
            ],
            "text/plain": [
              "income       <=50K  >50K  percent_low_income\n",
              "race                                        \n",
              "Amer-Indian     83     9            0.902174\n",
              "Asian          224    67            0.769759\n",
              "Black          773   119            0.866592\n",
              "Hispanic        69     6            0.920000\n",
              "White         5944  2118            0.737286"
            ]
          },
          "metadata": {
            "tags": []
          },
          "execution_count": 41
        }
      ]
    },
    {
      "cell_type": "markdown",
      "metadata": {
        "id": "zC2M1K0YsJ5A"
      },
      "source": [
        "Observations\n",
        "\n",
        "\n",
        "*   The largest group of people, for each race, reach up to an education level of 9, but the white race appear to have more of a chance to pursue higher levels of education as the race has the only very visible bars after 9.\n",
        "*   Since there is a larger group in this census data who are below 50k, of the people who are above 50k, there are a greater amount who work in private work class. Private work class seems to lead to more income in general. However, proportionately it seems more likely to be below. \n",
        "*  Races besides the white race do not appear to have self employed work like the white race. It seems they are at least 10 times more likely to be white if self employed.\n",
        "*   The white race has the most high income people and the most low income people. However, it appears to be less diproportionate in comparison to other races. \n",
        "* White race has a less of percentage of its people in the low income. Black, Hispanic, and Native American people are low income more than 86% of the time respectively.\n",
        "\n"
      ]
    },
    {
      "cell_type": "markdown",
      "metadata": {
        "id": "V8PkIZ_Q0P4M"
      },
      "source": [
        "### Little Further Analysis"
      ]
    },
    {
      "cell_type": "code",
      "metadata": {
        "colab": {
          "base_uri": "https://localhost:8080/",
          "height": 295
        },
        "id": "JgQOG3JCzng7",
        "outputId": "32ed2958-4a82-4a30-cb52-2d443941f80c"
      },
      "source": [
        "marital_income = pd.crosstab(df2[\"marital-status\"], df2[\"income\"])\n",
        "marital_income.plot(kind='bar', rot = 0)\n",
        "plt.title('Bar Graph of Marital Status Counts by Income Bracket')\n",
        "plt.xlabel('Marital Status')\n",
        "plt.ylabel('Count')\n",
        "plt.show()"
      ],
      "execution_count": null,
      "outputs": [
        {
          "output_type": "display_data",
          "data": {
            "image/png": "[encoded data removed]",
            "text/plain": [
              "<Figure size 432x288 with 1 Axes>"
            ]
          },
          "metadata": {
            "tags": [],
            "needs_background": "light"
          }
        }
      ]
    },
    {
      "cell_type": "code",
      "metadata": {
        "colab": {
          "base_uri": "https://localhost:8080/",
          "height": 295
        },
        "id": "kzTsMfNAz9Xn",
        "outputId": "1442f008-2cac-42fc-b7e9-77ef42137db7"
      },
      "source": [
        "marital_income = pd.crosstab(df2[\"sex\"], df2[\"income\"])\n",
        "marital_income.plot(kind='bar', rot = 0)\n",
        "plt.title('Bar Graph of Sex Type Counts by Income Bracket')\n",
        "plt.xlabel('Sex')\n",
        "plt.ylabel('Count')\n",
        "plt.show()"
      ],
      "execution_count": null,
      "outputs": [
        {
          "output_type": "display_data",
          "data": {
            "image/png": "[encoded data removed]",
            "text/plain": [
              "<Figure size 432x288 with 1 Axes>"
            ]
          },
          "metadata": {
            "tags": [],
            "needs_background": "light"
          }
        }
      ]
    },
    {
      "cell_type": "code",
      "metadata": {
        "colab": {
          "base_uri": "https://localhost:8080/",
          "height": 348
        },
        "id": "-XaPCbCnLPOU",
        "outputId": "92cd8ec8-09f2-4ba7-bc8f-198c60640f92"
      },
      "source": [
        "df2.boxplot(by='income', column='age', showfliers=False) \n",
        "plt.ylabel('Age')\n",
        "plt.xlabel('Income')\n",
        "plt.title('Distribution of Age by Income in Census Data')\n",
        "plt.suptitle('') \n",
        "plt.show()"
      ],
      "execution_count": null,
      "outputs": [
        {
          "output_type": "stream",
          "text": [
            "/usr/local/lib/python3.7/dist-packages/numpy/core/_asarray.py:83: VisibleDeprecationWarning: Creating an ndarray from ragged nested sequences (which is a list-or-tuple of lists-or-tuples-or ndarrays with different lengths or shapes) is deprecated. If you meant to do this, you must specify 'dtype=object' when creating the ndarray\n",
            "  return array(a, dtype, copy=False, order=order)\n"
          ],
          "name": "stderr"
        },
        {
          "output_type": "display_data",
          "data": {
            "image/png": "[encoded data removed]",
            "text/plain": [
              "<Figure size 432x288 with 1 Axes>"
            ]
          },
          "metadata": {
            "tags": [],
            "needs_background": "light"
          }
        }
      ]
    },
    {
      "cell_type": "code",
      "metadata": {
        "colab": {
          "base_uri": "https://localhost:8080/",
          "height": 348
        },
        "id": "oH6E5DX3OpEC",
        "outputId": "f2e1512d-2f27-445f-815a-2ceac9627e3f"
      },
      "source": [
        "df2.boxplot(by='income', column='education', showfliers=False) \n",
        "plt.ylabel('Education Level')\n",
        "plt.xlabel('Income')\n",
        "plt.title('Distribution of Education Level by Income in Census Data')\n",
        "plt.suptitle('') \n",
        "plt.show()"
      ],
      "execution_count": null,
      "outputs": [
        {
          "output_type": "stream",
          "text": [
            "/usr/local/lib/python3.7/dist-packages/numpy/core/_asarray.py:83: VisibleDeprecationWarning: Creating an ndarray from ragged nested sequences (which is a list-or-tuple of lists-or-tuples-or ndarrays with different lengths or shapes) is deprecated. If you meant to do this, you must specify 'dtype=object' when creating the ndarray\n",
            "  return array(a, dtype, copy=False, order=order)\n"
          ],
          "name": "stderr"
        },
        {
          "output_type": "display_data",
          "data": {
            "image/png": "[encoded data removed]",
            "text/plain": [
              "<Figure size 432x288 with 1 Axes>"
            ]
          },
          "metadata": {
            "tags": [],
            "needs_background": "light"
          }
        }
      ]
    },
    {
      "cell_type": "code",
      "metadata": {
        "colab": {
          "base_uri": "https://localhost:8080/",
          "height": 348
        },
        "id": "G9cKhIb5O_Yl",
        "outputId": "0f5aca66-74cd-4cfb-f8bc-5afe3a9a36d9"
      },
      "source": [
        "df2.boxplot(by='income', column='hours-per-week', showfliers=False) \n",
        "plt.ylabel('Hours per Week')\n",
        "plt.xlabel('Income')\n",
        "plt.title('Distribution of Hours per Week by Income in Census Data')\n",
        "plt.suptitle('') \n",
        "plt.show()"
      ],
      "execution_count": null,
      "outputs": [
        {
          "output_type": "stream",
          "text": [
            "/usr/local/lib/python3.7/dist-packages/numpy/core/_asarray.py:83: VisibleDeprecationWarning: Creating an ndarray from ragged nested sequences (which is a list-or-tuple of lists-or-tuples-or ndarrays with different lengths or shapes) is deprecated. If you meant to do this, you must specify 'dtype=object' when creating the ndarray\n",
            "  return array(a, dtype, copy=False, order=order)\n"
          ],
          "name": "stderr"
        },
        {
          "output_type": "display_data",
          "data": {
            "image/png": "[encoded data removed]",
            "text/plain": [
              "<Figure size 432x288 with 1 Axes>"
            ]
          },
          "metadata": {
            "tags": [],
            "needs_background": "light"
          }
        }
      ]
    },
    {
      "cell_type": "markdown",
      "metadata": {
        "id": "Ojyisa1u0ohe"
      },
      "source": [
        "Comparing and Contrasting Low Income vs High Income People\n",
        "\n",
        "The high income people tend to work longer hours, to have a bit more of an education, to be a bit older, to be disproportionately white, to be disproportionately male, and to be married. On the other hand, low income people do appear to work less hours, to have a little less of an education, to be a little younger, to be white, to be male, and to be single. When looking at proportions, it is clear that other races and females are more likely to be low income than whites and males respectively. As for working class, the category seems a bit more difficult to generalize with basic EDA.\n",
        "\n",
        "\n"
      ]
    },
    {
      "cell_type": "markdown",
      "metadata": {
        "id": "NkNVu53mVAc0"
      },
      "source": [
        "### b. Predictive Modeling and Model Evaluation"
      ]
    },
    {
      "cell_type": "code",
      "metadata": {
        "id": "RnQA9_lHVIxe"
      },
      "source": [
        "df2 = pd.get_dummies(df2)\n",
        "y2 = df2['income_>50K']\n",
        "X2 = df2.drop(['income_>50K', 'income_<=50K'], axis=1)"
      ],
      "execution_count": null,
      "outputs": []
    },
    {
      "cell_type": "markdown",
      "metadata": {
        "id": "HRoj7H11bO86"
      },
      "source": [
        "#### K Nearest Neighbors Classifier High Income"
      ]
    },
    {
      "cell_type": "code",
      "metadata": {
        "id": "TtAEYNOiWx2w"
      },
      "source": [
        "xknntrain, xknntest, yknntrain, yknntest = train_test_split(X2,\n",
        "                                                            y2,\n",
        "                                                            test_size=0.2,\n",
        "                                                            random_state=2) \n",
        "def min_max2(x):\n",
        "  return (x-xknntrain.min()) / (xknntrain.max() - xknntrain.min())\n",
        "xknntrain.apply(min_max)\n",
        "xknntest.apply(min_max)\n",
        "knn = KNeighborsClassifier(n_neighbors='1', \n",
        "                             metric='euclidean', \n",
        "                             weights='uniform')"
      ],
      "execution_count": null,
      "outputs": []
    },
    {
      "cell_type": "code",
      "metadata": {
        "colab": {
          "base_uri": "https://localhost:8080/"
        },
        "id": "ImGtnkVfYtul",
        "outputId": "3a0e3a23-2001-4455-8ebd-100a33ce2614"
      },
      "source": [
        "knn_params = {'n_neighbors': np.arange(1,51),\n",
        "              'metric' : ['euclidean', 'manhattan'],\n",
        "              'weights': ['distance', 'uniform']}\n",
        "grid2 = GridSearchCV(knn, knn_params, cv=5)\n",
        "grid2.fit(xknntrain, yknntrain)"
      ],
      "execution_count": null,
      "outputs": [
        {
          "output_type": "execute_result",
          "data": {
            "text/plain": [
              "GridSearchCV(cv=5, error_score=nan,\n",
              "             estimator=KNeighborsClassifier(algorithm='auto', leaf_size=30,\n",
              "                                            metric='euclidean',\n",
              "                                            metric_params=None, n_jobs=None,\n",
              "                                            n_neighbors='1', p=2,\n",
              "                                            weights='uniform'),\n",
              "             iid='deprecated', n_jobs=None,\n",
              "             param_grid={'metric': ['euclidean', 'manhattan'],\n",
              "                         'n_neighbors': array([ 1,  2,  3,  4,  5,  6,  7,  8,  9, 10, 11, 12, 13, 14, 15, 16, 17,\n",
              "       18, 19, 20, 21, 22, 23, 24, 25, 26, 27, 28, 29, 30, 31, 32, 33, 34,\n",
              "       35, 36, 37, 38, 39, 40, 41, 42, 43, 44, 45, 46, 47, 48, 49, 50]),\n",
              "                         'weights': ['distance', 'uniform']},\n",
              "             pre_dispatch='2*n_jobs', refit=True, return_train_score=False,\n",
              "             scoring=None, verbose=0)"
            ]
          },
          "metadata": {
            "tags": []
          },
          "execution_count": 62
        }
      ]
    },
    {
      "cell_type": "code",
      "metadata": {
        "colab": {
          "base_uri": "https://localhost:8080/"
        },
        "id": "JMHZrdtAaDhh",
        "outputId": "ff0a6857-59dd-4ac0-908f-585f7e654994"
      },
      "source": [
        "knn = grid2.best_estimator_\n",
        "knn.fit(xknntrain, yknntrain)\n",
        "knn_train_preds = knn.predict(xknntrain)\n",
        "knn_test_preds = knn.predict(xknntest)\n",
        "print('Training Data: \\n', classification_report(yknntrain, knn_train_preds))\n",
        "print('Testing Data: \\n', classification_report(yknntest, knn_test_preds))"
      ],
      "execution_count": null,
      "outputs": [
        {
          "output_type": "stream",
          "text": [
            "Training Data: \n",
            "               precision    recall  f1-score   support\n",
            "\n",
            "           0       0.85      0.93      0.89      5662\n",
            "           1       0.69      0.49      0.58      1867\n",
            "\n",
            "    accuracy                           0.82      7529\n",
            "   macro avg       0.77      0.71      0.73      7529\n",
            "weighted avg       0.81      0.82      0.81      7529\n",
            "\n",
            "Testing Data: \n",
            "               precision    recall  f1-score   support\n",
            "\n",
            "           0       0.84      0.91      0.88      1431\n",
            "           1       0.62      0.47      0.53       452\n",
            "\n",
            "    accuracy                           0.80      1883\n",
            "   macro avg       0.73      0.69      0.70      1883\n",
            "weighted avg       0.79      0.80      0.79      1883\n",
            "\n"
          ],
          "name": "stdout"
        }
      ]
    },
    {
      "cell_type": "markdown",
      "metadata": {
        "id": "P2uV924Fbd41"
      },
      "source": [
        "#### Random Forest Classifier High Income"
      ]
    },
    {
      "cell_type": "code",
      "metadata": {
        "id": "HHbtiatbbhPY"
      },
      "source": [
        "xrandom_train, xrandom_test, yrandom_train, yrandom_test = train_test_split(X2,\n",
        "                                                                            y2,\n",
        "                                                                            test_size = 0.8,\n",
        "                                                                            random_state = 2)"
      ],
      "execution_count": null,
      "outputs": []
    },
    {
      "cell_type": "code",
      "metadata": {
        "id": "rlhpD4wVb6lN"
      },
      "source": [
        "nvals2 = np.arange(1,50)\n",
        "best_n_estimators2 = []\n",
        "for n in nvals2:\n",
        "    ensemble2 = RandomForestClassifier(n_estimators=n,\n",
        "                                    criterion='entropy',\n",
        "                                    random_state = 2)\n",
        "    ensemble2.fit(xrandom_train, yrandom_train)\n",
        "    rf_preds = ensemble2.predict(xrandom_test)\n",
        "    acc = accuracy_score(yrandom_test, rf_preds)\n",
        "    best_n_estimators2.append(acc)\n",
        "\n",
        "best_nidx2 = np.argmax(best_n_estimators2)\n",
        "best_n2 = nvals2[best_nidx2]\n",
        "print('Best n_estimators =', best_n2)"
      ],
      "execution_count": null,
      "outputs": []
    },
    {
      "cell_type": "code",
      "metadata": {
        "colab": {
          "base_uri": "https://localhost:8080/"
        },
        "id": "VAmxnYRfeNJP",
        "outputId": "b505fdb7-b65e-462b-d676-bbdc75201d04"
      },
      "source": [
        "ensemble2 = RandomForestClassifier(n_estimators=12,\n",
        "                                   criterion='entropy',\n",
        "                                   random_state=2)\n",
        "ensemble2.fit(xrandom_train, yrandom_train)\n",
        "rf_train_preds = ensemble2.predict(xrandom_train)\n",
        "rf_test_preds = ensemble2.predict(xrandom_test)\n",
        "print('Training Data: \\n', classification_report(yrandom_train, rf_train_preds))\n",
        "print('Testing Data: \\n', classification_report(yrandom_test, rf_test_preds))\n"
      ],
      "execution_count": null,
      "outputs": [
        {
          "output_type": "stream",
          "text": [
            "Training Data: \n",
            "               precision    recall  f1-score   support\n",
            "\n",
            "           0       0.96      0.98      0.97      1399\n",
            "           1       0.93      0.89      0.91       483\n",
            "\n",
            "    accuracy                           0.95      1882\n",
            "   macro avg       0.95      0.94      0.94      1882\n",
            "weighted avg       0.95      0.95      0.95      1882\n",
            "\n",
            "Testing Data: \n",
            "               precision    recall  f1-score   support\n",
            "\n",
            "           0       0.85      0.87      0.86      5694\n",
            "           1       0.57      0.53      0.55      1836\n",
            "\n",
            "    accuracy                           0.79      7530\n",
            "   macro avg       0.71      0.70      0.71      7530\n",
            "weighted avg       0.78      0.79      0.79      7530\n",
            "\n"
          ],
          "name": "stdout"
        }
      ]
    },
    {
      "cell_type": "markdown",
      "metadata": {
        "id": "LYX4KxpXfDpY"
      },
      "source": [
        "#### Naive Bayes Classifier High Income"
      ]
    },
    {
      "cell_type": "code",
      "metadata": {
        "colab": {
          "base_uri": "https://localhost:8080/"
        },
        "id": "6bmoJ2i8fLWf",
        "outputId": "5c66bc19-cb6a-4247-95fe-568c883e9c9e"
      },
      "source": [
        "xNBtrain, xNBtest, yNBtrain, yNBtest = train_test_split(X2, \n",
        "                                                        y2,\n",
        "                                                        test_size = 0.8,\n",
        "                                                        random_state = 2)\n",
        "clf2 = GaussianNB()\n",
        "clf2.fit(xNBtrain, yNBtrain)\n",
        "NBtrain_preds = clf2.predict(xNBtrain)\n",
        "NBtest_preds = clf2.predict(xNBtest)\n",
        "print('Training Data: \\n', classification_report(yNBtrain, NBtrain_preds))\n",
        "print('Testing Data: \\n', classification_report(yNBtest, NBtest_preds))"
      ],
      "execution_count": null,
      "outputs": [
        {
          "output_type": "stream",
          "text": [
            "Training Data: \n",
            "               precision    recall  f1-score   support\n",
            "\n",
            "           0       0.89      0.69      0.78      1399\n",
            "           1       0.46      0.75      0.57       483\n",
            "\n",
            "    accuracy                           0.71      1882\n",
            "   macro avg       0.67      0.72      0.67      1882\n",
            "weighted avg       0.78      0.71      0.72      1882\n",
            "\n",
            "Testing Data: \n",
            "               precision    recall  f1-score   support\n",
            "\n",
            "           0       0.91      0.70      0.79      5694\n",
            "           1       0.46      0.78      0.58      1836\n",
            "\n",
            "    accuracy                           0.72      7530\n",
            "   macro avg       0.68      0.74      0.68      7530\n",
            "weighted avg       0.80      0.72      0.74      7530\n",
            "\n"
          ],
          "name": "stdout"
        }
      ]
    },
    {
      "cell_type": "code",
      "metadata": {
        "id": "0qhmnPGMKKL6"
      },
      "source": [
        ""
      ],
      "execution_count": null,
      "outputs": []
    },
    {
      "cell_type": "markdown",
      "metadata": {
        "id": "iPHC-6_V9Hh4"
      },
      "source": [
        "### Observations\n",
        "The K nearest neighbors classifier outperformed the other classifier models. With an accuracy score of 80% on its testing data, it was the most generalizable to unseen data. The 1% percent drop off from the training data and testing data results for the k nearest neighbors is normal considering how training data is used to learn the model. The model slightly beat out the random forest classifier with an accuracy of 79% on the testing data. When the model predicted the training it was 95% accurate, which indicates an overfitting problem likely caused by the maximum depth parameter. On the other hand, the naive bayes classifier was less generalizable at an accuracy of 72% on its testing data. The testing data predicted better than the training data, which signifies a slight underfit. There is some general variability the model is missing. Overall, it appears again that the recall for yes above 50k income is where the models struggled. This is likely due to how the sample size had a  lot more observations that were less than 50k income tha above 50k. This bias can throw off the model and make it harder for the algorithms to detect subtle differences between the above 50k and below 50k."
      ]
    },
    {
      "cell_type": "code",
      "metadata": {
        "id": "cqx28TS7_4LF"
      },
      "source": [
        ""
      ],
      "execution_count": null,
      "outputs": []
    }
  ]
}