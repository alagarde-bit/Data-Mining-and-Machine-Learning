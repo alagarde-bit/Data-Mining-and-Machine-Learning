{
  "nbformat": 4,
  "nbformat_minor": 0,
  "metadata": {
    "colab": {
      "name": "hw1.ipynb",
      "provenance": [],
      "collapsed_sections": [],
      "include_colab_link": true
    },
    "kernelspec": {
      "name": "python3",
      "display_name": "Python 3"
    }
  },
  "cells": [
    {
      "cell_type": "markdown",
      "metadata": {
        "id": "view-in-github",
        "colab_type": "text"
      },
      "source": [
        "<a href=\"https://colab.research.google.com/github/alagarde-bit/Data-Mining-and-Machine-Learning/blob/main/hw1.ipynb\" target=\"_parent\"><img src=\"https://colab.research.google.com/assets/colab-badge.svg\" alt=\"Open In Colab\"/></a>"
      ]
    },
    {
      "cell_type": "markdown",
      "metadata": {
        "id": "wDM6zCP9CBne"
      },
      "source": [
        "#Homework 1: Preprocessing and analysis\n",
        "## Alex Lagarde\n",
        "### 2/28/2021"
      ]
    },
    {
      "cell_type": "markdown",
      "metadata": {
        "id": "2ELLrDlkrtYb"
      },
      "source": [
        "# 3. Code Libraries"
      ]
    },
    {
      "cell_type": "code",
      "metadata": {
        "id": "G_upRL0NCK9J"
      },
      "source": [
        "# 3. Code Libraries\n",
        "import numpy as np\n",
        "import pandas as pd\n",
        "import matplotlib.pyplot as plt\n",
        "import seaborn as sns\n",
        "%matplotlib inline"
      ],
      "execution_count": null,
      "outputs": []
    },
    {
      "cell_type": "markdown",
      "metadata": {
        "id": "9PmcLBLMr1X2"
      },
      "source": [
        "# 4. Reading in CSV File"
      ]
    },
    {
      "cell_type": "code",
      "metadata": {
        "colab": {
          "base_uri": "https://localhost:8080/",
          "height": 343
        },
        "id": "5aqB7xl2CW3i",
        "outputId": "72ba7843-4f95-4f56-dce0-b14cc15412ad"
      },
      "source": [
        "# 4. Reading in datafile and displaying the first few rows\n",
        "df = pd.read_csv('https://drive.google.com/uc?export=download&id=1oQMcpoR3QC7w_sWIbtyid2N2j0o49_pk')\n",
        "df.head(10)"
      ],
      "execution_count": null,
      "outputs": [
        {
          "output_type": "execute_result",
          "data": {
            "text/html": [
              "<div>\n",
              "<style scoped>\n",
              "    .dataframe tbody tr th:only-of-type {\n",
              "        vertical-align: middle;\n",
              "    }\n",
              "\n",
              "    .dataframe tbody tr th {\n",
              "        vertical-align: top;\n",
              "    }\n",
              "\n",
              "    .dataframe thead th {\n",
              "        text-align: right;\n",
              "    }\n",
              "</style>\n",
              "<table border=\"1\" class=\"dataframe\">\n",
              "  <thead>\n",
              "    <tr style=\"text-align: right;\">\n",
              "      <th></th>\n",
              "      <th>id</th>\n",
              "      <th>age</th>\n",
              "      <th>income</th>\n",
              "      <th>children</th>\n",
              "      <th>gender</th>\n",
              "      <th>region</th>\n",
              "      <th>married</th>\n",
              "      <th>car</th>\n",
              "      <th>savings_acct</th>\n",
              "      <th>current_acct</th>\n",
              "      <th>mortgage</th>\n",
              "      <th>pep</th>\n",
              "    </tr>\n",
              "  </thead>\n",
              "  <tbody>\n",
              "    <tr>\n",
              "      <th>0</th>\n",
              "      <td>ID12101</td>\n",
              "      <td>48</td>\n",
              "      <td>17546.00</td>\n",
              "      <td>1</td>\n",
              "      <td>FEMALE</td>\n",
              "      <td>INNER_CITY</td>\n",
              "      <td>NO</td>\n",
              "      <td>NO</td>\n",
              "      <td>NO</td>\n",
              "      <td>NO</td>\n",
              "      <td>NO</td>\n",
              "      <td>YES</td>\n",
              "    </tr>\n",
              "    <tr>\n",
              "      <th>1</th>\n",
              "      <td>ID12102</td>\n",
              "      <td>40</td>\n",
              "      <td>30085.10</td>\n",
              "      <td>3</td>\n",
              "      <td>MALE</td>\n",
              "      <td>TOWN</td>\n",
              "      <td>YES</td>\n",
              "      <td>YES</td>\n",
              "      <td>NO</td>\n",
              "      <td>YES</td>\n",
              "      <td>YES</td>\n",
              "      <td>NO</td>\n",
              "    </tr>\n",
              "    <tr>\n",
              "      <th>2</th>\n",
              "      <td>ID12103</td>\n",
              "      <td>51</td>\n",
              "      <td>16575.40</td>\n",
              "      <td>0</td>\n",
              "      <td>FEMALE</td>\n",
              "      <td>INNER_CITY</td>\n",
              "      <td>YES</td>\n",
              "      <td>YES</td>\n",
              "      <td>YES</td>\n",
              "      <td>YES</td>\n",
              "      <td>NO</td>\n",
              "      <td>NO</td>\n",
              "    </tr>\n",
              "    <tr>\n",
              "      <th>3</th>\n",
              "      <td>ID12104</td>\n",
              "      <td>23</td>\n",
              "      <td>20375.40</td>\n",
              "      <td>3</td>\n",
              "      <td>FEMALE</td>\n",
              "      <td>TOWN</td>\n",
              "      <td>YES</td>\n",
              "      <td>NO</td>\n",
              "      <td>NO</td>\n",
              "      <td>YES</td>\n",
              "      <td>NO</td>\n",
              "      <td>NO</td>\n",
              "    </tr>\n",
              "    <tr>\n",
              "      <th>4</th>\n",
              "      <td>ID12105</td>\n",
              "      <td>57</td>\n",
              "      <td>50576.30</td>\n",
              "      <td>0</td>\n",
              "      <td>FEMALE</td>\n",
              "      <td>RURAL</td>\n",
              "      <td>YES</td>\n",
              "      <td>NO</td>\n",
              "      <td>YES</td>\n",
              "      <td>NO</td>\n",
              "      <td>NO</td>\n",
              "      <td>NO</td>\n",
              "    </tr>\n",
              "    <tr>\n",
              "      <th>5</th>\n",
              "      <td>ID12106</td>\n",
              "      <td>57</td>\n",
              "      <td>37869.60</td>\n",
              "      <td>2</td>\n",
              "      <td>FEMALE</td>\n",
              "      <td>TOWN</td>\n",
              "      <td>YES</td>\n",
              "      <td>NO</td>\n",
              "      <td>YES</td>\n",
              "      <td>YES</td>\n",
              "      <td>NO</td>\n",
              "      <td>YES</td>\n",
              "    </tr>\n",
              "    <tr>\n",
              "      <th>6</th>\n",
              "      <td>ID12107</td>\n",
              "      <td>22</td>\n",
              "      <td>8877.07</td>\n",
              "      <td>0</td>\n",
              "      <td>MALE</td>\n",
              "      <td>RURAL</td>\n",
              "      <td>NO</td>\n",
              "      <td>NO</td>\n",
              "      <td>NO</td>\n",
              "      <td>YES</td>\n",
              "      <td>NO</td>\n",
              "      <td>YES</td>\n",
              "    </tr>\n",
              "    <tr>\n",
              "      <th>7</th>\n",
              "      <td>ID12108</td>\n",
              "      <td>58</td>\n",
              "      <td>24946.60</td>\n",
              "      <td>0</td>\n",
              "      <td>MALE</td>\n",
              "      <td>TOWN</td>\n",
              "      <td>YES</td>\n",
              "      <td>YES</td>\n",
              "      <td>YES</td>\n",
              "      <td>YES</td>\n",
              "      <td>NO</td>\n",
              "      <td>NO</td>\n",
              "    </tr>\n",
              "    <tr>\n",
              "      <th>8</th>\n",
              "      <td>ID12109</td>\n",
              "      <td>37</td>\n",
              "      <td>25304.30</td>\n",
              "      <td>2</td>\n",
              "      <td>FEMALE</td>\n",
              "      <td>SUBURBAN</td>\n",
              "      <td>YES</td>\n",
              "      <td>YES</td>\n",
              "      <td>NO</td>\n",
              "      <td>NO</td>\n",
              "      <td>NO</td>\n",
              "      <td>NO</td>\n",
              "    </tr>\n",
              "    <tr>\n",
              "      <th>9</th>\n",
              "      <td>ID12110</td>\n",
              "      <td>54</td>\n",
              "      <td>24212.10</td>\n",
              "      <td>2</td>\n",
              "      <td>MALE</td>\n",
              "      <td>TOWN</td>\n",
              "      <td>YES</td>\n",
              "      <td>YES</td>\n",
              "      <td>YES</td>\n",
              "      <td>YES</td>\n",
              "      <td>NO</td>\n",
              "      <td>NO</td>\n",
              "    </tr>\n",
              "  </tbody>\n",
              "</table>\n",
              "</div>"
            ],
            "text/plain": [
              "        id  age    income  children  ... savings_acct current_acct mortgage  pep\n",
              "0  ID12101   48  17546.00         1  ...           NO           NO       NO  YES\n",
              "1  ID12102   40  30085.10         3  ...           NO          YES      YES   NO\n",
              "2  ID12103   51  16575.40         0  ...          YES          YES       NO   NO\n",
              "3  ID12104   23  20375.40         3  ...           NO          YES       NO   NO\n",
              "4  ID12105   57  50576.30         0  ...          YES           NO       NO   NO\n",
              "5  ID12106   57  37869.60         2  ...          YES          YES       NO  YES\n",
              "6  ID12107   22   8877.07         0  ...           NO          YES       NO  YES\n",
              "7  ID12108   58  24946.60         0  ...          YES          YES       NO   NO\n",
              "8  ID12109   37  25304.30         2  ...           NO           NO       NO   NO\n",
              "9  ID12110   54  24212.10         2  ...          YES          YES       NO   NO\n",
              "\n",
              "[10 rows x 12 columns]"
            ]
          },
          "metadata": {
            "tags": []
          },
          "execution_count": 83
        }
      ]
    },
    {
      "cell_type": "markdown",
      "metadata": {
        "id": "VfO8toG2sERm"
      },
      "source": [
        "# 5. Exploring General Data Characteristics"
      ]
    },
    {
      "cell_type": "markdown",
      "metadata": {
        "id": "lgxM5Wq7spEk"
      },
      "source": [
        "### a. What is the min, max, and average for age, income, and children?"
      ]
    },
    {
      "cell_type": "code",
      "metadata": {
        "colab": {
          "base_uri": "https://localhost:8080/"
        },
        "id": "dZyVqOAdCi7A",
        "outputId": "bf182514-e471-4bff-e0e4-369f24f365ea"
      },
      "source": [
        "# 5a. Taking minimum, maximum, and average for age, income, and children\n",
        "print('Age: \\n', 'min:', df['age'].min(), \n",
        "      '\\n', 'max:', df['age'].max(),\n",
        "      '\\n', 'mean:', df['age'].mean())\n",
        "\n",
        "print('Income: \\n', 'min:', df['income'].min(),\n",
        "      '\\n', 'max:', df['income'].max(),\n",
        "      '\\n', 'mean:', df['income'].mean())\n",
        "\n",
        "print('Children: \\n', 'min:', df['children'].min(),\n",
        "      '\\n', 'max:', df['children'].max(),\n",
        "      '\\n', 'mean:', df['children'].mean())"
      ],
      "execution_count": null,
      "outputs": [
        {
          "output_type": "stream",
          "text": [
            "Age: \n",
            " min: 18 \n",
            " max: 67 \n",
            " mean: 42.395\n",
            "Income: \n",
            " min: 5014.21 \n",
            " max: 63130.1 \n",
            " mean: 27524.0312166667\n",
            "Children: \n",
            " min: 0 \n",
            " max: 3 \n",
            " mean: 1.0116666666666667\n"
          ],
          "name": "stdout"
        }
      ]
    },
    {
      "cell_type": "markdown",
      "metadata": {
        "id": "BDHWPul0ru01"
      },
      "source": [
        "Age\n",
        "\n",
        "\n",
        "*   Minimum is 18 years old\n",
        "*   Maximum is 67 years old\n",
        "*   Average is 42.4 years old\n",
        "\n",
        "Income\n",
        "\n",
        "\n",
        "*   Minimum is 5,014.21 dollars\n",
        "*   Maximum is 63,130.1 dollars\n",
        "*   Average is 27,524.03 dollars\n",
        "\n",
        "Children\n",
        "\n",
        "\n",
        "* Minimum is 0 children\n",
        "* Maximum is 3 children\n",
        "* Average is 1.01 children\n",
        "\n",
        "\n",
        "\n",
        "\n"
      ]
    },
    {
      "cell_type": "markdown",
      "metadata": {
        "id": "ze6BlGNIs3X7"
      },
      "source": [
        "### b. How many customers own a car?"
      ]
    },
    {
      "cell_type": "code",
      "metadata": {
        "colab": {
          "base_uri": "https://localhost:8080/"
        },
        "id": "PLsB1Z4jD0y0",
        "outputId": "8c1d95ad-1839-451c-b32e-d5e6709bc172"
      },
      "source": [
        "# 5b. Displaying counts for car attribute\n",
        "df['car'].value_counts()"
      ],
      "execution_count": null,
      "outputs": [
        {
          "output_type": "execute_result",
          "data": {
            "text/plain": [
              "NO     304\n",
              "YES    296\n",
              "Name: car, dtype: int64"
            ]
          },
          "metadata": {
            "tags": []
          },
          "execution_count": 85
        }
      ]
    },
    {
      "cell_type": "markdown",
      "metadata": {
        "id": "UFIMCyyJuZvx"
      },
      "source": [
        "There are 296 customers that own a car."
      ]
    },
    {
      "cell_type": "markdown",
      "metadata": {
        "id": "eTnkq1Fr1WH-"
      },
      "source": [
        "### c. Of the 4 regions, in which one do people have the highest average number of children?"
      ]
    },
    {
      "cell_type": "code",
      "metadata": {
        "colab": {
          "base_uri": "https://localhost:8080/"
        },
        "id": "bwaEDCLIFZOA",
        "outputId": "6e17ed01-8b69-49e2-cb88-ca597d3c8924"
      },
      "source": [
        "# 5c. Grouping by region and children, and then taking the mean\n",
        "df.groupby('region')['children'].mean()"
      ],
      "execution_count": null,
      "outputs": [
        {
          "output_type": "execute_result",
          "data": {
            "text/plain": [
              "region\n",
              "INNER_CITY    0.951673\n",
              "RURAL         1.229167\n",
              "SUBURBAN      0.967742\n",
              "TOWN          1.000000\n",
              "Name: children, dtype: float64"
            ]
          },
          "metadata": {
            "tags": []
          },
          "execution_count": 86
        }
      ]
    },
    {
      "cell_type": "markdown",
      "metadata": {
        "id": "9j0mZxCjalJP"
      },
      "source": [
        "The rural region has the highest average number of children."
      ]
    },
    {
      "cell_type": "markdown",
      "metadata": {
        "id": "2CrKus0Atf_n"
      },
      "source": [
        "### d. Which region has the highest standard deviation of age? What does this mean?"
      ]
    },
    {
      "cell_type": "code",
      "metadata": {
        "colab": {
          "base_uri": "https://localhost:8080/"
        },
        "id": "ELETkuKjKcss",
        "outputId": "7d0af797-804b-4f9d-b0e2-72795f753581"
      },
      "source": [
        "# 5d. Grouping by region and age, and then taking standard deviation\n",
        "df.groupby('region')['age'].std()"
      ],
      "execution_count": null,
      "outputs": [
        {
          "output_type": "execute_result",
          "data": {
            "text/plain": [
              "region\n",
              "INNER_CITY    14.987306\n",
              "RURAL         14.396268\n",
              "SUBURBAN      15.222039\n",
              "TOWN          13.299309\n",
              "Name: age, dtype: float64"
            ]
          },
          "metadata": {
            "tags": []
          },
          "execution_count": 106
        }
      ]
    },
    {
      "cell_type": "markdown",
      "metadata": {
        "id": "A3DXn-z7d9Fp"
      },
      "source": [
        "The suburban region has the highest standard deviation for age. This means that the suburban region has a greater diversity in ages than other regions."
      ]
    },
    {
      "cell_type": "markdown",
      "metadata": {
        "id": "lD9cUmAktuZr"
      },
      "source": [
        "### e. What is the difference in average income between people who have a savings account and those who don't?"
      ]
    },
    {
      "cell_type": "code",
      "metadata": {
        "colab": {
          "base_uri": "https://localhost:8080/"
        },
        "id": "ujgTD9SBVgUP",
        "outputId": "b7878947-4c93-4e35-9296-9f3d0c575f26"
      },
      "source": [
        "# 5e. Subtracting mean income of people without savings from mean income with savings\n",
        "savings = df['savings_acct'] == 'YES'\n",
        "no_savings = df['savings_acct'] == 'NO'\n",
        "difference = df['income'][savings].mean() - df['income'][no_savings].mean()\n",
        "difference"
      ],
      "execution_count": null,
      "outputs": [
        {
          "output_type": "execute_result",
          "data": {
            "text/plain": [
              "7417.4377146641855"
            ]
          },
          "metadata": {
            "tags": []
          },
          "execution_count": 88
        }
      ]
    },
    {
      "cell_type": "markdown",
      "metadata": {
        "id": "BVnZDn7My_MR"
      },
      "source": [
        "The difference between the average income in people who do have a savings account and do not have a savings account is around 7417.44."
      ]
    },
    {
      "cell_type": "markdown",
      "metadata": {
        "id": "dWuI5ShXt_Sy"
      },
      "source": [
        "### f. Compare and contrast the subsets of customers who buy and don't buy the PEP (Personal Equity Plan). Can you observe any significant differences between these segments of customers? Discuss your observations.\n",
        "\n"
      ]
    },
    {
      "cell_type": "code",
      "metadata": {
        "colab": {
          "base_uri": "https://localhost:8080/"
        },
        "id": "4HHEepSdcPFd",
        "outputId": "c4220f81-4b7d-4bc1-e816-1bf105b3d12b"
      },
      "source": [
        "# 5f. Creating summary statistics tables for PEP customers and Non-PEP customers\n",
        "pep = df['pep'] == 'YES'\n",
        "pepno = df['pep'] == 'NO'\n",
        "print('Buy PEP: \\n', df[pep].describe())\n",
        "print('Do not buy PEP: \\n',df[pepno].describe())"
      ],
      "execution_count": null,
      "outputs": [
        {
          "output_type": "stream",
          "text": [
            "Buy PEP: \n",
            "               age        income    children\n",
            "count  274.000000    274.000000  274.000000\n",
            "mean    45.127737  30644.919453    0.945255\n",
            "std     14.327991  13609.613043    0.860571\n",
            "min     18.000000   7756.360000    0.000000\n",
            "25%     34.000000  19639.475000    0.000000\n",
            "50%     45.000000  28080.050000    1.000000\n",
            "75%     58.000000  38458.350000    1.000000\n",
            "max     67.000000  63130.100000    3.000000\n",
            "Do not buy PEP: \n",
            "               age        income    children\n",
            "count  326.000000    326.000000  326.000000\n",
            "mean    40.098160  24900.953374    1.067485\n",
            "std     14.123506  11661.123422    1.195524\n",
            "min     18.000000   5014.210000    0.000000\n",
            "25%     27.000000  15366.475000    0.000000\n",
            "50%     40.000000  23105.000000    0.000000\n",
            "75%     51.000000  31210.900000    2.000000\n",
            "max     67.000000  61554.600000    3.000000\n"
          ],
          "name": "stdout"
        }
      ]
    },
    {
      "cell_type": "markdown",
      "metadata": {
        "id": "HeBSrBCX4IaU"
      },
      "source": [
        "First, there are 52 less PEP customers than customers that did not buy PEP. Additionally, the standard deviations of the age of customers who buy PEP and do not buy PEP are almost identical. Therefore, the diversity in ages is very similar between the two groups; however, the mean age of customers who buy PEP is about five years older, which means the PEP customers tend to be a bit older. \n",
        "\n",
        "In terms of income, although there is more variability for PEP customers, using the median or middle 50%, they tend to possess around 5000 more currency. The maximum and minimum income are both higher for PEP customers too, which could help support the observation.\n",
        "\n",
        "Finally, although the sample sizes may be inconclusive, there appears to be a small trend where non-PEP customers have more children. The 75 percentile for non-PEP is two children compared to one child for PEP. Furthermore, the mean averages are 1.07 and 0.95 respectively. Ultimately, the standard deviation is a tad higher too, which could indicate inconclusive observations. There ought to be more investigation."
      ]
    },
    {
      "cell_type": "markdown",
      "metadata": {
        "id": "v0s6I6UpuSV4"
      },
      "source": [
        "# 6. Z-Score Standardization of Income Attribute"
      ]
    },
    {
      "cell_type": "markdown",
      "metadata": {
        "id": "HoxFARMWv0OF"
      },
      "source": [
        "### a. What are the mean and standard deviation of the normalized income attribute? Why?"
      ]
    },
    {
      "cell_type": "code",
      "metadata": {
        "id": "gysVV6NskxMn",
        "colab": {
          "base_uri": "https://localhost:8080/"
        },
        "outputId": "6fb22a7f-69d8-466f-a2fd-6f4a07fad4ad"
      },
      "source": [
        "# 6. Use z-score normalization to standardize the values of the income attribute. (Store this in a new variable called income_std. \n",
        "# Do not change the original income attribute in the table.) \n",
        "df['income_std'] = (df['income'] - df['income'].mean()) / df['income'].std()\n",
        "\n",
        "# 6a. Displaying mean and standard deviation for new standardized income attribute\n",
        "print('z-score mean:', df['income_std'].mean())\n",
        "print('z-score standard deviation:', df['income_std'].std())"
      ],
      "execution_count": null,
      "outputs": [
        {
          "output_type": "stream",
          "text": [
            "z-score mean: -2.5135449277513545e-15\n",
            "z-score standard deviation: 1.0000000000000004\n"
          ],
          "name": "stdout"
        }
      ]
    },
    {
      "cell_type": "markdown",
      "metadata": {
        "id": "U9arfF7I9dB0"
      },
      "source": [
        "The mean and standard deviation of the normalized income attribute are approximately 0 and 1 respectively. The reason for this is z-score normalization follows a standard normal distribution with mu equal to 0 and sigma equal to 1. If you think about it, when subtract a record by the attribute mean, we are centralizing the attribute at 0. When we divide by the attribute standard deviation, we are making z correspond to the amount of standard deviations away from the mean. Each increase of 1 represents 1 standard deviation from the mean."
      ]
    },
    {
      "cell_type": "markdown",
      "metadata": {
        "id": "ytwXzyptuZnO"
      },
      "source": [
        "# 7. Discretization of Age Attribute"
      ]
    },
    {
      "cell_type": "code",
      "metadata": {
        "id": "0t9G9tRhxDhR",
        "colab": {
          "base_uri": "https://localhost:8080/"
        },
        "outputId": "c754ecc5-a7f5-47d1-cd71-60035ddadc93"
      },
      "source": [
        "# 7. Discretize the age attribute into 3 categories (corresponding to \"young\", \"mid-age\", and \"old\"). (Store this in a new variable called age_disc. \n",
        "# Do not change the original age attribute in the table.)\n",
        "df['age_disc'] = pd.qcut(df['age'], [0, .33, .66, 1], labels=[\"young\", \"mid-age\", \"old\"])\n",
        "df['age_disc'].value_counts()"
      ],
      "execution_count": null,
      "outputs": [
        {
          "output_type": "execute_result",
          "data": {
            "text/plain": [
              "young      209\n",
              "old        198\n",
              "mid-age    193\n",
              "Name: age_disc, dtype: int64"
            ]
          },
          "metadata": {
            "tags": []
          },
          "execution_count": 91
        }
      ]
    },
    {
      "cell_type": "markdown",
      "metadata": {
        "id": "2BEuYO3pCRTA"
      },
      "source": [
        "There were 209 customers categorized as young, 193 as mid-age, and 198 as old. "
      ]
    },
    {
      "cell_type": "markdown",
      "metadata": {
        "id": "mXBhDX3VuzCL"
      },
      "source": [
        "# 8. Min-Max Normalization on Numeric Attributes from Original Data"
      ]
    },
    {
      "cell_type": "markdown",
      "metadata": {
        "id": "rnU_7sj7wLB_"
      },
      "source": [
        "### a. What is the mean and standard deviation of income after min-max normalization? Why are these different than the values after z-score normalization?"
      ]
    },
    {
      "cell_type": "code",
      "metadata": {
        "id": "PFkc-Ewsx9Mt",
        "colab": {
          "base_uri": "https://localhost:8080/"
        },
        "outputId": "8e340eef-3523-448d-900d-c1e1cfda98b6"
      },
      "source": [
        "# 8. Make a copy of the original data called bank_norm. Use Min-Max Normalization to transform the values of all numeric attributes (income, age, children).\n",
        "# Update the values in bank_norm into the range 0.0-1.0.\n",
        "bank_norm = df.drop(['income_std', 'age_disc'], axis = 1)\n",
        "def min_max(x):\n",
        "  if (x.dtypes == np.int64) | (x.dtypes == np.float64):\n",
        "    return  (x-x.min())/(x.max()-x.min())\n",
        "  else:\n",
        "    return x\n",
        "bank_norm = bank_norm.apply(min_max)\n",
        "\n",
        "# 8a. Displaying mean and standard deviation for new normalized income attribute\n",
        "print('Min-max mean:', bank_norm['income'].mean())\n",
        "print('Min-max standard deviation:', bank_norm['income'].std())"
      ],
      "execution_count": null,
      "outputs": [
        {
          "output_type": "stream",
          "text": [
            "Min-max mean: 0.3873264474942505\n",
            "Min-max standard deviation: 0.22196112363814038\n"
          ],
          "name": "stdout"
        }
      ]
    },
    {
      "cell_type": "markdown",
      "metadata": {
        "id": "oyZ93d4SG_wk"
      },
      "source": [
        "After implementing min-max normalization, the mean income is 0.39, and the standard deviation is 0.22. These numbers are different than z-score normalization because the min-max normalization forces the boundaries between 0 and 1 to scale the numbers from the minimum to the maximum. The closer to 0 means the number is in the ballpark of the minimum; thus, the closer to 1 means the number is approaching the maximum. Therefore, the mean and standard deviation will not be the same as the z-score normalization. "
      ]
    },
    {
      "cell_type": "markdown",
      "metadata": {
        "id": "-odm3yQUvJbU"
      },
      "source": [
        "#9. Using One Hot Encoding on Categorical Attributes"
      ]
    },
    {
      "cell_type": "markdown",
      "metadata": {
        "id": "BVl9ZzOGwaYw"
      },
      "source": [
        "### a. First drop the id column.\n",
        "### b.  Convert each categorical attribute into multiple binary (\"dummy\") attributes  (one for each of the possible values of the categorical attribute) and assign binary values corresponding to the presence or not presence of the attribute value in the original record. The numeric attributes should remain unchanged. [Hint: you might consider using the get_dummies for Pandas data frames.] gender_bin = pd.get_dummies(bank_norm[\"gender\"], prefix=\"gender\")"
      ]
    },
    {
      "cell_type": "code",
      "metadata": {
        "id": "UUunSdNiSiSF",
        "colab": {
          "base_uri": "https://localhost:8080/",
          "height": 363
        },
        "outputId": "344a08f4-e94b-45ab-aac9-099b9beba56a"
      },
      "source": [
        "# 9. Convert the table (after normalization in the previous part) into the standard \n",
        "# spreadsheet format (which means, do each of the following).\n",
        "# a. Dropping ID attribute\n",
        "bank_norm.drop(['id'], inplace=True, axis=1)\n",
        "# b. One hot encoding \n",
        "bank_norm = pd.get_dummies(bank_norm)\n",
        "bank_norm.head(10)"
      ],
      "execution_count": null,
      "outputs": [
        {
          "output_type": "execute_result",
          "data": {
            "text/html": [
              "<div>\n",
              "<style scoped>\n",
              "    .dataframe tbody tr th:only-of-type {\n",
              "        vertical-align: middle;\n",
              "    }\n",
              "\n",
              "    .dataframe tbody tr th {\n",
              "        vertical-align: top;\n",
              "    }\n",
              "\n",
              "    .dataframe thead th {\n",
              "        text-align: right;\n",
              "    }\n",
              "</style>\n",
              "<table border=\"1\" class=\"dataframe\">\n",
              "  <thead>\n",
              "    <tr style=\"text-align: right;\">\n",
              "      <th></th>\n",
              "      <th>age</th>\n",
              "      <th>income</th>\n",
              "      <th>children</th>\n",
              "      <th>gender_FEMALE</th>\n",
              "      <th>gender_MALE</th>\n",
              "      <th>region_INNER_CITY</th>\n",
              "      <th>region_RURAL</th>\n",
              "      <th>region_SUBURBAN</th>\n",
              "      <th>region_TOWN</th>\n",
              "      <th>married_NO</th>\n",
              "      <th>married_YES</th>\n",
              "      <th>car_NO</th>\n",
              "      <th>car_YES</th>\n",
              "      <th>savings_acct_NO</th>\n",
              "      <th>savings_acct_YES</th>\n",
              "      <th>current_acct_NO</th>\n",
              "      <th>current_acct_YES</th>\n",
              "      <th>mortgage_NO</th>\n",
              "      <th>mortgage_YES</th>\n",
              "      <th>pep_NO</th>\n",
              "      <th>pep_YES</th>\n",
              "    </tr>\n",
              "  </thead>\n",
              "  <tbody>\n",
              "    <tr>\n",
              "      <th>0</th>\n",
              "      <td>0.612245</td>\n",
              "      <td>0.215634</td>\n",
              "      <td>0.333333</td>\n",
              "      <td>1</td>\n",
              "      <td>0</td>\n",
              "      <td>1</td>\n",
              "      <td>0</td>\n",
              "      <td>0</td>\n",
              "      <td>0</td>\n",
              "      <td>1</td>\n",
              "      <td>0</td>\n",
              "      <td>1</td>\n",
              "      <td>0</td>\n",
              "      <td>1</td>\n",
              "      <td>0</td>\n",
              "      <td>1</td>\n",
              "      <td>0</td>\n",
              "      <td>1</td>\n",
              "      <td>0</td>\n",
              "      <td>0</td>\n",
              "      <td>1</td>\n",
              "    </tr>\n",
              "    <tr>\n",
              "      <th>1</th>\n",
              "      <td>0.448980</td>\n",
              "      <td>0.431395</td>\n",
              "      <td>1.000000</td>\n",
              "      <td>0</td>\n",
              "      <td>1</td>\n",
              "      <td>0</td>\n",
              "      <td>0</td>\n",
              "      <td>0</td>\n",
              "      <td>1</td>\n",
              "      <td>0</td>\n",
              "      <td>1</td>\n",
              "      <td>0</td>\n",
              "      <td>1</td>\n",
              "      <td>1</td>\n",
              "      <td>0</td>\n",
              "      <td>0</td>\n",
              "      <td>1</td>\n",
              "      <td>0</td>\n",
              "      <td>1</td>\n",
              "      <td>1</td>\n",
              "      <td>0</td>\n",
              "    </tr>\n",
              "    <tr>\n",
              "      <th>2</th>\n",
              "      <td>0.673469</td>\n",
              "      <td>0.198933</td>\n",
              "      <td>0.000000</td>\n",
              "      <td>1</td>\n",
              "      <td>0</td>\n",
              "      <td>1</td>\n",
              "      <td>0</td>\n",
              "      <td>0</td>\n",
              "      <td>0</td>\n",
              "      <td>0</td>\n",
              "      <td>1</td>\n",
              "      <td>0</td>\n",
              "      <td>1</td>\n",
              "      <td>0</td>\n",
              "      <td>1</td>\n",
              "      <td>0</td>\n",
              "      <td>1</td>\n",
              "      <td>1</td>\n",
              "      <td>0</td>\n",
              "      <td>1</td>\n",
              "      <td>0</td>\n",
              "    </tr>\n",
              "    <tr>\n",
              "      <th>3</th>\n",
              "      <td>0.102041</td>\n",
              "      <td>0.264320</td>\n",
              "      <td>1.000000</td>\n",
              "      <td>1</td>\n",
              "      <td>0</td>\n",
              "      <td>0</td>\n",
              "      <td>0</td>\n",
              "      <td>0</td>\n",
              "      <td>1</td>\n",
              "      <td>0</td>\n",
              "      <td>1</td>\n",
              "      <td>1</td>\n",
              "      <td>0</td>\n",
              "      <td>1</td>\n",
              "      <td>0</td>\n",
              "      <td>0</td>\n",
              "      <td>1</td>\n",
              "      <td>1</td>\n",
              "      <td>0</td>\n",
              "      <td>1</td>\n",
              "      <td>0</td>\n",
              "    </tr>\n",
              "    <tr>\n",
              "      <th>4</th>\n",
              "      <td>0.795918</td>\n",
              "      <td>0.783987</td>\n",
              "      <td>0.000000</td>\n",
              "      <td>1</td>\n",
              "      <td>0</td>\n",
              "      <td>0</td>\n",
              "      <td>1</td>\n",
              "      <td>0</td>\n",
              "      <td>0</td>\n",
              "      <td>0</td>\n",
              "      <td>1</td>\n",
              "      <td>1</td>\n",
              "      <td>0</td>\n",
              "      <td>0</td>\n",
              "      <td>1</td>\n",
              "      <td>1</td>\n",
              "      <td>0</td>\n",
              "      <td>1</td>\n",
              "      <td>0</td>\n",
              "      <td>1</td>\n",
              "      <td>0</td>\n",
              "    </tr>\n",
              "    <tr>\n",
              "      <th>5</th>\n",
              "      <td>0.795918</td>\n",
              "      <td>0.565343</td>\n",
              "      <td>0.666667</td>\n",
              "      <td>1</td>\n",
              "      <td>0</td>\n",
              "      <td>0</td>\n",
              "      <td>0</td>\n",
              "      <td>0</td>\n",
              "      <td>1</td>\n",
              "      <td>0</td>\n",
              "      <td>1</td>\n",
              "      <td>1</td>\n",
              "      <td>0</td>\n",
              "      <td>0</td>\n",
              "      <td>1</td>\n",
              "      <td>0</td>\n",
              "      <td>1</td>\n",
              "      <td>1</td>\n",
              "      <td>0</td>\n",
              "      <td>0</td>\n",
              "      <td>1</td>\n",
              "    </tr>\n",
              "    <tr>\n",
              "      <th>6</th>\n",
              "      <td>0.081633</td>\n",
              "      <td>0.066468</td>\n",
              "      <td>0.000000</td>\n",
              "      <td>0</td>\n",
              "      <td>1</td>\n",
              "      <td>0</td>\n",
              "      <td>1</td>\n",
              "      <td>0</td>\n",
              "      <td>0</td>\n",
              "      <td>1</td>\n",
              "      <td>0</td>\n",
              "      <td>1</td>\n",
              "      <td>0</td>\n",
              "      <td>1</td>\n",
              "      <td>0</td>\n",
              "      <td>0</td>\n",
              "      <td>1</td>\n",
              "      <td>1</td>\n",
              "      <td>0</td>\n",
              "      <td>0</td>\n",
              "      <td>1</td>\n",
              "    </tr>\n",
              "    <tr>\n",
              "      <th>7</th>\n",
              "      <td>0.816327</td>\n",
              "      <td>0.342977</td>\n",
              "      <td>0.000000</td>\n",
              "      <td>0</td>\n",
              "      <td>1</td>\n",
              "      <td>0</td>\n",
              "      <td>0</td>\n",
              "      <td>0</td>\n",
              "      <td>1</td>\n",
              "      <td>0</td>\n",
              "      <td>1</td>\n",
              "      <td>0</td>\n",
              "      <td>1</td>\n",
              "      <td>0</td>\n",
              "      <td>1</td>\n",
              "      <td>0</td>\n",
              "      <td>1</td>\n",
              "      <td>1</td>\n",
              "      <td>0</td>\n",
              "      <td>1</td>\n",
              "      <td>0</td>\n",
              "    </tr>\n",
              "    <tr>\n",
              "      <th>8</th>\n",
              "      <td>0.387755</td>\n",
              "      <td>0.349132</td>\n",
              "      <td>0.666667</td>\n",
              "      <td>1</td>\n",
              "      <td>0</td>\n",
              "      <td>0</td>\n",
              "      <td>0</td>\n",
              "      <td>1</td>\n",
              "      <td>0</td>\n",
              "      <td>0</td>\n",
              "      <td>1</td>\n",
              "      <td>0</td>\n",
              "      <td>1</td>\n",
              "      <td>1</td>\n",
              "      <td>0</td>\n",
              "      <td>1</td>\n",
              "      <td>0</td>\n",
              "      <td>1</td>\n",
              "      <td>0</td>\n",
              "      <td>1</td>\n",
              "      <td>0</td>\n",
              "    </tr>\n",
              "    <tr>\n",
              "      <th>9</th>\n",
              "      <td>0.734694</td>\n",
              "      <td>0.330338</td>\n",
              "      <td>0.666667</td>\n",
              "      <td>0</td>\n",
              "      <td>1</td>\n",
              "      <td>0</td>\n",
              "      <td>0</td>\n",
              "      <td>0</td>\n",
              "      <td>1</td>\n",
              "      <td>0</td>\n",
              "      <td>1</td>\n",
              "      <td>0</td>\n",
              "      <td>1</td>\n",
              "      <td>0</td>\n",
              "      <td>1</td>\n",
              "      <td>0</td>\n",
              "      <td>1</td>\n",
              "      <td>1</td>\n",
              "      <td>0</td>\n",
              "      <td>1</td>\n",
              "      <td>0</td>\n",
              "    </tr>\n",
              "  </tbody>\n",
              "</table>\n",
              "</div>"
            ],
            "text/plain": [
              "        age    income  children  ...  mortgage_YES  pep_NO  pep_YES\n",
              "0  0.612245  0.215634  0.333333  ...             0       0        1\n",
              "1  0.448980  0.431395  1.000000  ...             1       1        0\n",
              "2  0.673469  0.198933  0.000000  ...             0       1        0\n",
              "3  0.102041  0.264320  1.000000  ...             0       1        0\n",
              "4  0.795918  0.783987  0.000000  ...             0       1        0\n",
              "5  0.795918  0.565343  0.666667  ...             0       0        1\n",
              "6  0.081633  0.066468  0.000000  ...             0       0        1\n",
              "7  0.816327  0.342977  0.000000  ...             0       1        0\n",
              "8  0.387755  0.349132  0.666667  ...             0       1        0\n",
              "9  0.734694  0.330338  0.666667  ...             0       1        0\n",
              "\n",
              "[10 rows x 21 columns]"
            ]
          },
          "metadata": {
            "tags": []
          },
          "execution_count": 93
        }
      ]
    },
    {
      "cell_type": "markdown",
      "metadata": {
        "id": "pYUF5zSxvdQk"
      },
      "source": [
        "### c. Save this new table into a file called bank_numeric.csv and submit it along with your assignment. "
      ]
    },
    {
      "cell_type": "code",
      "metadata": {
        "id": "nHrf1WZAdult"
      },
      "source": [
        "# 9c. Writing to csv and saving file\n",
        "bank_norm.to_csv('bank_numeric.csv', float_format='%1.2f')"
      ],
      "execution_count": null,
      "outputs": []
    },
    {
      "cell_type": "markdown",
      "metadata": {
        "id": "ux_4ErxnvoVR"
      },
      "source": [
        "# 10. Correlation Analysis"
      ]
    },
    {
      "cell_type": "markdown",
      "metadata": {
        "id": "GNGR-zo_4uAf"
      },
      "source": [
        "### a. Using the standardized data set (of the previous part), perform basic correlation analysis among the attributes. Show the correlation matrix as a table of numbers. "
      ]
    },
    {
      "cell_type": "code",
      "metadata": {
        "id": "S4sWQcp3ekN_",
        "colab": {
          "base_uri": "https://localhost:8080/",
          "height": 689
        },
        "outputId": "cd79d8e3-d765-4f47-a4f9-52f7b690882b"
      },
      "source": [
        "# 10a. Displaying table of correlation coefficients \n",
        "bank_corr = bank_norm.corr()\n",
        "bank_corr"
      ],
      "execution_count": null,
      "outputs": [
        {
          "output_type": "execute_result",
          "data": {
            "text/html": [
              "<div>\n",
              "<style scoped>\n",
              "    .dataframe tbody tr th:only-of-type {\n",
              "        vertical-align: middle;\n",
              "    }\n",
              "\n",
              "    .dataframe tbody tr th {\n",
              "        vertical-align: top;\n",
              "    }\n",
              "\n",
              "    .dataframe thead th {\n",
              "        text-align: right;\n",
              "    }\n",
              "</style>\n",
              "<table border=\"1\" class=\"dataframe\">\n",
              "  <thead>\n",
              "    <tr style=\"text-align: right;\">\n",
              "      <th></th>\n",
              "      <th>age</th>\n",
              "      <th>income</th>\n",
              "      <th>children</th>\n",
              "      <th>gender_FEMALE</th>\n",
              "      <th>gender_MALE</th>\n",
              "      <th>region_INNER_CITY</th>\n",
              "      <th>region_RURAL</th>\n",
              "      <th>region_SUBURBAN</th>\n",
              "      <th>region_TOWN</th>\n",
              "      <th>married_NO</th>\n",
              "      <th>married_YES</th>\n",
              "      <th>car_NO</th>\n",
              "      <th>car_YES</th>\n",
              "      <th>savings_acct_NO</th>\n",
              "      <th>savings_acct_YES</th>\n",
              "      <th>current_acct_NO</th>\n",
              "      <th>current_acct_YES</th>\n",
              "      <th>mortgage_NO</th>\n",
              "      <th>mortgage_YES</th>\n",
              "      <th>pep_NO</th>\n",
              "      <th>pep_YES</th>\n",
              "    </tr>\n",
              "  </thead>\n",
              "  <tbody>\n",
              "    <tr>\n",
              "      <th>age</th>\n",
              "      <td>1.000000</td>\n",
              "      <td>0.752726</td>\n",
              "      <td>0.023572</td>\n",
              "      <td>0.090081</td>\n",
              "      <td>-0.090081</td>\n",
              "      <td>-0.025171</td>\n",
              "      <td>0.018635</td>\n",
              "      <td>0.031345</td>\n",
              "      <td>-0.008510</td>\n",
              "      <td>-0.010394</td>\n",
              "      <td>0.010394</td>\n",
              "      <td>-0.077733</td>\n",
              "      <td>0.077733</td>\n",
              "      <td>-0.184389</td>\n",
              "      <td>0.184389</td>\n",
              "      <td>0.035312</td>\n",
              "      <td>-0.035312</td>\n",
              "      <td>0.016154</td>\n",
              "      <td>-0.016154</td>\n",
              "      <td>-0.173825</td>\n",
              "      <td>0.173825</td>\n",
              "    </tr>\n",
              "    <tr>\n",
              "      <th>income</th>\n",
              "      <td>0.752726</td>\n",
              "      <td>1.000000</td>\n",
              "      <td>0.036761</td>\n",
              "      <td>0.023845</td>\n",
              "      <td>-0.023845</td>\n",
              "      <td>-0.047564</td>\n",
              "      <td>0.084776</td>\n",
              "      <td>0.029824</td>\n",
              "      <td>-0.036431</td>\n",
              "      <td>0.008386</td>\n",
              "      <td>-0.008386</td>\n",
              "      <td>-0.081556</td>\n",
              "      <td>0.081556</td>\n",
              "      <td>-0.266164</td>\n",
              "      <td>0.266164</td>\n",
              "      <td>-0.031616</td>\n",
              "      <td>0.031616</td>\n",
              "      <td>0.014662</td>\n",
              "      <td>-0.014662</td>\n",
              "      <td>-0.221991</td>\n",
              "      <td>0.221991</td>\n",
              "    </tr>\n",
              "    <tr>\n",
              "      <th>children</th>\n",
              "      <td>0.023572</td>\n",
              "      <td>0.036761</td>\n",
              "      <td>1.000000</td>\n",
              "      <td>0.014206</td>\n",
              "      <td>-0.014206</td>\n",
              "      <td>-0.051222</td>\n",
              "      <td>0.089902</td>\n",
              "      <td>-0.014122</td>\n",
              "      <td>-0.007033</td>\n",
              "      <td>0.048716</td>\n",
              "      <td>-0.048716</td>\n",
              "      <td>-0.036455</td>\n",
              "      <td>0.036455</td>\n",
              "      <td>-0.041536</td>\n",
              "      <td>0.041536</td>\n",
              "      <td>-0.006238</td>\n",
              "      <td>0.006238</td>\n",
              "      <td>0.074339</td>\n",
              "      <td>-0.074339</td>\n",
              "      <td>0.057663</td>\n",
              "      <td>-0.057663</td>\n",
              "    </tr>\n",
              "    <tr>\n",
              "      <th>gender_FEMALE</th>\n",
              "      <td>0.090081</td>\n",
              "      <td>0.023845</td>\n",
              "      <td>0.014206</td>\n",
              "      <td>1.000000</td>\n",
              "      <td>-1.000000</td>\n",
              "      <td>-0.023459</td>\n",
              "      <td>-0.009092</td>\n",
              "      <td>-0.010951</td>\n",
              "      <td>0.040472</td>\n",
              "      <td>0.021110</td>\n",
              "      <td>-0.021110</td>\n",
              "      <td>0.006667</td>\n",
              "      <td>-0.006667</td>\n",
              "      <td>0.007207</td>\n",
              "      <td>-0.007207</td>\n",
              "      <td>-0.019466</td>\n",
              "      <td>0.019466</td>\n",
              "      <td>0.066465</td>\n",
              "      <td>-0.066465</td>\n",
              "      <td>0.046843</td>\n",
              "      <td>-0.046843</td>\n",
              "    </tr>\n",
              "    <tr>\n",
              "      <th>gender_MALE</th>\n",
              "      <td>-0.090081</td>\n",
              "      <td>-0.023845</td>\n",
              "      <td>-0.014206</td>\n",
              "      <td>-1.000000</td>\n",
              "      <td>1.000000</td>\n",
              "      <td>0.023459</td>\n",
              "      <td>0.009092</td>\n",
              "      <td>0.010951</td>\n",
              "      <td>-0.040472</td>\n",
              "      <td>-0.021110</td>\n",
              "      <td>0.021110</td>\n",
              "      <td>-0.006667</td>\n",
              "      <td>0.006667</td>\n",
              "      <td>-0.007207</td>\n",
              "      <td>0.007207</td>\n",
              "      <td>0.019466</td>\n",
              "      <td>-0.019466</td>\n",
              "      <td>-0.066465</td>\n",
              "      <td>0.066465</td>\n",
              "      <td>-0.046843</td>\n",
              "      <td>0.046843</td>\n",
              "    </tr>\n",
              "    <tr>\n",
              "      <th>region_INNER_CITY</th>\n",
              "      <td>-0.025171</td>\n",
              "      <td>-0.047564</td>\n",
              "      <td>-0.051222</td>\n",
              "      <td>-0.023459</td>\n",
              "      <td>0.023459</td>\n",
              "      <td>1.000000</td>\n",
              "      <td>-0.393444</td>\n",
              "      <td>-0.306032</td>\n",
              "      <td>-0.573814</td>\n",
              "      <td>-0.003254</td>\n",
              "      <td>0.003254</td>\n",
              "      <td>0.018143</td>\n",
              "      <td>-0.018143</td>\n",
              "      <td>0.091373</td>\n",
              "      <td>-0.091373</td>\n",
              "      <td>-0.007894</td>\n",
              "      <td>0.007894</td>\n",
              "      <td>-0.002098</td>\n",
              "      <td>0.002098</td>\n",
              "      <td>-0.001054</td>\n",
              "      <td>0.001054</td>\n",
              "    </tr>\n",
              "    <tr>\n",
              "      <th>region_RURAL</th>\n",
              "      <td>0.018635</td>\n",
              "      <td>0.084776</td>\n",
              "      <td>0.089902</td>\n",
              "      <td>-0.009092</td>\n",
              "      <td>0.009092</td>\n",
              "      <td>-0.393444</td>\n",
              "      <td>1.000000</td>\n",
              "      <td>-0.148158</td>\n",
              "      <td>-0.277798</td>\n",
              "      <td>0.022649</td>\n",
              "      <td>-0.022649</td>\n",
              "      <td>-0.024006</td>\n",
              "      <td>0.024006</td>\n",
              "      <td>-0.036960</td>\n",
              "      <td>0.036960</td>\n",
              "      <td>0.008496</td>\n",
              "      <td>-0.008496</td>\n",
              "      <td>0.051908</td>\n",
              "      <td>-0.051908</td>\n",
              "      <td>-0.019714</td>\n",
              "      <td>0.019714</td>\n",
              "    </tr>\n",
              "    <tr>\n",
              "      <th>region_SUBURBAN</th>\n",
              "      <td>0.031345</td>\n",
              "      <td>0.029824</td>\n",
              "      <td>-0.014122</td>\n",
              "      <td>-0.010951</td>\n",
              "      <td>0.010951</td>\n",
              "      <td>-0.306032</td>\n",
              "      <td>-0.148158</td>\n",
              "      <td>1.000000</td>\n",
              "      <td>-0.216080</td>\n",
              "      <td>-0.012483</td>\n",
              "      <td>0.012483</td>\n",
              "      <td>0.061184</td>\n",
              "      <td>-0.061184</td>\n",
              "      <td>-0.002605</td>\n",
              "      <td>0.002605</td>\n",
              "      <td>-0.038157</td>\n",
              "      <td>0.038157</td>\n",
              "      <td>-0.004635</td>\n",
              "      <td>0.004635</td>\n",
              "      <td>-0.062508</td>\n",
              "      <td>0.062508</td>\n",
              "    </tr>\n",
              "    <tr>\n",
              "      <th>region_TOWN</th>\n",
              "      <td>-0.008510</td>\n",
              "      <td>-0.036431</td>\n",
              "      <td>-0.007033</td>\n",
              "      <td>0.040472</td>\n",
              "      <td>-0.040472</td>\n",
              "      <td>-0.573814</td>\n",
              "      <td>-0.277798</td>\n",
              "      <td>-0.216080</td>\n",
              "      <td>1.000000</td>\n",
              "      <td>-0.006369</td>\n",
              "      <td>0.006369</td>\n",
              "      <td>-0.041604</td>\n",
              "      <td>0.041604</td>\n",
              "      <td>-0.068654</td>\n",
              "      <td>0.068654</td>\n",
              "      <td>0.027431</td>\n",
              "      <td>-0.027431</td>\n",
              "      <td>-0.036591</td>\n",
              "      <td>0.036591</td>\n",
              "      <td>0.059115</td>\n",
              "      <td>-0.059115</td>\n",
              "    </tr>\n",
              "    <tr>\n",
              "      <th>married_NO</th>\n",
              "      <td>-0.010394</td>\n",
              "      <td>0.008386</td>\n",
              "      <td>0.048716</td>\n",
              "      <td>0.021110</td>\n",
              "      <td>-0.021110</td>\n",
              "      <td>-0.003254</td>\n",
              "      <td>0.022649</td>\n",
              "      <td>-0.012483</td>\n",
              "      <td>-0.006369</td>\n",
              "      <td>1.000000</td>\n",
              "      <td>-1.000000</td>\n",
              "      <td>-0.009571</td>\n",
              "      <td>0.009571</td>\n",
              "      <td>0.028604</td>\n",
              "      <td>-0.028604</td>\n",
              "      <td>-0.059996</td>\n",
              "      <td>0.059996</td>\n",
              "      <td>-0.021711</td>\n",
              "      <td>0.021711</td>\n",
              "      <td>-0.189578</td>\n",
              "      <td>0.189578</td>\n",
              "    </tr>\n",
              "    <tr>\n",
              "      <th>married_YES</th>\n",
              "      <td>0.010394</td>\n",
              "      <td>-0.008386</td>\n",
              "      <td>-0.048716</td>\n",
              "      <td>-0.021110</td>\n",
              "      <td>0.021110</td>\n",
              "      <td>0.003254</td>\n",
              "      <td>-0.022649</td>\n",
              "      <td>0.012483</td>\n",
              "      <td>0.006369</td>\n",
              "      <td>-1.000000</td>\n",
              "      <td>1.000000</td>\n",
              "      <td>0.009571</td>\n",
              "      <td>-0.009571</td>\n",
              "      <td>-0.028604</td>\n",
              "      <td>0.028604</td>\n",
              "      <td>0.059996</td>\n",
              "      <td>-0.059996</td>\n",
              "      <td>0.021711</td>\n",
              "      <td>-0.021711</td>\n",
              "      <td>0.189578</td>\n",
              "      <td>-0.189578</td>\n",
              "    </tr>\n",
              "    <tr>\n",
              "      <th>car_NO</th>\n",
              "      <td>-0.077733</td>\n",
              "      <td>-0.081556</td>\n",
              "      <td>-0.036455</td>\n",
              "      <td>0.006667</td>\n",
              "      <td>-0.006667</td>\n",
              "      <td>0.018143</td>\n",
              "      <td>-0.024006</td>\n",
              "      <td>0.061184</td>\n",
              "      <td>-0.041604</td>\n",
              "      <td>-0.009571</td>\n",
              "      <td>0.009571</td>\n",
              "      <td>1.000000</td>\n",
              "      <td>-1.000000</td>\n",
              "      <td>0.034310</td>\n",
              "      <td>-0.034310</td>\n",
              "      <td>-0.034783</td>\n",
              "      <td>0.034783</td>\n",
              "      <td>-0.007743</td>\n",
              "      <td>0.007743</td>\n",
              "      <td>0.018917</td>\n",
              "      <td>-0.018917</td>\n",
              "    </tr>\n",
              "    <tr>\n",
              "      <th>car_YES</th>\n",
              "      <td>0.077733</td>\n",
              "      <td>0.081556</td>\n",
              "      <td>0.036455</td>\n",
              "      <td>-0.006667</td>\n",
              "      <td>0.006667</td>\n",
              "      <td>-0.018143</td>\n",
              "      <td>0.024006</td>\n",
              "      <td>-0.061184</td>\n",
              "      <td>0.041604</td>\n",
              "      <td>0.009571</td>\n",
              "      <td>-0.009571</td>\n",
              "      <td>-1.000000</td>\n",
              "      <td>1.000000</td>\n",
              "      <td>-0.034310</td>\n",
              "      <td>0.034310</td>\n",
              "      <td>0.034783</td>\n",
              "      <td>-0.034783</td>\n",
              "      <td>0.007743</td>\n",
              "      <td>-0.007743</td>\n",
              "      <td>-0.018917</td>\n",
              "      <td>0.018917</td>\n",
              "    </tr>\n",
              "    <tr>\n",
              "      <th>savings_acct_NO</th>\n",
              "      <td>-0.184389</td>\n",
              "      <td>-0.266164</td>\n",
              "      <td>-0.041536</td>\n",
              "      <td>0.007207</td>\n",
              "      <td>-0.007207</td>\n",
              "      <td>0.091373</td>\n",
              "      <td>-0.036960</td>\n",
              "      <td>-0.002605</td>\n",
              "      <td>-0.068654</td>\n",
              "      <td>0.028604</td>\n",
              "      <td>-0.028604</td>\n",
              "      <td>0.034310</td>\n",
              "      <td>-0.034310</td>\n",
              "      <td>1.000000</td>\n",
              "      <td>-1.000000</td>\n",
              "      <td>0.042511</td>\n",
              "      <td>-0.042511</td>\n",
              "      <td>-0.001588</td>\n",
              "      <td>0.001588</td>\n",
              "      <td>-0.072779</td>\n",
              "      <td>0.072779</td>\n",
              "    </tr>\n",
              "    <tr>\n",
              "      <th>savings_acct_YES</th>\n",
              "      <td>0.184389</td>\n",
              "      <td>0.266164</td>\n",
              "      <td>0.041536</td>\n",
              "      <td>-0.007207</td>\n",
              "      <td>0.007207</td>\n",
              "      <td>-0.091373</td>\n",
              "      <td>0.036960</td>\n",
              "      <td>0.002605</td>\n",
              "      <td>0.068654</td>\n",
              "      <td>-0.028604</td>\n",
              "      <td>0.028604</td>\n",
              "      <td>-0.034310</td>\n",
              "      <td>0.034310</td>\n",
              "      <td>-1.000000</td>\n",
              "      <td>1.000000</td>\n",
              "      <td>-0.042511</td>\n",
              "      <td>0.042511</td>\n",
              "      <td>0.001588</td>\n",
              "      <td>-0.001588</td>\n",
              "      <td>0.072779</td>\n",
              "      <td>-0.072779</td>\n",
              "    </tr>\n",
              "    <tr>\n",
              "      <th>current_acct_NO</th>\n",
              "      <td>0.035312</td>\n",
              "      <td>-0.031616</td>\n",
              "      <td>-0.006238</td>\n",
              "      <td>-0.019466</td>\n",
              "      <td>0.019466</td>\n",
              "      <td>-0.007894</td>\n",
              "      <td>0.008496</td>\n",
              "      <td>-0.038157</td>\n",
              "      <td>0.027431</td>\n",
              "      <td>-0.059996</td>\n",
              "      <td>0.059996</td>\n",
              "      <td>-0.034783</td>\n",
              "      <td>0.034783</td>\n",
              "      <td>0.042511</td>\n",
              "      <td>-0.042511</td>\n",
              "      <td>1.000000</td>\n",
              "      <td>-1.000000</td>\n",
              "      <td>-0.036704</td>\n",
              "      <td>0.036704</td>\n",
              "      <td>0.025141</td>\n",
              "      <td>-0.025141</td>\n",
              "    </tr>\n",
              "    <tr>\n",
              "      <th>current_acct_YES</th>\n",
              "      <td>-0.035312</td>\n",
              "      <td>0.031616</td>\n",
              "      <td>0.006238</td>\n",
              "      <td>0.019466</td>\n",
              "      <td>-0.019466</td>\n",
              "      <td>0.007894</td>\n",
              "      <td>-0.008496</td>\n",
              "      <td>0.038157</td>\n",
              "      <td>-0.027431</td>\n",
              "      <td>0.059996</td>\n",
              "      <td>-0.059996</td>\n",
              "      <td>0.034783</td>\n",
              "      <td>-0.034783</td>\n",
              "      <td>-0.042511</td>\n",
              "      <td>0.042511</td>\n",
              "      <td>-1.000000</td>\n",
              "      <td>1.000000</td>\n",
              "      <td>0.036704</td>\n",
              "      <td>-0.036704</td>\n",
              "      <td>-0.025141</td>\n",
              "      <td>0.025141</td>\n",
              "    </tr>\n",
              "    <tr>\n",
              "      <th>mortgage_NO</th>\n",
              "      <td>0.016154</td>\n",
              "      <td>0.014662</td>\n",
              "      <td>0.074339</td>\n",
              "      <td>0.066465</td>\n",
              "      <td>-0.066465</td>\n",
              "      <td>-0.002098</td>\n",
              "      <td>0.051908</td>\n",
              "      <td>-0.004635</td>\n",
              "      <td>-0.036591</td>\n",
              "      <td>-0.021711</td>\n",
              "      <td>0.021711</td>\n",
              "      <td>-0.007743</td>\n",
              "      <td>0.007743</td>\n",
              "      <td>-0.001588</td>\n",
              "      <td>0.001588</td>\n",
              "      <td>-0.036704</td>\n",
              "      <td>0.036704</td>\n",
              "      <td>1.000000</td>\n",
              "      <td>-1.000000</td>\n",
              "      <td>-0.024182</td>\n",
              "      <td>0.024182</td>\n",
              "    </tr>\n",
              "    <tr>\n",
              "      <th>mortgage_YES</th>\n",
              "      <td>-0.016154</td>\n",
              "      <td>-0.014662</td>\n",
              "      <td>-0.074339</td>\n",
              "      <td>-0.066465</td>\n",
              "      <td>0.066465</td>\n",
              "      <td>0.002098</td>\n",
              "      <td>-0.051908</td>\n",
              "      <td>0.004635</td>\n",
              "      <td>0.036591</td>\n",
              "      <td>0.021711</td>\n",
              "      <td>-0.021711</td>\n",
              "      <td>0.007743</td>\n",
              "      <td>-0.007743</td>\n",
              "      <td>0.001588</td>\n",
              "      <td>-0.001588</td>\n",
              "      <td>0.036704</td>\n",
              "      <td>-0.036704</td>\n",
              "      <td>-1.000000</td>\n",
              "      <td>1.000000</td>\n",
              "      <td>0.024182</td>\n",
              "      <td>-0.024182</td>\n",
              "    </tr>\n",
              "    <tr>\n",
              "      <th>pep_NO</th>\n",
              "      <td>-0.173825</td>\n",
              "      <td>-0.221991</td>\n",
              "      <td>0.057663</td>\n",
              "      <td>0.046843</td>\n",
              "      <td>-0.046843</td>\n",
              "      <td>-0.001054</td>\n",
              "      <td>-0.019714</td>\n",
              "      <td>-0.062508</td>\n",
              "      <td>0.059115</td>\n",
              "      <td>-0.189578</td>\n",
              "      <td>0.189578</td>\n",
              "      <td>0.018917</td>\n",
              "      <td>-0.018917</td>\n",
              "      <td>-0.072779</td>\n",
              "      <td>0.072779</td>\n",
              "      <td>0.025141</td>\n",
              "      <td>-0.025141</td>\n",
              "      <td>-0.024182</td>\n",
              "      <td>0.024182</td>\n",
              "      <td>1.000000</td>\n",
              "      <td>-1.000000</td>\n",
              "    </tr>\n",
              "    <tr>\n",
              "      <th>pep_YES</th>\n",
              "      <td>0.173825</td>\n",
              "      <td>0.221991</td>\n",
              "      <td>-0.057663</td>\n",
              "      <td>-0.046843</td>\n",
              "      <td>0.046843</td>\n",
              "      <td>0.001054</td>\n",
              "      <td>0.019714</td>\n",
              "      <td>0.062508</td>\n",
              "      <td>-0.059115</td>\n",
              "      <td>0.189578</td>\n",
              "      <td>-0.189578</td>\n",
              "      <td>-0.018917</td>\n",
              "      <td>0.018917</td>\n",
              "      <td>0.072779</td>\n",
              "      <td>-0.072779</td>\n",
              "      <td>-0.025141</td>\n",
              "      <td>0.025141</td>\n",
              "      <td>0.024182</td>\n",
              "      <td>-0.024182</td>\n",
              "      <td>-1.000000</td>\n",
              "      <td>1.000000</td>\n",
              "    </tr>\n",
              "  </tbody>\n",
              "</table>\n",
              "</div>"
            ],
            "text/plain": [
              "                        age    income  ...    pep_NO   pep_YES\n",
              "age                1.000000  0.752726  ... -0.173825  0.173825\n",
              "income             0.752726  1.000000  ... -0.221991  0.221991\n",
              "children           0.023572  0.036761  ...  0.057663 -0.057663\n",
              "gender_FEMALE      0.090081  0.023845  ...  0.046843 -0.046843\n",
              "gender_MALE       -0.090081 -0.023845  ... -0.046843  0.046843\n",
              "region_INNER_CITY -0.025171 -0.047564  ... -0.001054  0.001054\n",
              "region_RURAL       0.018635  0.084776  ... -0.019714  0.019714\n",
              "region_SUBURBAN    0.031345  0.029824  ... -0.062508  0.062508\n",
              "region_TOWN       -0.008510 -0.036431  ...  0.059115 -0.059115\n",
              "married_NO        -0.010394  0.008386  ... -0.189578  0.189578\n",
              "married_YES        0.010394 -0.008386  ...  0.189578 -0.189578\n",
              "car_NO            -0.077733 -0.081556  ...  0.018917 -0.018917\n",
              "car_YES            0.077733  0.081556  ... -0.018917  0.018917\n",
              "savings_acct_NO   -0.184389 -0.266164  ... -0.072779  0.072779\n",
              "savings_acct_YES   0.184389  0.266164  ...  0.072779 -0.072779\n",
              "current_acct_NO    0.035312 -0.031616  ...  0.025141 -0.025141\n",
              "current_acct_YES  -0.035312  0.031616  ... -0.025141  0.025141\n",
              "mortgage_NO        0.016154  0.014662  ... -0.024182  0.024182\n",
              "mortgage_YES      -0.016154 -0.014662  ...  0.024182 -0.024182\n",
              "pep_NO            -0.173825 -0.221991  ...  1.000000 -1.000000\n",
              "pep_YES            0.173825  0.221991  ... -1.000000  1.000000\n",
              "\n",
              "[21 rows x 21 columns]"
            ]
          },
          "metadata": {
            "tags": []
          },
          "execution_count": 95
        }
      ]
    },
    {
      "cell_type": "markdown",
      "metadata": {
        "id": "upFa6pWyxHvK"
      },
      "source": [
        "### b. Show the correlation matrix as a heatmap. Make sure to include a colorbar."
      ]
    },
    {
      "cell_type": "code",
      "metadata": {
        "colab": {
          "base_uri": "https://localhost:8080/",
          "height": 703
        },
        "id": "sSePnVJpAJXh",
        "outputId": "e1de3a76-fe20-4ea5-8c1d-e86fd768fa6f"
      },
      "source": [
        "# 10b. Correlation heatmap\n",
        "plt.figure(figsize=(15,10))\n",
        "sns.heatmap(bank_corr, vmin=-1, vmax=1, cmap='BrBG')\n",
        "plt.title('Standardized Correlation Matrix', fontdict= {'fontsize': 20}, pad=12)\n",
        "plt.show()"
      ],
      "execution_count": null,
      "outputs": [
        {
          "output_type": "display_data",
          "data": {
            "image/png": "[encoded data removed]",
            "text/plain": [
              "<Figure size 1080x720 with 2 Axes>"
            ]
          },
          "metadata": {
            "tags": [],
            "needs_background": "light"
          }
        }
      ]
    },
    {
      "cell_type": "markdown",
      "metadata": {
        "id": "5uO6OvNSxXIB"
      },
      "source": [
        "### c. Discuss your results, focusing on the few most significant positive or negative correlations among pairs of attributes. "
      ]
    },
    {
      "cell_type": "markdown",
      "metadata": {
        "id": "WHnyb-77PaFV"
      },
      "source": [
        "\n",
        "Most notably, there appears to be a fairly positive correlation between age and income. Moreover, there seems to be a moderate negative correlation between town region and inner city region. Otherwise, the other variables display a weak positive correlation, weak negative correlation, or no correlation."
      ]
    },
    {
      "cell_type": "markdown",
      "metadata": {
        "id": "DbQ8s_VExomq"
      },
      "source": [
        "# 11. Plotting Scatterplot of Income and Age"
      ]
    },
    {
      "cell_type": "code",
      "metadata": {
        "id": "u_egFmrmf9uz",
        "colab": {
          "base_uri": "https://localhost:8080/",
          "height": 295
        },
        "outputId": "dba9bf83-8530-4899-808e-dc7c1e45fcd2"
      },
      "source": [
        "# 11. Using Matplotlib library and/or plotting capabilities of Pandas, create a scatter \n",
        "# plot of the (non-normalized) Income attribute relative to Age. \n",
        "# Be sure that your plot contains appropriate labels for the axes.\n",
        "\n",
        "\n",
        "df.plot(x='income', y='age', kind=\"scatter\", marker = 'o', alpha = 0.5)\n",
        "plt.ylabel('Age')\n",
        "plt.xlabel('Income (USD)')\n",
        "plt.title('Age vs. Income')\n",
        "plt.show()"
      ],
      "execution_count": null,
      "outputs": [
        {
          "output_type": "display_data",
          "data": {
            "image/png": "[encoded data removed]",
            "text/plain": [
              "<Figure size 432x288 with 1 Axes>"
            ]
          },
          "metadata": {
            "tags": [],
            "needs_background": "light"
          }
        }
      ]
    },
    {
      "cell_type": "markdown",
      "metadata": {
        "id": "Kbi-5pi-x9kb"
      },
      "source": [
        "### a. Do these variables seem correlated? Why or why not?"
      ]
    },
    {
      "cell_type": "markdown",
      "metadata": {
        "id": "0Hxshf7dn5qg"
      },
      "source": [
        "\n",
        "Age and income are positively correlated together because the x and y values increase together over time.  When someone is 20 years old, they have the lowest income relatively because they lack experience.  As people gain experience over the years then they can negotiate for a higher income.  "
      ]
    },
    {
      "cell_type": "markdown",
      "metadata": {
        "id": "37M-_MFMySUU"
      },
      "source": [
        "# 12. Creating Histograms for Income Attribute with Different Number of Bins"
      ]
    },
    {
      "cell_type": "code",
      "metadata": {
        "colab": {
          "base_uri": "https://localhost:8080/",
          "height": 573
        },
        "id": "NgvAh92Uo6bl",
        "outputId": "d2feb454-6942-4c10-b19d-0b1315dd6768"
      },
      "source": [
        "# 12. Create histograms for (non-normalized) Income (using 9 bins) and Age (using 15 bins).\n",
        "df.hist(column=['income'], bins=9, alpha=0.5)\n",
        "plt.xlabel('Income')\n",
        "plt.ylabel('Count')\n",
        "plt.title('Histogram of the Distribution of Non-normalized Income')\n",
        "plt.show()\n",
        "\n",
        "df.hist(column=['age'], bins=15, alpha=0.5)\n",
        "plt.xlabel('Age')\n",
        "plt.ylabel('Count')\n",
        "plt.title('Histogram of the Distribution of Non-normalized Age')\n",
        "plt.show()"
      ],
      "execution_count": null,
      "outputs": [
        {
          "output_type": "display_data",
          "data": {
            "image/png": "[encoded data removed]",
            "text/plain": [
              "<Figure size 432x288 with 1 Axes>"
            ]
          },
          "metadata": {
            "tags": [],
            "needs_background": "light"
          }
        },
        {
          "output_type": "display_data",
          "data": {
            "image/png": "[encoded data removed]",
            "text/plain": [
              "<Figure size 432x288 with 1 Axes>"
            ]
          },
          "metadata": {
            "tags": [],
            "needs_background": "light"
          }
        }
      ]
    },
    {
      "cell_type": "markdown",
      "metadata": {
        "id": "b9RBJI3BzcKu"
      },
      "source": [
        "# 13. Bar Graph of Customers per Region"
      ]
    },
    {
      "cell_type": "code",
      "metadata": {
        "colab": {
          "base_uri": "https://localhost:8080/",
          "height": 296
        },
        "id": "f1fwkOmjqAhx",
        "outputId": "a6b24de1-6bbc-46f6-be10-c21690b60ba2"
      },
      "source": [
        "# 13. Using a bar graph, plot the distribution of the values of the region attribute. \n",
        "# I.e., how many times each value occurs in the data.\n",
        "\n",
        "df['region'].value_counts().plot(kind='bar', color = 'orange', rot = 0)\n",
        "plt.xlabel('Region')\n",
        "plt.ylabel('Count')\n",
        "plt.title('Region Distribution Bar Graph')\n",
        "plt.show()\n"
      ],
      "execution_count": null,
      "outputs": [
        {
          "output_type": "display_data",
          "data": {
            "image/png": "[encoded data removed]",
            "text/plain": [
              "<Figure size 432x288 with 1 Axes>"
            ]
          },
          "metadata": {
            "tags": [],
            "needs_background": "light"
          }
        }
      ]
    },
    {
      "cell_type": "markdown",
      "metadata": {
        "id": "Q5xtpMe-6IRK"
      },
      "source": [
        "# 14. Cross Tabulation of Region and PEP attributes"
      ]
    },
    {
      "cell_type": "markdown",
      "metadata": {
        "id": "fwYLEeQj8b2O"
      },
      "source": [
        "### a. Show the results as a 4 by 2 (region x pep) table with entries representing the counts. [Hint: you can use the Pandas crosstab function.] "
      ]
    },
    {
      "cell_type": "code",
      "metadata": {
        "id": "KWT57O4xqytU",
        "colab": {
          "base_uri": "https://localhost:8080/",
          "height": 195
        },
        "outputId": "d4483bb8-e83f-4637-d84f-9d2d8bfb79ae"
      },
      "source": [
        "# 14. Perform a cross-tabulation of the region attribute with the pep attribute. \n",
        "# This requires the aggregation of the occurrences of each pep value (yes or no) \n",
        "# separately for each value of the region attribute\n",
        "# 14a. Crosstab table of counts\n",
        "cross_tab = pd.crosstab(df['region'], df[\"pep\"])\n",
        "cross_tab"
      ],
      "execution_count": null,
      "outputs": [
        {
          "output_type": "execute_result",
          "data": {
            "text/html": [
              "<div>\n",
              "<style scoped>\n",
              "    .dataframe tbody tr th:only-of-type {\n",
              "        vertical-align: middle;\n",
              "    }\n",
              "\n",
              "    .dataframe tbody tr th {\n",
              "        vertical-align: top;\n",
              "    }\n",
              "\n",
              "    .dataframe thead th {\n",
              "        text-align: right;\n",
              "    }\n",
              "</style>\n",
              "<table border=\"1\" class=\"dataframe\">\n",
              "  <thead>\n",
              "    <tr style=\"text-align: right;\">\n",
              "      <th>pep</th>\n",
              "      <th>NO</th>\n",
              "      <th>YES</th>\n",
              "    </tr>\n",
              "    <tr>\n",
              "      <th>region</th>\n",
              "      <th></th>\n",
              "      <th></th>\n",
              "    </tr>\n",
              "  </thead>\n",
              "  <tbody>\n",
              "    <tr>\n",
              "      <th>INNER_CITY</th>\n",
              "      <td>146</td>\n",
              "      <td>123</td>\n",
              "    </tr>\n",
              "    <tr>\n",
              "      <th>RURAL</th>\n",
              "      <td>50</td>\n",
              "      <td>46</td>\n",
              "    </tr>\n",
              "    <tr>\n",
              "      <th>SUBURBAN</th>\n",
              "      <td>28</td>\n",
              "      <td>34</td>\n",
              "    </tr>\n",
              "    <tr>\n",
              "      <th>TOWN</th>\n",
              "      <td>102</td>\n",
              "      <td>71</td>\n",
              "    </tr>\n",
              "  </tbody>\n",
              "</table>\n",
              "</div>"
            ],
            "text/plain": [
              "pep          NO  YES\n",
              "region              \n",
              "INNER_CITY  146  123\n",
              "RURAL        50   46\n",
              "SUBURBAN     28   34\n",
              "TOWN        102   71"
            ]
          },
          "metadata": {
            "tags": []
          },
          "execution_count": 100
        }
      ]
    },
    {
      "cell_type": "markdown",
      "metadata": {
        "id": "UPohNI6B6wwC"
      },
      "source": [
        "### b. Then, using the plot() function in Pandas, create a bar chart graph to visualize the relationships between these sets of variables.\n"
      ]
    },
    {
      "cell_type": "code",
      "metadata": {
        "colab": {
          "base_uri": "https://localhost:8080/",
          "height": 343
        },
        "id": "boP-pZQStsr8",
        "outputId": "f6bd7f1c-cfb7-4962-ade0-cb8f4133c3a9"
      },
      "source": [
        "# 14b. Bar graph of cross tab table\n",
        "\n",
        "cross_tab.plot(kind=\"bar\", color = ['red', 'blue'])\n",
        "plt.xlabel('Region')\n",
        "plt.ylabel('Count')\n",
        "plt.title('Pep vs. Region Bar Graph')\n",
        "plt.show()"
      ],
      "execution_count": null,
      "outputs": [
        {
          "output_type": "display_data",
          "data": {
            "image/png": "[encoded data removed]",
            "text/plain": [
              "<Figure size 432x288 with 1 Axes>"
            ]
          },
          "metadata": {
            "tags": [],
            "needs_background": "light"
          }
        }
      ]
    },
    {
      "cell_type": "markdown",
      "metadata": {
        "id": "mA0nVSr4MJ5e"
      },
      "source": [
        "# 15. Distribution Boxplots by Region"
      ]
    },
    {
      "cell_type": "code",
      "metadata": {
        "id": "Zn25yqdFxDO2",
        "colab": {
          "base_uri": "https://localhost:8080/",
          "height": 682
        },
        "outputId": "da033431-eb01-40ab-abde-9071fce8656b"
      },
      "source": [
        "# 15. Make a new visualization using the data (your choice) and, in a markdown cell, discuss what insights you can draw from this visualization.\n",
        "axes = df.boxplot(column='income', by='region', figsize=(12,10))\n",
        "plt.title('Distributions of Customer Income by Region', fontdict= {'fontsize' : 18})\n",
        "plt.suptitle('')\n",
        "plt.xlabel('Region', fontdict= {'fontsize' : 15})\n",
        "plt.ylabel('Income', fontdict= {'fontsize' : 15})\n",
        "plt.show()"
      ],
      "execution_count": null,
      "outputs": [
        {
          "output_type": "stream",
          "text": [
            "/usr/local/lib/python3.7/dist-packages/numpy/core/_asarray.py:83: VisibleDeprecationWarning: Creating an ndarray from ragged nested sequences (which is a list-or-tuple of lists-or-tuples-or ndarrays with different lengths or shapes) is deprecated. If you meant to do this, you must specify 'dtype=object' when creating the ndarray\n",
            "  return array(a, dtype, copy=False, order=order)\n"
          ],
          "name": "stderr"
        },
        {
          "output_type": "display_data",
          "data": {
            "image/png": "[encoded data removed]",
            "text/plain": [
              "<Figure size 864x720 with 1 Axes>"
            ]
          },
          "metadata": {
            "tags": [],
            "needs_background": "light"
          }
        }
      ]
    },
    {
      "cell_type": "markdown",
      "metadata": {
        "id": "7wnfrk8tzWQX"
      },
      "source": [
        "### Insights\n",
        "Customers that live in the inner city and suburban regions, tend to contain the most top percent of wealthy people; however, rural areas seem to on average contain the higher income, the higher 75 percentile, and the higher base income. This means the top 25% of customers have higher incomes in rural areas. Customers that live in towns, appear to contain more outliers as the diversity in incomes shrinks compared to other regions and as it is more rare to be relatively super wealthy. Not only do they have less variability, but the maximum and minimum incomes are noticeably lower than the rest. This appears to signify that customers who live in towns tend to be closer to one another in terms of income, while customers in the inner city seem to have more of a variety. "
      ]
    }
  ]
}