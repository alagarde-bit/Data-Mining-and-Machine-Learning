{
  "nbformat": 4,
  "nbformat_minor": 0,
  "metadata": {
    "colab": {
      "name": "lab04.ipynb",
      "provenance": [],
      "toc_visible": true,
      "authorship_tag": "ABX9TyP+mKQQq9kD2+Sh5von+6ws",
      "include_colab_link": true
    },
    "kernelspec": {
      "name": "python3",
      "display_name": "Python 3"
    }
  },
  "cells": [
    {
      "cell_type": "markdown",
      "metadata": {
        "id": "view-in-github",
        "colab_type": "text"
      },
      "source": [
        "<a href=\"https://colab.research.google.com/github/alagarde-bit/Data-Mining-and-Machine-Learning/blob/main/lab04.ipynb\" target=\"_parent\"><img src=\"https://colab.research.google.com/assets/colab-badge.svg\" alt=\"Open In Colab\"/></a>"
      ]
    },
    {
      "cell_type": "markdown",
      "metadata": {
        "id": "MiM17bJZECE0"
      },
      "source": [
        "# Lab 04 sci-kit learn K Nearest Neighbors\n",
        "## CSC 401B\n",
        "## Alex Lagarde\n",
        "### 2/22/21\n",
        "\n"
      ]
    },
    {
      "cell_type": "code",
      "metadata": {
        "id": "LInbCwxuE80S"
      },
      "source": [
        "# Loading in Libraries\n",
        "import numpy as np\n",
        "import matplotlib.pyplot as plt\n",
        "import pandas as pd\n",
        "from sklearn.model_selection import train_test_split\n",
        "from sklearn.neighbors import KNeighborsClassifier\n",
        "from sklearn.metrics import accuracy_score\n",
        "from sklearn.metrics import confusion_matrix"
      ],
      "execution_count": null,
      "outputs": []
    },
    {
      "cell_type": "code",
      "metadata": {
        "colab": {
          "base_uri": "https://localhost:8080/",
          "height": 245
        },
        "id": "QHfcVf_jGccp",
        "outputId": "162f17b3-0115-47a2-e85d-25f285dd02b9"
      },
      "source": [
        "# Reading CSV into Pandas DataFrame and displaying the first 6 rows\n",
        "df = pd.read_csv('CS1_survey.csv')\n",
        "df.head(6)"
      ],
      "execution_count": null,
      "outputs": [
        {
          "output_type": "execute_result",
          "data": {
            "text/html": [
              "<div>\n",
              "<style scoped>\n",
              "    .dataframe tbody tr th:only-of-type {\n",
              "        vertical-align: middle;\n",
              "    }\n",
              "\n",
              "    .dataframe tbody tr th {\n",
              "        vertical-align: top;\n",
              "    }\n",
              "\n",
              "    .dataframe thead th {\n",
              "        text-align: right;\n",
              "    }\n",
              "</style>\n",
              "<table border=\"1\" class=\"dataframe\">\n",
              "  <thead>\n",
              "    <tr style=\"text-align: right;\">\n",
              "      <th></th>\n",
              "      <th>ID</th>\n",
              "      <th>Textbook</th>\n",
              "      <th>Videos</th>\n",
              "      <th>Lecture</th>\n",
              "      <th>Discussion</th>\n",
              "      <th>Problems</th>\n",
              "      <th>Proactive</th>\n",
              "      <th>CodeExperience</th>\n",
              "      <th>MotivatedByFun</th>\n",
              "      <th>MotivatedByChallenge</th>\n",
              "      <th>MotivatedByGrades</th>\n",
              "      <th>MotivatedByJob</th>\n",
              "      <th>Grade</th>\n",
              "    </tr>\n",
              "  </thead>\n",
              "  <tbody>\n",
              "    <tr>\n",
              "      <th>0</th>\n",
              "      <td>1</td>\n",
              "      <td>3</td>\n",
              "      <td>4</td>\n",
              "      <td>3</td>\n",
              "      <td>1</td>\n",
              "      <td>2</td>\n",
              "      <td>4</td>\n",
              "      <td>1</td>\n",
              "      <td>4</td>\n",
              "      <td>3</td>\n",
              "      <td>4</td>\n",
              "      <td>4</td>\n",
              "      <td>D</td>\n",
              "    </tr>\n",
              "    <tr>\n",
              "      <th>1</th>\n",
              "      <td>2</td>\n",
              "      <td>2</td>\n",
              "      <td>3</td>\n",
              "      <td>5</td>\n",
              "      <td>4</td>\n",
              "      <td>3</td>\n",
              "      <td>5</td>\n",
              "      <td>1</td>\n",
              "      <td>4</td>\n",
              "      <td>4</td>\n",
              "      <td>4</td>\n",
              "      <td>4</td>\n",
              "      <td>B</td>\n",
              "    </tr>\n",
              "    <tr>\n",
              "      <th>2</th>\n",
              "      <td>3</td>\n",
              "      <td>4</td>\n",
              "      <td>5</td>\n",
              "      <td>5</td>\n",
              "      <td>3</td>\n",
              "      <td>5</td>\n",
              "      <td>3</td>\n",
              "      <td>1</td>\n",
              "      <td>5</td>\n",
              "      <td>4</td>\n",
              "      <td>5</td>\n",
              "      <td>5</td>\n",
              "      <td>C</td>\n",
              "    </tr>\n",
              "    <tr>\n",
              "      <th>3</th>\n",
              "      <td>4</td>\n",
              "      <td>1</td>\n",
              "      <td>5</td>\n",
              "      <td>3</td>\n",
              "      <td>4</td>\n",
              "      <td>3</td>\n",
              "      <td>1</td>\n",
              "      <td>1</td>\n",
              "      <td>4</td>\n",
              "      <td>3</td>\n",
              "      <td>1</td>\n",
              "      <td>3</td>\n",
              "      <td>F</td>\n",
              "    </tr>\n",
              "    <tr>\n",
              "      <th>4</th>\n",
              "      <td>5</td>\n",
              "      <td>4</td>\n",
              "      <td>3</td>\n",
              "      <td>3</td>\n",
              "      <td>2</td>\n",
              "      <td>2</td>\n",
              "      <td>4</td>\n",
              "      <td>2</td>\n",
              "      <td>5</td>\n",
              "      <td>4</td>\n",
              "      <td>5</td>\n",
              "      <td>5</td>\n",
              "      <td>B</td>\n",
              "    </tr>\n",
              "    <tr>\n",
              "      <th>5</th>\n",
              "      <td>6</td>\n",
              "      <td>2</td>\n",
              "      <td>3</td>\n",
              "      <td>4</td>\n",
              "      <td>3</td>\n",
              "      <td>4</td>\n",
              "      <td>3</td>\n",
              "      <td>1</td>\n",
              "      <td>4</td>\n",
              "      <td>4</td>\n",
              "      <td>4</td>\n",
              "      <td>3</td>\n",
              "      <td>D</td>\n",
              "    </tr>\n",
              "  </tbody>\n",
              "</table>\n",
              "</div>"
            ],
            "text/plain": [
              "   ID  Textbook  Videos  ...  MotivatedByGrades  MotivatedByJob  Grade\n",
              "0   1         3       4  ...                  4               4      D\n",
              "1   2         2       3  ...                  4               4      B\n",
              "2   3         4       5  ...                  5               5      C\n",
              "3   4         1       5  ...                  1               3      F\n",
              "4   5         4       3  ...                  5               5      B\n",
              "5   6         2       3  ...                  4               3      D\n",
              "\n",
              "[6 rows x 13 columns]"
            ]
          },
          "metadata": {
            "tags": []
          },
          "execution_count": 77
        }
      ]
    },
    {
      "cell_type": "code",
      "metadata": {
        "colab": {
          "base_uri": "https://localhost:8080/"
        },
        "id": "_i9s2tBeLA1z",
        "outputId": "6377ab97-ca0b-47bd-e215-f97e56c99310"
      },
      "source": [
        "# Filtering out non-numeric data and converting the numeric data into numpy array\n",
        "X = df.drop(['ID', 'Grade'], axis=1).values\n",
        "print('Data:', X)\n",
        "# Converting the class labels to numbers\n",
        "Y = df['Grade'].astype('category').cat.codes.values\n",
        "print('Grade Labels:', Y)\n"
      ],
      "execution_count": null,
      "outputs": [
        {
          "output_type": "stream",
          "text": [
            "Data: [[3 4 3 1 2 4 1 4 3 4 4]\n",
            " [2 3 5 4 3 5 1 4 4 4 4]\n",
            " [4 5 5 3 5 3 1 5 4 5 5]\n",
            " [1 5 3 4 3 1 1 4 3 1 3]\n",
            " [4 3 3 2 2 4 2 5 4 5 5]\n",
            " [2 3 4 3 4 3 1 4 4 4 3]\n",
            " [2 4 3 5 2 5 1 5 4 3 4]\n",
            " [3 2 1 2 3 3 1 3 3 2 2]\n",
            " [3 4 4 5 3 4 1 5 5 5 5]\n",
            " [3 3 4 4 1 5 2 5 3 5 5]\n",
            " [2 4 3 4 3 4 1 5 4 4 4]\n",
            " [2 3 4 3 2 4 2 3 3 3 2]\n",
            " [3 4 4 4 3 5 2 5 5 4 3]\n",
            " [5 4 5 2 3 5 1 5 4 5 5]\n",
            " [3 3 3 3 3 2 1 3 2 3 3]\n",
            " [3 5 5 4 4 3 1 5 5 5 3]\n",
            " [4 5 5 3 5 5 1 5 4 5 4]\n",
            " [2 5 3 4 2 4 1 4 5 4 4]\n",
            " [3 4 4 2 1 2 2 4 2 3 2]\n",
            " [1 4 5 5 4 4 2 5 4 5 5]\n",
            " [1 4 2 3 5 2 5 5 5 4 5]\n",
            " [4 5 4 4 2 2 2 5 3 3 5]\n",
            " [2 3 4 2 4 5 4 5 5 5 4]\n",
            " [4 3 4 5 2 5 1 5 3 5 4]\n",
            " [2 3 1 3 3 3 1 4 3 3 4]\n",
            " [3 5 2 5 3 5 4 5 4 5 4]\n",
            " [3 4 3 4 4 3 1 4 4 4 4]\n",
            " [4 4 1 4 4 3 1 5 3 2 5]\n",
            " [2 5 2 4 4 1 3 4 4 5 4]\n",
            " [2 5 4 3 4 3 1 5 4 5 4]\n",
            " [3 4 2 3 5 3 2 5 5 3 4]\n",
            " [1 5 3 5 5 3 2 5 4 4 4]\n",
            " [4 4 3 5 5 5 4 5 4 4 4]\n",
            " [4 4 3 2 4 1 1 5 5 5 4]\n",
            " [2 4 2 4 4 4 4 4 4 2 3]\n",
            " [1 5 2 3 5 4 1 5 2 5 5]\n",
            " [2 4 4 3 1 4 1 5 3 4 5]\n",
            " [3 4 2 4 5 3 1 5 4 3 4]\n",
            " [2 4 3 4 3 2 2 4 3 3 4]\n",
            " [4 4 5 3 1 4 1 5 3 3 4]\n",
            " [2 2 3 4 4 3 2 5 4 5 5]\n",
            " [2 5 5 4 1 5 1 4 4 5 4]\n",
            " [2 5 2 3 3 3 1 5 4 5 4]\n",
            " [4 5 4 2 1 3 1 5 4 5 4]\n",
            " [3 3 4 4 3 3 1 5 4 5 4]\n",
            " [1 4 4 1 1 4 1 5 3 4 4]\n",
            " [1 5 3 1 1 4 1 5 5 5 5]\n",
            " [3 5 3 2 4 4 3 4 4 3 4]\n",
            " [4 4 1 2 3 2 1 4 3 3 4]\n",
            " [3 4 4 4 2 3 3 4 4 4 4]\n",
            " [3 4 4 5 5 4 5 5 4 5 5]\n",
            " [1 5 4 4 5 3 5 5 4 4 5]\n",
            " [3 4 4 3 2 4 1 4 4 5 5]\n",
            " [2 3 4 3 4 2 1 4 4 3 3]\n",
            " [2 5 4 2 2 4 1 5 3 5 5]]\n",
            "Grade Labels: [3 1 2 4 1 3 1 4 1 1 2 1 1 1 4 2 1 2 3 1 0 1 0 1 3 0 2 2 1 2 1 1 0 4 0 2 2\n",
            " 2 2 2 1 1 3 3 2 3 2 0 3 1 0 0 2 3 2]\n"
          ],
          "name": "stdout"
        }
      ]
    },
    {
      "cell_type": "code",
      "metadata": {
        "colab": {
          "base_uri": "https://localhost:8080/"
        },
        "id": "hmSRg_3kNOi0",
        "outputId": "c83b19df-70f4-405a-b5fd-903c1bb69620"
      },
      "source": [
        "#Splitting data into training and testing datasets\n",
        "Xtrain, Xtest, Ytrain, Ytest = train_test_split(X, Y, test_size = 0.5, random_state = 0)\n",
        "# Creating models using K Nearest Neighbors and tuning K parameter to find best model\n",
        "model = KNeighborsClassifier(n_neighbors=1, metric='euclidean')\n",
        "model.fit(Xtrain, Ytrain)\n",
        "ypred = model.predict(Xtest)\n",
        "print('Accuracy when K=1:',  accuracy_score(Ytest, ypred))\n",
        "\n",
        "model2 = KNeighborsClassifier(n_neighbors=2, metric='euclidean')\n",
        "model2.fit(Xtrain, Ytrain)\n",
        "ypred2 = model2.predict(Xtest)\n",
        "print('Accuracy when K=2:', accuracy_score(Ytest, ypred2))\n",
        "\n",
        "model3 = KNeighborsClassifier(n_neighbors=3, metric='euclidean')\n",
        "model3.fit(Xtrain, Ytrain)\n",
        "ypred3 = model3.predict(Xtest)\n",
        "accuracy_score(Ytest, ypred3)\n",
        "print('Accuracy when K=3:', accuracy_score(Ytest, ypred3))\n",
        "\n",
        "model4 = KNeighborsClassifier(n_neighbors=4, metric='euclidean')\n",
        "model4.fit(Xtrain, Ytrain)\n",
        "ypred4 = model4.predict(Xtest)\n",
        "print('Accuracy when K=4:', accuracy_score(Ytest, ypred4))\n",
        "\n",
        "model5 = KNeighborsClassifier(n_neighbors=5, metric='euclidean')\n",
        "model5.fit(Xtrain, Ytrain)\n",
        "ypred5 = model5.predict(Xtest)\n",
        "print('Accuracy when K=5:', accuracy_score(Ytest, ypred5))"
      ],
      "execution_count": null,
      "outputs": [
        {
          "output_type": "stream",
          "text": [
            "Accuracy when K=1: 0.39285714285714285\n",
            "Accuracy when K=2: 0.5357142857142857\n",
            "Accuracy when K=3: 0.39285714285714285\n",
            "Accuracy when K=4: 0.42857142857142855\n",
            "Accuracy when K=5: 0.42857142857142855\n"
          ],
          "name": "stdout"
        }
      ]
    },
    {
      "cell_type": "code",
      "metadata": {
        "colab": {
          "base_uri": "https://localhost:8080/",
          "height": 294
        },
        "id": "r3vZPQvJtW2M",
        "outputId": "6e4237fe-50c1-4d65-df44-e7d3209194fa"
      },
      "source": [
        "# Displaying accuracy score and the confusion matrix for the most accurate model when K=2\n",
        "print('K=2 Best Model Accuracy:', accuracy_score(Ytest,ypred2))\n",
        "\n",
        "cm = confusion_matrix(Ytest, ypred2)\n",
        "grade_list = sorted(df['Grade'].unique())\n",
        "\n",
        "plt.matshow(cm, cmap='BuPu')\n",
        "plt.colorbar()\n",
        "plt.grid(False)\n",
        "plt.ylabel('True Grade')\n",
        "plt.xlabel('Predicted Grade')\n",
        "plt.xticks(np.arange(len(grade_list)), grade_list)\n",
        "plt.yticks(np.arange(len(grade_list)), grade_list)\n",
        "plt.title('Grade Classification Confusion Matrix', pad=20)\n",
        "\n",
        "for i in range(cm.shape[0]):\n",
        "  for j in range(cm.shape[1]):\n",
        "    color = 'black'\n",
        "    if cm[i, j] > 0.6 * cm.max():\n",
        "      color = 'white'\n",
        "    plt.text(j, i, cm[i, j], ha=\"center\", va=\"center\", color=color)\n",
        "plt.show()"
      ],
      "execution_count": null,
      "outputs": [
        {
          "output_type": "stream",
          "text": [
            "K=2 Best Model Accuracy: 0.5357142857142857\n"
          ],
          "name": "stdout"
        },
        {
          "output_type": "display_data",
          "data": {
            "image/png": "[encoded data removed]",
            "text/plain": [
              "<Figure size 288x288 with 2 Axes>"
            ]
          },
          "metadata": {
            "tags": [],
            "needs_background": "light"
          }
        }
      ]
    },
    {
      "cell_type": "markdown",
      "metadata": {
        "id": "JFMtaaoI5tqe"
      },
      "source": [
        "**Accuracy Assessment**\n",
        "\n",
        "Since random chance tell us our grade classifier would be 20% accurate, due to five grade possibilities and one possible correct answer, our model using the two nearest neighbors outperforms random chance. However, our model indicates to be only 53.6 percent accurate. I do not think anyone would want to rely on a model that classifies future data correctly about half the time. Therefore, I do not believe the accuracy is good with this model. \n",
        "\n",
        "**Confusion Matrix Takeaways**\n",
        "\n",
        "The confusion matrix tells us the two nearest neighbors model is best when predicting A's with a 80% success rate and okay when predicting B's with a success rate of 62.5%. On the other hand, the confusion matrix shows that the model struggles in all other areas. Specifically, it is worst when predicting a C. The prediction is successful just under half of the 13 datapoints tested. Additionally, the model does not successfully predict a D, but there are only two datapoints tested compared to the 13 for C. Therefore, I believe the confusion matrix indicates C to be the worst grade predictor because it is all over the place and it is where most of the data is concentrated."
      ]
    }
  ]
}