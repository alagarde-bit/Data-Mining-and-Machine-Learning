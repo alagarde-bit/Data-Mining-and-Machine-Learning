{
  "nbformat": 4,
  "nbformat_minor": 0,
  "metadata": {
    "colab": {
      "name": "lab15_Lagarde.ipynb",
      "provenance": [],
      "authorship_tag": "ABX9TyNfVcZv9qjKpODqXOS7xdc4",
      "include_colab_link": true
    },
    "kernelspec": {
      "name": "python3",
      "display_name": "Python 3"
    },
    "language_info": {
      "name": "python"
    }
  },
  "cells": [
    {
      "cell_type": "markdown",
      "metadata": {
        "id": "view-in-github",
        "colab_type": "text"
      },
      "source": [
        "<a href=\"https://colab.research.google.com/github/alagarde-bit/Data-Mining-and-Machine-Learning/blob/main/lab15_Lagarde.ipynb\" target=\"_parent\"><img src=\"https://colab.research.google.com/assets/colab-badge.svg\" alt=\"Open In Colab\"/></a>"
      ]
    },
    {
      "cell_type": "markdown",
      "metadata": {
        "id": "Ad7PKyMIBGH2"
      },
      "source": [
        "# Lab 15 Tensorflow\n",
        "## CSC 401 Lab\n",
        "## Alex Lagarde\n",
        "### 4/14/21"
      ]
    },
    {
      "cell_type": "code",
      "metadata": {
        "colab": {
          "base_uri": "https://localhost:8080/"
        },
        "id": "3R_xpB77BWso",
        "outputId": "75b34778-e487-46ee-9058-dfa8a51fe16f"
      },
      "source": [
        "import numpy as np\n",
        "import matplotlib.pyplot as plt\n",
        "import tensorflow as tf\n",
        "print(tf.__version__)"
      ],
      "execution_count": null,
      "outputs": [
        {
          "output_type": "stream",
          "text": [
            "2.4.1\n"
          ],
          "name": "stdout"
        }
      ]
    },
    {
      "cell_type": "code",
      "metadata": {
        "id": "dQpdYN7-CV5I"
      },
      "source": [
        "mnist = tf.keras.datasets.mnist\n",
        "(X_train, y_train), (X_test, y_test) = mnist.load_data()\n",
        "X_train =   X_train / 255.0\n",
        "X_test = X_test / 255.0"
      ],
      "execution_count": null,
      "outputs": []
    },
    {
      "cell_type": "code",
      "metadata": {
        "colab": {
          "base_uri": "https://localhost:8080/"
        },
        "id": "B_ZUotEYC9x_",
        "outputId": "704cd2eb-a34d-4b71-913a-03cdcda75e73"
      },
      "source": [
        "X_train.shape"
      ],
      "execution_count": null,
      "outputs": [
        {
          "output_type": "execute_result",
          "data": {
            "text/plain": [
              "(60000, 28, 28)"
            ]
          },
          "metadata": {
            "tags": []
          },
          "execution_count": 10
        }
      ]
    },
    {
      "cell_type": "code",
      "metadata": {
        "colab": {
          "base_uri": "https://localhost:8080/"
        },
        "id": "ktVL1esWDOjQ",
        "outputId": "9b963be9-ffba-4636-ccb2-d95dcdd191d9"
      },
      "source": [
        "y_train.shape"
      ],
      "execution_count": null,
      "outputs": [
        {
          "output_type": "execute_result",
          "data": {
            "text/plain": [
              "(60000,)"
            ]
          },
          "metadata": {
            "tags": []
          },
          "execution_count": 11
        }
      ]
    },
    {
      "cell_type": "code",
      "metadata": {
        "colab": {
          "base_uri": "https://localhost:8080/"
        },
        "id": "O0XSKMOZDQWy",
        "outputId": "324f0982-71bf-4364-c554-9076f865f22b"
      },
      "source": [
        "X_test.shape"
      ],
      "execution_count": null,
      "outputs": [
        {
          "output_type": "execute_result",
          "data": {
            "text/plain": [
              "(10000, 28, 28)"
            ]
          },
          "metadata": {
            "tags": []
          },
          "execution_count": 12
        }
      ]
    },
    {
      "cell_type": "code",
      "metadata": {
        "colab": {
          "base_uri": "https://localhost:8080/"
        },
        "id": "fxuHRWDcDVC3",
        "outputId": "7985c4c3-fdd9-4085-be59-3ade11ce52ba"
      },
      "source": [
        "y_test.shape"
      ],
      "execution_count": null,
      "outputs": [
        {
          "output_type": "execute_result",
          "data": {
            "text/plain": [
              "(10000,)"
            ]
          },
          "metadata": {
            "tags": []
          },
          "execution_count": 13
        }
      ]
    },
    {
      "cell_type": "code",
      "metadata": {
        "colab": {
          "base_uri": "https://localhost:8080/",
          "height": 281
        },
        "id": "iUdfmCQADcn1",
        "outputId": "40ef8702-c183-42bf-da88-190f7d4de58f"
      },
      "source": [
        "train_idx = 2\n",
        "plt.imshow(X_train[train_idx], cmap = 'gray')\n",
        "plt.title('Label: {}'.format(y_train[train_idx]))\n",
        "plt.show()"
      ],
      "execution_count": null,
      "outputs": [
        {
          "output_type": "display_data",
          "data": {
            "image/png": "[encoded data removed]",
            "text/plain": [
              "<Figure size 432x288 with 1 Axes>"
            ]
          },
          "metadata": {
            "tags": [],
            "needs_background": "light"
          }
        }
      ]
    },
    {
      "cell_type": "code",
      "metadata": {
        "id": "oxTFB6unD-R3"
      },
      "source": [
        "model = tf.keras.models.Sequential([\n",
        "  tf.keras.layers.Flatten(input_shape=(28,28)),\n",
        "  tf.keras.layers.Dense(100, activation='relu'),\n",
        "  tf.keras.layers.Dropout(0.2),\n",
        "  tf.keras.layers.Dense(10)\n",
        "])"
      ],
      "execution_count": null,
      "outputs": []
    },
    {
      "cell_type": "code",
      "metadata": {
        "colab": {
          "base_uri": "https://localhost:8080/"
        },
        "id": "1MvHNx3HFCok",
        "outputId": "32316d68-356a-4e14-e36c-ba73b1e257bb"
      },
      "source": [
        "predictions = model(X_train[:1]).numpy()\n",
        "predictions"
      ],
      "execution_count": null,
      "outputs": [
        {
          "output_type": "execute_result",
          "data": {
            "text/plain": [
              "array([[-0.26291633, -0.12200274,  0.43952703,  0.44463465,  0.98143107,\n",
              "        -0.10748328, -0.39566162, -0.12111012, -0.6341451 ,  0.28713766]],\n",
              "      dtype=float32)"
            ]
          },
          "metadata": {
            "tags": []
          },
          "execution_count": 18
        }
      ]
    },
    {
      "cell_type": "code",
      "metadata": {
        "colab": {
          "base_uri": "https://localhost:8080/"
        },
        "id": "NURuzayOFnCQ",
        "outputId": "61e917a4-341b-4bc5-d373-c47c555e4e9d"
      },
      "source": [
        "tf.nn.softmax(predictions).numpy()"
      ],
      "execution_count": null,
      "outputs": [
        {
          "output_type": "execute_result",
          "data": {
            "text/plain": [
              "array([[0.06540596, 0.07530352, 0.13203365, 0.13270973, 0.22700243,\n",
              "        0.07640486, 0.05727521, 0.07537077, 0.04512266, 0.11337119]],\n",
              "      dtype=float32)"
            ]
          },
          "metadata": {
            "tags": []
          },
          "execution_count": 19
        }
      ]
    },
    {
      "cell_type": "code",
      "metadata": {
        "id": "Z-2Mcui1F06C"
      },
      "source": [
        "loss_fn = tf.keras.losses.SparseCategoricalCrossentropy(from_logits=True)"
      ],
      "execution_count": null,
      "outputs": []
    },
    {
      "cell_type": "code",
      "metadata": {
        "id": "b2OFrXPFF9Pp"
      },
      "source": [
        "model.compile(optimizer='adam',\n",
        "              loss = loss_fn,\n",
        "              metrics = ['accuracy'])"
      ],
      "execution_count": null,
      "outputs": []
    },
    {
      "cell_type": "code",
      "metadata": {
        "colab": {
          "base_uri": "https://localhost:8080/"
        },
        "id": "cZzyGt3-Gwyj",
        "outputId": "8842682a-32a7-435f-d396-5345fe330551"
      },
      "source": [
        "model.fit(X_train, y_train, epochs=9)"
      ],
      "execution_count": null,
      "outputs": [
        {
          "output_type": "stream",
          "text": [
            "Epoch 1/9\n",
            "1875/1875 [==============================] - 4s 2ms/step - loss: 0.5136 - accuracy: 0.8483\n",
            "Epoch 2/9\n",
            "1875/1875 [==============================] - 3s 2ms/step - loss: 0.1650 - accuracy: 0.9512\n",
            "Epoch 3/9\n",
            "1875/1875 [==============================] - 3s 2ms/step - loss: 0.1250 - accuracy: 0.9622\n",
            "Epoch 4/9\n",
            "1875/1875 [==============================] - 3s 2ms/step - loss: 0.1004 - accuracy: 0.9697\n",
            "Epoch 5/9\n",
            "1875/1875 [==============================] - 3s 2ms/step - loss: 0.0839 - accuracy: 0.9746\n",
            "Epoch 6/9\n",
            "1875/1875 [==============================] - 3s 2ms/step - loss: 0.0731 - accuracy: 0.9767\n",
            "Epoch 7/9\n",
            "1875/1875 [==============================] - 3s 2ms/step - loss: 0.0669 - accuracy: 0.9786\n",
            "Epoch 8/9\n",
            "1875/1875 [==============================] - 3s 2ms/step - loss: 0.0613 - accuracy: 0.9802\n",
            "Epoch 9/9\n",
            "1875/1875 [==============================] - 3s 2ms/step - loss: 0.0582 - accuracy: 0.9812\n"
          ],
          "name": "stdout"
        },
        {
          "output_type": "execute_result",
          "data": {
            "text/plain": [
              "<tensorflow.python.keras.callbacks.History at 0x7fddfe729610>"
            ]
          },
          "metadata": {
            "tags": []
          },
          "execution_count": 138
        }
      ]
    },
    {
      "cell_type": "code",
      "metadata": {
        "colab": {
          "base_uri": "https://localhost:8080/"
        },
        "id": "sKG3hJuHG4i0",
        "outputId": "466da4eb-fb95-468f-d3ae-015fdf7e717f"
      },
      "source": [
        "model.evaluate(X_test, y_test, verbose=2)"
      ],
      "execution_count": null,
      "outputs": [
        {
          "output_type": "stream",
          "text": [
            "313/313 - 0s - loss: 0.0691 - accuracy: 0.9807\n"
          ],
          "name": "stdout"
        },
        {
          "output_type": "execute_result",
          "data": {
            "text/plain": [
              "[0.06908488273620605, 0.9807000160217285]"
            ]
          },
          "metadata": {
            "tags": []
          },
          "execution_count": 139
        }
      ]
    },
    {
      "cell_type": "code",
      "metadata": {
        "id": "sZZQGkuoHWYD"
      },
      "source": [
        "probability_model = tf.keras.Sequential([\n",
        "  model,\n",
        "  tf.keras.layers.Softmax()                                       \n",
        "])"
      ],
      "execution_count": null,
      "outputs": []
    },
    {
      "cell_type": "code",
      "metadata": {
        "colab": {
          "base_uri": "https://localhost:8080/",
          "height": 365
        },
        "id": "q3Hs98xsHtqX",
        "outputId": "7990ba6a-7784-43a9-9a30-6433fb52d727"
      },
      "source": [
        "test_idx = 200\n",
        "plt.imshow(X_test[test_idx], cmap = plt.cm.gray)\n",
        "plt.title('Correct Label: {}'.format(y_test[test_idx]))\n",
        "plt.show()\n",
        "print('Predicted Probabilities:')\n",
        "probability_model(X_test[test_idx:test_idx + 1])"
      ],
      "execution_count": null,
      "outputs": [
        {
          "output_type": "display_data",
          "data": {
            "image/png": "[encoded data removed]",
            "text/plain": [
              "<Figure size 432x288 with 1 Axes>"
            ]
          },
          "metadata": {
            "tags": [],
            "needs_background": "light"
          }
        },
        {
          "output_type": "stream",
          "text": [
            "Predicted Probabilities:\n"
          ],
          "name": "stdout"
        },
        {
          "output_type": "execute_result",
          "data": {
            "text/plain": [
              "<tf.Tensor: shape=(1, 10), dtype=float32, numpy=\n",
              "array([[2.8748407e-05, 4.1608271e-07, 1.8586273e-03, 9.9730384e-01,\n",
              "        3.4187337e-11, 7.1755721e-04, 5.4386939e-09, 2.2409692e-08,\n",
              "        9.0741647e-05, 5.1872259e-08]], dtype=float32)>"
            ]
          },
          "metadata": {
            "tags": []
          },
          "execution_count": 29
        }
      ]
    },
    {
      "cell_type": "markdown",
      "metadata": {
        "id": "mX37iKNdIyP5"
      },
      "source": [
        "### Questions\n",
        "\n",
        "1. Using the training data on the original model, I was 91.1% accurate compared to 94.5% when using the testing data. \n",
        "2. The best accuracy I could get was 98.07% when I changed the amount of neurons to 100 and the amount of epochs to 9 without overfitting with a declining test accuracy\n",
        "3. The training data accuracy is 98.12% and the testing data is 98.07%, which means the model could indeed be a bit underfit in fact. There could be more room for the testing data accuracy to grow even if the training data outperforms the testing data. The discrepancy is not enough evidence to suggest that the model is overfit. Through my step-by-step process, I did not observe the testing data accuracy decline. Whenever I saw a decline, I added more neurons or more epochs to increase it again. "
      ]
    }
  ]
}