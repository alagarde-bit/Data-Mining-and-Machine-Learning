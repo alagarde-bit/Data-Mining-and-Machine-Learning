{
  "nbformat": 4,
  "nbformat_minor": 0,
  "metadata": {
    "colab": {
      "name": "lab05.ipynb",
      "provenance": [],
      "authorship_tag": "ABX9TyN8Ntotz4BdliA6d834KpQE",
      "include_colab_link": true
    },
    "kernelspec": {
      "name": "python3",
      "display_name": "Python 3"
    }
  },
  "cells": [
    {
      "cell_type": "markdown",
      "metadata": {
        "id": "view-in-github",
        "colab_type": "text"
      },
      "source": [
        "<a href=\"https://colab.research.google.com/github/alagarde-bit/Data-Mining-and-Machine-Learning/blob/main/lab05.ipynb\" target=\"_parent\"><img src=\"https://colab.research.google.com/assets/colab-badge.svg\" alt=\"Open In Colab\"/></a>"
      ]
    },
    {
      "cell_type": "markdown",
      "metadata": {
        "id": "GtdKiMN0En6L"
      },
      "source": [
        "# Lab 05 sci-kit learn GridSearchCV\n",
        "## CSC 401 Lab\n",
        "## Alex Lagarde\n",
        "### 2/24/21\n",
        "\n"
      ]
    },
    {
      "cell_type": "code",
      "metadata": {
        "id": "qcNgYTdIFQCs"
      },
      "source": [
        "# a\n",
        "import numpy as np\n",
        "import pandas as pd\n",
        "import seaborn as sns\n",
        "import matplotlib.pyplot as plt\n",
        "from sklearn.model_selection import train_test_split, GridSearchCV\n",
        "from sklearn.neighbors import KNeighborsClassifier\n",
        "from sklearn.metrics import confusion_matrix, classification_report"
      ],
      "execution_count": null,
      "outputs": []
    },
    {
      "cell_type": "code",
      "metadata": {
        "colab": {
          "base_uri": "https://localhost:8080/",
          "height": 343
        },
        "id": "7w_3HtZYFf8J",
        "outputId": "791e97c4-ab1d-40fa-e59c-06e82c72c309"
      },
      "source": [
        "# b-c\n",
        "df = pd.read_csv('https://drive.google.com/uc?export=download&id=1izidngrqxWsq-1z-AgOcZIpF5F51CRQr')\n",
        "df.head(10)"
      ],
      "execution_count": null,
      "outputs": [
        {
          "output_type": "execute_result",
          "data": {
            "text/html": [
              "<div>\n",
              "<style scoped>\n",
              "    .dataframe tbody tr th:only-of-type {\n",
              "        vertical-align: middle;\n",
              "    }\n",
              "\n",
              "    .dataframe tbody tr th {\n",
              "        vertical-align: top;\n",
              "    }\n",
              "\n",
              "    .dataframe thead th {\n",
              "        text-align: right;\n",
              "    }\n",
              "</style>\n",
              "<table border=\"1\" class=\"dataframe\">\n",
              "  <thead>\n",
              "    <tr style=\"text-align: right;\">\n",
              "      <th></th>\n",
              "      <th>Cust ID</th>\n",
              "      <th>Gender</th>\n",
              "      <th>Income</th>\n",
              "      <th>Age</th>\n",
              "      <th>Rentals</th>\n",
              "      <th>Avg Per Visit</th>\n",
              "      <th>Genre</th>\n",
              "      <th>Incidentals</th>\n",
              "    </tr>\n",
              "  </thead>\n",
              "  <tbody>\n",
              "    <tr>\n",
              "      <th>0</th>\n",
              "      <td>1</td>\n",
              "      <td>M</td>\n",
              "      <td>45000</td>\n",
              "      <td>25</td>\n",
              "      <td>32</td>\n",
              "      <td>2.5</td>\n",
              "      <td>Action</td>\n",
              "      <td>Yes</td>\n",
              "    </tr>\n",
              "    <tr>\n",
              "      <th>1</th>\n",
              "      <td>2</td>\n",
              "      <td>F</td>\n",
              "      <td>54000</td>\n",
              "      <td>33</td>\n",
              "      <td>12</td>\n",
              "      <td>3.4</td>\n",
              "      <td>Drama</td>\n",
              "      <td>No</td>\n",
              "    </tr>\n",
              "    <tr>\n",
              "      <th>2</th>\n",
              "      <td>3</td>\n",
              "      <td>F</td>\n",
              "      <td>32000</td>\n",
              "      <td>20</td>\n",
              "      <td>42</td>\n",
              "      <td>1.6</td>\n",
              "      <td>Comedy</td>\n",
              "      <td>No</td>\n",
              "    </tr>\n",
              "    <tr>\n",
              "      <th>3</th>\n",
              "      <td>4</td>\n",
              "      <td>F</td>\n",
              "      <td>59000</td>\n",
              "      <td>70</td>\n",
              "      <td>16</td>\n",
              "      <td>4.2</td>\n",
              "      <td>Drama</td>\n",
              "      <td>Yes</td>\n",
              "    </tr>\n",
              "    <tr>\n",
              "      <th>4</th>\n",
              "      <td>5</td>\n",
              "      <td>M</td>\n",
              "      <td>37000</td>\n",
              "      <td>35</td>\n",
              "      <td>25</td>\n",
              "      <td>3.2</td>\n",
              "      <td>Action</td>\n",
              "      <td>Yes</td>\n",
              "    </tr>\n",
              "    <tr>\n",
              "      <th>5</th>\n",
              "      <td>6</td>\n",
              "      <td>M</td>\n",
              "      <td>18000</td>\n",
              "      <td>20</td>\n",
              "      <td>29</td>\n",
              "      <td>1.7</td>\n",
              "      <td>Action</td>\n",
              "      <td>No</td>\n",
              "    </tr>\n",
              "    <tr>\n",
              "      <th>6</th>\n",
              "      <td>7</td>\n",
              "      <td>F</td>\n",
              "      <td>29000</td>\n",
              "      <td>45</td>\n",
              "      <td>19</td>\n",
              "      <td>3.8</td>\n",
              "      <td>Drama</td>\n",
              "      <td>No</td>\n",
              "    </tr>\n",
              "    <tr>\n",
              "      <th>7</th>\n",
              "      <td>8</td>\n",
              "      <td>M</td>\n",
              "      <td>74000</td>\n",
              "      <td>25</td>\n",
              "      <td>31</td>\n",
              "      <td>2.4</td>\n",
              "      <td>Action</td>\n",
              "      <td>Yes</td>\n",
              "    </tr>\n",
              "    <tr>\n",
              "      <th>8</th>\n",
              "      <td>9</td>\n",
              "      <td>M</td>\n",
              "      <td>38000</td>\n",
              "      <td>21</td>\n",
              "      <td>18</td>\n",
              "      <td>2.1</td>\n",
              "      <td>Comedy</td>\n",
              "      <td>No</td>\n",
              "    </tr>\n",
              "    <tr>\n",
              "      <th>9</th>\n",
              "      <td>10</td>\n",
              "      <td>F</td>\n",
              "      <td>65000</td>\n",
              "      <td>40</td>\n",
              "      <td>21</td>\n",
              "      <td>3.3</td>\n",
              "      <td>Drama</td>\n",
              "      <td>No</td>\n",
              "    </tr>\n",
              "  </tbody>\n",
              "</table>\n",
              "</div>"
            ],
            "text/plain": [
              "   Cust ID Gender  Income  Age  Rentals  Avg Per Visit   Genre Incidentals\n",
              "0        1      M   45000   25       32            2.5  Action         Yes\n",
              "1        2      F   54000   33       12            3.4   Drama          No\n",
              "2        3      F   32000   20       42            1.6  Comedy          No\n",
              "3        4      F   59000   70       16            4.2   Drama         Yes\n",
              "4        5      M   37000   35       25            3.2  Action         Yes\n",
              "5        6      M   18000   20       29            1.7  Action          No\n",
              "6        7      F   29000   45       19            3.8   Drama          No\n",
              "7        8      M   74000   25       31            2.4  Action         Yes\n",
              "8        9      M   38000   21       18            2.1  Comedy          No\n",
              "9       10      F   65000   40       21            3.3   Drama          No"
            ]
          },
          "metadata": {
            "tags": []
          },
          "execution_count": 71
        }
      ]
    },
    {
      "cell_type": "code",
      "metadata": {
        "id": "lRJ8Eo5bFpYj"
      },
      "source": [
        "# d\n",
        "y = df['Incidentals']\n",
        "X = df.drop(['Cust ID','Incidentals'], axis= 1)\n",
        "X = pd.get_dummies(X)\n",
        "X = (X - X.min()) / (X.max() - X.min())\n",
        "xtrain, xtest, ytrain, ytest = train_test_split(X,\n",
        "                                                y, \n",
        "                                                test_size = 0.3, \n",
        "                                                random_state = 0)\n",
        "model = KNeighborsClassifier(n_neighbors=2 , metric = 'euclidean')\n",
        "model.fit(xtrain, ytrain)\n",
        "ypred = model.predict(xtest)"
      ],
      "execution_count": null,
      "outputs": []
    },
    {
      "cell_type": "code",
      "metadata": {
        "colab": {
          "base_uri": "https://localhost:8080/",
          "height": 446
        },
        "id": "XD1NqpDNGSpY",
        "outputId": "963d9c56-2ce0-4709-9139-6df37f8d77e6"
      },
      "source": [
        "# e\n",
        "cm = confusion_matrix(ytest, ypred)\n",
        "sns.heatmap(cm, square = True, annot = True, fmt='d',\n",
        "            cbar = True, cmap=\"PuBu\",\n",
        "            xticklabels=model.classes_ ,\n",
        "            yticklabels=model.classes_)\n",
        "plt.ylabel('True Label')\n",
        "plt.xlabel('Predicted Label')\n",
        "plt.title('Incidentals Confusion Matrix')\n",
        "plt.show()\n",
        "# f\n",
        "print(classification_report(ytest, ypred))"
      ],
      "execution_count": null,
      "outputs": [
        {
          "output_type": "display_data",
          "data": {
            "image/png": "[encoded data removed]",
            "text/plain": [
              "<Figure size 432x288 with 2 Axes>"
            ]
          },
          "metadata": {
            "tags": [],
            "needs_background": "light"
          }
        },
        {
          "output_type": "stream",
          "text": [
            "              precision    recall  f1-score   support\n",
            "\n",
            "          No       0.64      1.00      0.78         7\n",
            "         Yes       1.00      0.50      0.67         8\n",
            "\n",
            "    accuracy                           0.73        15\n",
            "   macro avg       0.82      0.75      0.72        15\n",
            "weighted avg       0.83      0.73      0.72        15\n",
            "\n"
          ],
          "name": "stdout"
        }
      ]
    },
    {
      "cell_type": "code",
      "metadata": {
        "id": "Ipnv8FwHKaj0"
      },
      "source": [
        "# g"
      ],
      "execution_count": null,
      "outputs": []
    },
    {
      "cell_type": "markdown",
      "metadata": {
        "id": "KkPScryclRc1"
      },
      "source": [
        "i) The precision for class 0 or when incidentals are no is 0.64 or 64%. This means when the predicted label is No for incidentals bought, 64% of the time the true label is also No.\n",
        "\n",
        "ii) The precision value is calculated by the number of predicted No labels that are actually No labels divided by the total number of predicted No labels that are both actually No and actually Yes. \n",
        "\n",
        "iii) The recall for class 0 or when incidentals bought are Yes is 0.50 or 50%. This means when the true label is Yes for incidentals, 50% of the time the predicted label or incidental is also Yes.\n",
        "\n",
        "iiii) The recall value is calculated by the number of actual yes labels that were predicted yes for incidentals bought divided by the the number of actual yes labels that were predicted either Yes or No for incidentals. \n",
        "\n",
        "iv) The overall accuracy is 0.73 or 73%\n",
        "\n",
        "v) The overall accuracy is calculated by the sum of total number of labels that were predicted no and actually no and the total number of labels predicted yes and actually yes. Then, divide that sum by the total number of predictions."
      ]
    },
    {
      "cell_type": "code",
      "metadata": {
        "colab": {
          "base_uri": "https://localhost:8080/"
        },
        "id": "See9TSp_xWCY",
        "outputId": "2ecdcaa1-2d99-492b-e2cb-b499f83cd890"
      },
      "source": [
        "# h\n",
        "param_grid = {'n_neighbors' : np.arange(1,26),\n",
        "              'metric' : ['euclidean', 'manhattan'],\n",
        "              'weights': ['uniform', 'distance']}\n",
        "grid = GridSearchCV(model, param_grid, cv = 5, verbose = 1)\n",
        "grid.fit(xtrain, ytrain)\n",
        "grid.best_params_"
      ],
      "execution_count": null,
      "outputs": [
        {
          "output_type": "stream",
          "text": [
            "Fitting 5 folds for each of 100 candidates, totalling 500 fits\n"
          ],
          "name": "stdout"
        },
        {
          "output_type": "stream",
          "text": [
            "[Parallel(n_jobs=1)]: Using backend SequentialBackend with 1 concurrent workers.\n",
            "[Parallel(n_jobs=1)]: Done 500 out of 500 | elapsed:    1.6s finished\n"
          ],
          "name": "stderr"
        },
        {
          "output_type": "execute_result",
          "data": {
            "text/plain": [
              "{'metric': 'manhattan', 'n_neighbors': 1, 'weights': 'uniform'}"
            ]
          },
          "metadata": {
            "tags": []
          },
          "execution_count": 75
        }
      ]
    },
    {
      "cell_type": "code",
      "metadata": {
        "colab": {
          "base_uri": "https://localhost:8080/"
        },
        "id": "NDDuTFvcBoII",
        "outputId": "6027b234-f561-45d1-e736-9dc766e7643f"
      },
      "source": [
        "# i\n",
        "model = grid.best_estimator_\n",
        "model.fit(xtrain, ytrain)\n",
        "ypred = model.predict(xtest)\n",
        "print(classification_report(ytest, ypred))"
      ],
      "execution_count": null,
      "outputs": [
        {
          "output_type": "stream",
          "text": [
            "              precision    recall  f1-score   support\n",
            "\n",
            "          No       0.88      1.00      0.93         7\n",
            "         Yes       1.00      0.88      0.93         8\n",
            "\n",
            "    accuracy                           0.93        15\n",
            "   macro avg       0.94      0.94      0.93        15\n",
            "weighted avg       0.94      0.93      0.93        15\n",
            "\n"
          ],
          "name": "stdout"
        }
      ]
    },
    {
      "cell_type": "markdown",
      "metadata": {
        "id": "DFIUbJVoyA7M"
      },
      "source": [
        "j. The final one nearest neighbor model with a manhattan distance parameter and weights set to uniform outperformed my original model of two nearest neighbors with an euclidean distance parameter and weights set to uniform. The final model had an accuracy score of 93% compared to 73% in the original model. \n",
        "\n",
        "k. If we use training data to test our model, our accurary score would be skewed higher. Since we would have learned our model with the training data, obviously the training data will do a better job evaluating its predictability compared to testing data that can help generalize the model to the real world. \n",
        "\n"
      ]
    }
  ]
}